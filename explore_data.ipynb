{
 "cells": [
  {
   "attachments": {},
   "cell_type": "markdown",
   "id": "a2e5b0ed",
   "metadata": {},
   "source": [
    "# Explore datasets"
   ]
  },
  {
   "cell_type": "code",
   "execution_count": null,
   "id": "dcbfbbeb",
   "metadata": {},
   "outputs": [],
   "source": [
    "import json\n",
    "import glob\n",
    "import csv\n",
    "import pandas as pd\n",
    "from pathlib import Path\n",
    "import matplotlib.pyplot as plt\n",
    "\n",
    "import seaborn as sns\n",
    "sns.set(style=\"white\")\n",
    "sns.set_context(\"notebook\", font_scale=1.2, rc={\"lines.linewidth\": 2.5})\n",
    "\n",
    "from tqdm.auto import tqdm\n",
    "tqdm.pandas()"
   ]
  },
  {
   "attachments": {},
   "cell_type": "markdown",
   "id": "4fde314c",
   "metadata": {},
   "source": [
    "## 1. BLBooks"
   ]
  },
  {
   "cell_type": "code",
   "execution_count": null,
   "id": "0fbe2f94",
   "metadata": {},
   "outputs": [],
   "source": [
    "blb_df = pd.read_csv(\"data/blb_processed/bl_books_machine_words.csv\")\n",
    "blb_df_machine = blb_df[blb_df.hits.str.contains(\"(?i)machine\")]\n",
    "\n",
    "print(\"Mentions of machines in the corpus:\", blb_df_machine.shape[0])"
   ]
  },
  {
   "cell_type": "code",
   "execution_count": null,
   "id": "8a307114",
   "metadata": {},
   "outputs": [],
   "source": [
    "blb_metadata_df = pd.read_csv(\"data/blb_processed/BLB_metadata.csv\")\n",
    "\n",
    "# Add year to blb machine df:\n",
    "def add_blb_year(bookpath, blb_metadata):\n",
    "    bookid = int(bookpath.split(\"_\")[0])\n",
    "    try:\n",
    "        year_to_return = int(blb_metadata[blb_metadata[\"identifier\"] == bookid].iloc[0].date)\n",
    "    except ValueError:\n",
    "        year_to_return = 0\n",
    "    return year_to_return\n",
    "\n",
    "if not Path(\"data/blb_processed/blb_machine_with_year.pkl\").exists():\n",
    "    blb_df_machine[\"year\"] = blb_df_machine.progress_apply(lambda row : add_blb_year(row['article_path'], blb_metadata_df), axis = 1)\n",
    "    blb_df_machine.to_pickle(\"data/blb_processed/blb_machine_with_year.pkl\")"
   ]
  },
  {
   "cell_type": "code",
   "execution_count": null,
   "id": "1610c57c",
   "metadata": {},
   "outputs": [],
   "source": [
    "blb_df_machine = pd.read_pickle(\"data/blb_processed/blb_machine_with_year.pkl\")\n",
    "print(\"Mentions of machines in the corpus:\", blb_df_machine.shape[0])"
   ]
  },
  {
   "cell_type": "code",
   "execution_count": null,
   "id": "d824026a",
   "metadata": {},
   "outputs": [],
   "source": [
    "blb_df_machine = blb_df_machine[blb_df_machine[\"year\"] > 0]\n",
    "print(\"Mentions of machines in the corpus:\", blb_df_machine.shape[0])"
   ]
  },
  {
   "cell_type": "code",
   "execution_count": null,
   "id": "7df4bd21",
   "metadata": {},
   "outputs": [],
   "source": [
    "blb_df_machine_synparsed = pd.read_pickle(\"data/blb_processed/BLB_machine_synparsed.pkl\")\n",
    "print(\"Sentences with machines we keep:\", blb_df_machine_synparsed.shape[0])"
   ]
  },
  {
   "attachments": {},
   "cell_type": "markdown",
   "id": "e7a59c3c",
   "metadata": {},
   "source": [
    "## 2. HMD"
   ]
  },
  {
   "cell_type": "code",
   "execution_count": null,
   "id": "e2708e2c",
   "metadata": {},
   "outputs": [],
   "source": [
    "main_hmd_machine_df = pd.DataFrame(columns = ['Unnamed: 0', 'article_path', 'prev_sentence', 'target_sentence', 'next_sentence', 'hits'])\n",
    "\n",
    "count_machines = 0\n",
    "for i in glob.glob(\"data/hmd_processed/hmd_data_machine_words/*\"):\n",
    "    hmd_df_tmp = pd.read_csv(i)\n",
    "    hmd_df_machine = hmd_df_tmp[hmd_df_tmp.hits.str.contains(\"(?i)machine\")]\n",
    "    count_machines += hmd_df_machine.shape[0]\n",
    "    main_hmd_machine_df = pd.concat([main_hmd_machine_df, hmd_df_machine], ignore_index=False)\n",
    "    \n",
    "print(\"Mentions of machines in the corpus:\", count_machines)\n",
    "print(\"Mentions of machines in the corpus:\", main_hmd_machine_df.shape[0])"
   ]
  },
  {
   "cell_type": "code",
   "execution_count": null,
   "id": "433fcbee",
   "metadata": {},
   "outputs": [],
   "source": [
    "hmd_metadata = pd.read_csv(\"data/hmd_processed/HMD_metadata_all.csv\")\n",
    "\n",
    "# Add year to hmd machine df:\n",
    "def add_hmd_year(artpath, hmd_metadata):\n",
    "    lastpart = artpath.split(\"/\")[-1]\n",
    "    no_ext = lastpart.split(\".txt\")[0]\n",
    "    publcode, issuecode, artcode = no_ext.split(\"_\")\n",
    "    publcode = int(publcode)\n",
    "    issuecode = int(issuecode)\n",
    "    relv_df = hmd_metadata[(hmd_metadata[\"issue_code\"] == issuecode) & (hmd_metadata[\"publication_code\"] == publcode)]\n",
    "    artdate = relv_df.iloc[0].issue_date\n",
    "    artyear = int(artdate.split(\"-\")[0])\n",
    "    return artyear\n",
    "\n",
    "if not Path(\"data/hmd_processed/hmd_machine_with_year.pkl\").exists():\n",
    "    main_hmd_machine_df[\"year\"] = main_hmd_machine_df.progress_apply(lambda row : add_hmd_year(row['article_path'], hmd_metadata), axis = 1)\n",
    "    main_hmd_machine_df.to_pickle(\"data/hmd_processed/hmd_machine_with_year.pkl\")"
   ]
  },
  {
   "cell_type": "code",
   "execution_count": null,
   "id": "6b3f4b5f",
   "metadata": {},
   "outputs": [],
   "source": [
    "hmd_df_machine = pd.read_pickle(\"data/hmd_processed/hmd_machine_with_year.pkl\")\n",
    "hmd_df_machine.shape[0]"
   ]
  },
  {
   "cell_type": "code",
   "execution_count": null,
   "id": "220754aa",
   "metadata": {},
   "outputs": [],
   "source": [
    "hmd_df_machine_synparsed = pd.read_pickle(\"data/hmd_processed/HMD_machine_synparsed.pkl\")\n",
    "print(\"Sentences with machines we keep:\", hmd_df_machine_synparsed.shape[0])"
   ]
  },
  {
   "cell_type": "code",
   "execution_count": null,
   "id": "3da23f8e",
   "metadata": {},
   "outputs": [],
   "source": [
    "hmd_df_machine.head()"
   ]
  },
  {
   "attachments": {},
   "cell_type": "markdown",
   "id": "fd914030",
   "metadata": {},
   "source": [
    "## 3. JSA"
   ]
  },
  {
   "cell_type": "code",
   "execution_count": null,
   "id": "56995c4a",
   "metadata": {},
   "outputs": [],
   "source": [
    "jsa_metadata = pd.read_csv(\"data/jsa_processed/JSA_metadata.tsv\", sep=\"\\t\")\n",
    "\n",
    "journal = \"The Journal of the Society of Arts\"\n",
    "print(journal)\n",
    "print(\"First article:\", jsa_metadata[jsa_metadata[\"journal_title\"] == journal].year.min())\n",
    "print(\"Last article:\", jsa_metadata[jsa_metadata[\"journal_title\"] == journal].year.max())\n",
    "print(\"Number articles:\", len(jsa_metadata[jsa_metadata[\"journal_title\"] == journal].article_id.unique()))\n",
    "print(\"Number volumes:\", len(jsa_metadata[jsa_metadata[\"journal_title\"] == journal].volume.unique()))\n",
    "print()\n",
    "\n",
    "journal = \"Transactions of the Society, Instituted at London, for the Encouragement of Arts, Manufactures, and Commerce\"\n",
    "print(journal)\n",
    "print(\"First article:\", jsa_metadata[jsa_metadata[\"journal_title\"] == journal].year.min())\n",
    "print(\"Last article:\", jsa_metadata[jsa_metadata[\"journal_title\"] == journal].year.max())\n",
    "print(\"Number articles:\", len(jsa_metadata[jsa_metadata[\"journal_title\"] == journal].article_id.unique()))\n",
    "print(\"Number volumes:\", len(jsa_metadata[jsa_metadata[\"journal_title\"] == journal].volume.unique()))\n",
    "\n",
    "print(\"\\nJointly:\", len(jsa_metadata.article_id.unique()))"
   ]
  },
  {
   "cell_type": "code",
   "execution_count": null,
   "id": "778d0a02",
   "metadata": {},
   "outputs": [],
   "source": [
    "jsa_df = pd.read_csv(\"data/jsa_processed/JSA_machine.tsv\", sep=\"\\t\")\n",
    "jsa_df_machine = jsa_df[jsa_df.targetExpression.str.contains(\"(?i)machine\")]\n",
    "\n",
    "print(\"Mentions of machines in the corpus:\", jsa_df_machine.shape[0])"
   ]
  },
  {
   "cell_type": "code",
   "execution_count": null,
   "id": "4b4fdc63",
   "metadata": {},
   "outputs": [],
   "source": [
    "jsa_df_machine_synparsed = pd.read_pickle(\"data/jsa_processed/JSA_machine_synparsed.pkl\")\n",
    "print(\"Sentences with machines we keep:\", jsa_df_machine_synparsed.shape[0])"
   ]
  },
  {
   "attachments": {},
   "cell_type": "markdown",
   "id": "7c4cc4c3",
   "metadata": {},
   "source": [
    "## ALL"
   ]
  },
  {
   "cell_type": "code",
   "execution_count": null,
   "id": "20b72b33",
   "metadata": {},
   "outputs": [],
   "source": [
    "jsa_df_machine_bert = pd.read_pickle(\"data/jsa_processed/JSA_machine_synparsed_pred_bert.pkl\")\n",
    "hmd_df_machine_bert = pd.read_pickle(\"data/hmd_processed/HMD_machine_synparsed_pred_bert.pkl\")\n",
    "blb_df_machine_bert = pd.read_pickle(\"data/blb_processed/BLB_machine_synparsed_pred_bert.pkl\")"
   ]
  },
  {
   "cell_type": "code",
   "execution_count": null,
   "id": "d8aab21e",
   "metadata": {},
   "outputs": [],
   "source": [
    "dict_synparsed = {\"jsa\": jsa_df_machine_synparsed,\n",
    "                  \"hmd\": hmd_df_machine_synparsed,\n",
    "                  \"blb\": blb_df_machine_synparsed}\n",
    "\n",
    "dict_machines = {\"jsa\": jsa_df_machine,\n",
    "                 \"hmd\": hmd_df_machine,\n",
    "                 \"blb\": blb_df_machine}\n",
    "\n",
    "dict_bert = {\"jsa\": jsa_df_machine_bert,\n",
    "             \"hmd\": hmd_df_machine_bert,\n",
    "             \"blb\": blb_df_machine_bert}"
   ]
  },
  {
   "cell_type": "code",
   "execution_count": null,
   "id": "49be633c",
   "metadata": {},
   "outputs": [],
   "source": [
    "blb_df_machine_synparsed[\"year\"] = blb_df_machine_synparsed[\"date\"]"
   ]
  },
  {
   "cell_type": "code",
   "execution_count": null,
   "id": "94607db1",
   "metadata": {},
   "outputs": [],
   "source": [
    "dys_all = dict() # Dictionary sentences per year using all data\n",
    "dys_filt = dict() # Dictionary sentences per year using filtered data\n",
    "\n",
    "for kd in dict_synparsed:\n",
    "    for y in dict_machines[kd].year:\n",
    "        if y in range(1783, 1909):\n",
    "            if kd in dys_all:\n",
    "                if y in dys_all[kd]:\n",
    "                    dys_all[kd][y] += 1\n",
    "                else:\n",
    "                    dys_all[kd][y] = 1\n",
    "            else:\n",
    "                dys_all[kd] = {y : 1}\n",
    "    for y in dict_synparsed[kd].year:\n",
    "        if y in range(1783, 1909):\n",
    "            if kd in dys_filt:\n",
    "                if y in dys_filt[kd]:\n",
    "                    dys_filt[kd][y] += 1\n",
    "                else:\n",
    "                    dys_filt[kd][y] = 1\n",
    "            else:\n",
    "                dys_filt[kd] = {y : 1}"
   ]
  },
  {
   "cell_type": "code",
   "execution_count": null,
   "id": "11c9a7ee",
   "metadata": {},
   "outputs": [],
   "source": [
    "corpus_to_title = {\"JSA\": \"Journal of the Society of Arts\",\n",
    "                   \"HMD\": \"Heritage Made Digital newspapers\",\n",
    "                   \"BLB\": \"Microsoft British Library books\"}"
   ]
  },
  {
   "cell_type": "code",
   "execution_count": null,
   "id": "264ea98a",
   "metadata": {},
   "outputs": [],
   "source": [
    "for k in dys_all:\n",
    "    comb_df = pd.DataFrame({'all machine sentences':pd.Series(dys_all[k]),'filtered sentences':pd.Series(dys_filt[k])})\n",
    "    comb_df.plot(title=corpus_to_title[k.upper()], xlabel=\"Year\", ylabel=\"Sentences\")\n",
    "    plt.tight_layout() \n",
    "    plt.savefig(\"figures/\" + k + \".png\", dpi=300)\n",
    "    comb_df.to_csv(\"figures/\" + k + \"_numbers.tsv\", sep=\"\\t\")"
   ]
  }
 ],
 "metadata": {
  "kernelspec": {
   "display_name": "Python (py38_histLM)",
   "language": "python",
   "name": "py38_histlm"
  },
  "language_info": {
   "codemirror_mode": {
    "name": "ipython",
    "version": 3
   },
   "file_extension": ".py",
   "mimetype": "text/x-python",
   "name": "python",
   "nbconvert_exporter": "python",
   "pygments_lexer": "ipython3",
   "version": "3.8.10"
  }
 },
 "nbformat": 4,
 "nbformat_minor": 5
}
