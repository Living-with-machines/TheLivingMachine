{
 "cells": [
  {
   "cell_type": "code",
   "execution_count": 1,
   "id": "5e365ba8",
   "metadata": {},
   "outputs": [],
   "source": [
    "%load_ext autoreload\n",
    "%autoreload 2"
   ]
  },
  {
   "cell_type": "code",
   "execution_count": 2,
   "id": "7d87b7e5",
   "metadata": {},
   "outputs": [],
   "source": [
    "import pandas as pd"
   ]
  },
  {
   "cell_type": "code",
   "execution_count": 3,
   "id": "ed0c02fb",
   "metadata": {},
   "outputs": [],
   "source": [
    "from utils import process_jsa\n",
    "from utils import process_rsc"
   ]
  },
  {
   "cell_type": "markdown",
   "id": "f3c8eb6b",
   "metadata": {},
   "source": [
    "#### Process  the JSA corpus"
   ]
  },
  {
   "cell_type": "code",
   "execution_count": 4,
   "id": "f64a441e",
   "metadata": {},
   "outputs": [],
   "source": [
    "input_path = \"../../workspace/data/\" # Path where JSA data is located\n",
    "output_path = \"data/jsa_processed/\"\n",
    "overwrite = False # If False, run the code only if output has not been created.\n",
    "                  # If True, run the code regardless.\n",
    "\n",
    "process_jsa.parse_corpus(input_path, output_path, overwrite)"
   ]
  },
  {
   "cell_type": "markdown",
   "id": "722d4638",
   "metadata": {},
   "source": [
    "#### Process the RSC corpus\n",
    "\n",
    "Data downloaded from https://fedora.clarin-d.uni-saarland.de/rsc_v6/access.html#download.\n",
    "\n",
    "We are using:\n",
    "* TEI-formatted corpus [v6.0.4](https://fedora.clarin-d.uni-saarland.de/rsc_v6/data/texts/Royal_Society_Corpus_open_v6.0.4_texts_tei.zip) (as separate files).\n",
    "* Corresponding metadata [v6.0.4](https://fedora.clarin-d.uni-saarland.de/rsc_v6/data/Royal_Society_Corpus_open_v6.0.4_meta.tsv.zip)."
   ]
  },
  {
   "cell_type": "code",
   "execution_count": 5,
   "id": "b9ce2ea4",
   "metadata": {},
   "outputs": [],
   "source": [
    "input_path = \"../../workspace/data/RSC/\" # Path where JSA data is located\n",
    "output_path = \"data/rsc_processed/\"\n",
    "overwrite = False # If False, run the code only if output has not been created.\n",
    "                  # If True, run the code regardless.\n",
    "\n",
    "process_rsc.parse_corpus(input_path, output_path, overwrite)"
   ]
  },
  {
   "cell_type": "markdown",
   "id": "1122d57c",
   "metadata": {},
   "source": [
    "#### Get machines"
   ]
  },
  {
   "cell_type": "code",
   "execution_count": null,
   "id": "99441ce4",
   "metadata": {},
   "outputs": [],
   "source": []
  }
 ],
 "metadata": {
  "kernelspec": {
   "display_name": "Python (py38_histLM)",
   "language": "python",
   "name": "py38_histlm"
  },
  "language_info": {
   "codemirror_mode": {
    "name": "ipython",
    "version": 3
   },
   "file_extension": ".py",
   "mimetype": "text/x-python",
   "name": "python",
   "nbconvert_exporter": "python",
   "pygments_lexer": "ipython3",
   "version": "3.8.10"
  }
 },
 "nbformat": 4,
 "nbformat_minor": 5
}
