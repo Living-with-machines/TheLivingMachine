{
 "cells": [
  {
   "cell_type": "code",
   "execution_count": null,
   "id": "3fca1f31",
   "metadata": {},
   "outputs": [],
   "source": [
    "from pathlib import Path\n",
    "import pandas as pd\n",
    "from spacy.tokenizer import Tokenizer\n",
    "from spacy.lang.en import English\n",
    "nlp = English()\n",
    "# Create a blank Tokenizer with just the English vocab\n",
    "tokenizer = Tokenizer(nlp.vocab)\n",
    "\n",
    "import matplotlib.pyplot as plt\n",
    "import seaborn as sns\n",
    "\n",
    "sns.set(style=\"white\")\n",
    "sns.set_context(\"notebook\", font_scale=1.2, rc={\"lines.linewidth\": 2.5})"
   ]
  },
  {
   "cell_type": "code",
   "execution_count": null,
   "id": "082fc9eb",
   "metadata": {},
   "outputs": [],
   "source": [
    "metadata = pd.read_csv(\"data/rsc_processed/RSC_metadata.tsv\", sep=\"\\t\")"
   ]
  },
  {
   "cell_type": "code",
   "execution_count": null,
   "id": "b3a80084",
   "metadata": {},
   "outputs": [],
   "source": [
    "def count_words(rscid):\n",
    "    overall_tokens = 0\n",
    "    with open(\"data/rsc_processed/RSC_content/\" + rscid + \".txt\") as fr:\n",
    "        for s in fr.readlines():\n",
    "            overall_tokens += len(tokenizer(s))\n",
    "    return overall_tokens\n",
    "\n",
    "if not Path(\"data/rsc_processed/RSC_metadata_wc.tsv\").is_file():\n",
    "    metadata[\"WC\"] =  metadata.apply(lambda x: count_words(x.id), axis=1)\n",
    "    metadata.to_csv(\"data/rsc_processed/RSC_metadata_wc.tsv\", sep=\"\\t\", index=False)"
   ]
  },
  {
   "cell_type": "code",
   "execution_count": null,
   "id": "8705b0d9",
   "metadata": {},
   "outputs": [],
   "source": [
    "metadata = pd.read_csv(\"data/rsc_processed/RSC_metadata_wc.tsv\", sep=\"\\t\")"
   ]
  },
  {
   "cell_type": "code",
   "execution_count": null,
   "id": "aac07b8d",
   "metadata": {},
   "outputs": [],
   "source": [
    "metadata.head()"
   ]
  }
 ],
 "metadata": {
  "kernelspec": {
   "display_name": "Python (py38_histLM)",
   "language": "python",
   "name": "py38_histlm"
  },
  "language_info": {
   "codemirror_mode": {
    "name": "ipython",
    "version": 3
   },
   "file_extension": ".py",
   "mimetype": "text/x-python",
   "name": "python",
   "nbconvert_exporter": "python",
   "pygments_lexer": "ipython3",
   "version": "3.8.10"
  }
 },
 "nbformat": 4,
 "nbformat_minor": 5
}
