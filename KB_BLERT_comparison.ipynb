{
 "cells": [
  {
   "cell_type": "code",
   "execution_count": 1,
   "metadata": {},
   "outputs": [
    {
     "data": {
      "text/plain": [
       "1000"
      ]
     },
     "execution_count": 1,
     "metadata": {},
     "output_type": "execute_result"
    }
   ],
   "source": [
    "%matplotlib inline\n",
    "import pandas as pd\n",
    "pd.options.display.max_colwidth = 1000\n",
    "pd.options.display.max_colwidth"
   ]
  },
  {
   "cell_type": "code",
   "execution_count": 2,
   "metadata": {},
   "outputs": [],
   "source": [
    "import rbo\n",
    "# https://towardsdatascience.com/rbo-v-s-kendall-tau-to-compare-ranked-lists-of-items-8776c5182899\n",
    "#https://ragrawal.wordpress.com/2013/01/18/comparing-ranked-list/\n",
    "#!pip3 install rbo\n",
    "# 0 means disjoint and 1 means identical ranked lists\n",
    "def compute_rbo_row(row):\n",
    "    l1 = [l[0] for l in row['pred_bert_1760_1900']]\n",
    "    l2 = [l[0] for l in row['pred_bert_contemporary']]\n",
    "    return rbo.RankingSimilarity(l1, l2).rbo(p=.9)"
   ]
  },
  {
   "cell_type": "code",
   "execution_count": 3,
   "metadata": {},
   "outputs": [
    {
     "name": "stdout",
     "output_type": "stream",
     "text": [
      "blb_artisan_clusters.json hmd_machine_clusters.json jsa_woman_clusters.json\r\n",
      "blb_boy_clusters.json     hmd_slave_clusters.json   rsc_artisan_clusters.json\r\n",
      "blb_machine_clusters.json hmd_woman_clusters.json   rsc_boy_clusters.json\r\n",
      "blb_slave_clusters.json   jsa_artisan_clusters.json rsc_machine_clusters.json\r\n",
      "blb_woman_clusters.json   jsa_boy_clusters.json     rsc_slave_clusters.json\r\n",
      "hmd_artisan_clusters.json jsa_machine_clusters.json rsc_woman_clusters.json\r\n",
      "hmd_boy_clusters.json     jsa_slave_clusters.json\r\n"
     ]
    }
   ],
   "source": [
    "!ls json_format"
   ]
  },
  {
   "cell_type": "code",
   "execution_count": 19,
   "metadata": {},
   "outputs": [],
   "source": [
    "corpus = 'hmd'\n",
    "word1,word2 = 'machine','slave'#'slave'#'woman'# 'artisan'\n",
    "df_1 = pd.read_json(f'json_format/{corpus}_{word1}_clusters.json')"
   ]
  },
  {
   "cell_type": "code",
   "execution_count": 20,
   "metadata": {},
   "outputs": [
    {
     "data": {
      "text/plain": [
       "pred_bert_1760_1900         [[wheel, 0.19], [machine, 0.16], [tap, 0.11], [pump, 0.08], [engine, 0.07], [apparatus, 0.02], [process, 0.02], [machinery, 0.02], [hopper, 0.02], [mill, 0.01], [matt, 0.01], [arrangement, 0.01], [method, 0.01], [pipe, 0.01], [agent, 0.01], [current, 0.01], [principle, 0.01], [plant, 0.01], [gear, 0.01], [liquid, 0.0]]\n",
       "pred_bert_contemporary    [[machine, 0.05], [invention, 0.04], [engine, 0.04], [instrument, 0.04], [method, 0.03], [vessel, 0.02], [kind, 0.02], [mill, 0.02], [process, 0.02], [type, 0.02], [design, 0.01], [work, 0.01], [device, 0.01], [system, 0.01], [canal, 0.01], [patent, 0.01], [apparatus, 0.01], [one, 0.01], [operation, 0.01], [craft, 0.01]]\n",
       "Name: 0, dtype: object"
      ]
     },
     "execution_count": 20,
     "metadata": {},
     "output_type": "execute_result"
    }
   ],
   "source": [
    "df_1.loc[0,['pred_bert_1760_1900', 'pred_bert_contemporary']]"
   ]
  },
  {
   "cell_type": "code",
   "execution_count": null,
   "metadata": {},
   "outputs": [],
   "source": []
  },
  {
   "cell_type": "code",
   "execution_count": 21,
   "metadata": {},
   "outputs": [
    {
     "data": {
      "text/plain": [
       "Index(['item_code', 'issue_code', 'publication_code', 'prevSentence',\n",
       "       'currentSentence', 'markedSentence', 'maskedSentence', 'nextSentence',\n",
       "       'targetExpression', 'article_path', 'item_id', 'issue_id',\n",
       "       'publication_id', 'issue_date', 'item_type', 'word_count',\n",
       "       'ocr_quality_mean', 'title', 'location', 'year', 'sentId', 'synt',\n",
       "       'query_label', 'pred_bert_1760_1900', 'pred_bert_contemporary',\n",
       "       'machine_1760_1900', 'boy_1760_1900', 'girl_1760_1900',\n",
       "       'slave_1760_1900', 'artisan_1760_1900', 'woman_1760_1900',\n",
       "       'machine_contemporary', 'boy_contemporary', 'girl_contemporary',\n",
       "       'slave_contemporary', 'artisan_contemporary', 'woman_contemporary'],\n",
       "      dtype='object')"
      ]
     },
     "execution_count": 21,
     "metadata": {},
     "output_type": "execute_result"
    }
   ],
   "source": [
    "df_1.columns"
   ]
  },
  {
   "cell_type": "code",
   "execution_count": 22,
   "metadata": {},
   "outputs": [],
   "source": [
    "df_2 = pd.read_json(f'json_format/{corpus}_{word2}_clusters.json')"
   ]
  },
  {
   "cell_type": "code",
   "execution_count": 23,
   "metadata": {},
   "outputs": [
    {
     "data": {
      "text/plain": [
       "<matplotlib.axes._subplots.AxesSubplot at 0x1b827a2d0>"
      ]
     },
     "execution_count": 23,
     "metadata": {},
     "output_type": "execute_result"
    },
    {
     "data": {
      "image/png": "[encoded data removed]",
      "text/plain": [
       "<Figure size 432x288 with 1 Axes>"
      ]
     },
     "metadata": {
      "needs_background": "light"
     },
     "output_type": "display_data"
    }
   ],
   "source": [
    "((df_1.woman_1760_1900 - df_1.woman_1760_1900.mean()) / df_1.woman_1760_1900.std()).plot(kind='density')\n",
    "((df_2.machine_1760_1900 - df_2.machine_1760_1900.mean()) / df_2.machine_1760_1900.std()).plot(kind='density')"
   ]
  },
  {
   "cell_type": "code",
   "execution_count": 24,
   "metadata": {},
   "outputs": [
    {
     "data": {
      "text/plain": [
       "(0.19762420810674178, 0.16769739617287233)"
      ]
     },
     "execution_count": 24,
     "metadata": {},
     "output_type": "execute_result"
    }
   ],
   "source": [
    "df_1.woman_1760_1900.mean(), df_2.machine_1760_1900.mean()"
   ]
  },
  {
   "cell_type": "code",
   "execution_count": 25,
   "metadata": {},
   "outputs": [],
   "source": [
    "df_1['rbo'] = df_1.apply(compute_rbo_row,axis=1)\n",
    "df_2['rbo'] = df_2.apply(compute_rbo_row,axis=1)"
   ]
  },
  {
   "cell_type": "code",
   "execution_count": 26,
   "metadata": {},
   "outputs": [
    {
     "data": {
      "text/plain": [
       "<matplotlib.axes._subplots.AxesSubplot at 0x1b8257190>"
      ]
     },
     "execution_count": 26,
     "metadata": {},
     "output_type": "execute_result"
    },
    {
     "data": {
      "image/png": "[encoded data removed]",
      "text/plain": [
       "<Figure size 432x288 with 1 Axes>"
      ]
     },
     "metadata": {
      "needs_background": "light"
     },
     "output_type": "display_data"
    }
   ],
   "source": [
    "df_1['rbo'].plot(kind='density')\n",
    "df_2['rbo'].plot(kind='density')"
   ]
  },
  {
   "cell_type": "code",
   "execution_count": 27,
   "metadata": {},
   "outputs": [
    {
     "name": "stdout",
     "output_type": "stream",
     "text": [
      "0.14048235161145045\n"
     ]
    }
   ],
   "source": [
    "exec(f\"print(df_1.rbo.corr(df_1.{word1}_contemporary - df_1.{word1}_1760_1900))\")"
   ]
  },
  {
   "cell_type": "code",
   "execution_count": 28,
   "metadata": {},
   "outputs": [
    {
     "data": {
      "text/plain": [
       "(0.3926369479153354, 0.5197303654479274)"
      ]
     },
     "execution_count": 28,
     "metadata": {},
     "output_type": "execute_result"
    }
   ],
   "source": [
    "df_1.rbo.corr(df_1.machine_1760_1900),df_1.rbo.corr(df_1.machine_contemporary)"
   ]
  },
  {
   "cell_type": "code",
   "execution_count": 29,
   "metadata": {},
   "outputs": [
    {
     "data": {
      "text/plain": [
       "(0.39500198823940086, 0.4699530370287537)"
      ]
     },
     "execution_count": 29,
     "metadata": {},
     "output_type": "execute_result"
    }
   ],
   "source": [
    "df_1.rbo.corr(df_1.woman_1760_1900),df_1.rbo.corr(df_1.woman_contemporary)"
   ]
  },
  {
   "cell_type": "code",
   "execution_count": 30,
   "metadata": {},
   "outputs": [
    {
     "name": "stdout",
     "output_type": "stream",
     "text": [
      "0.1649316886815127\n"
     ]
    }
   ],
   "source": [
    "exec(f\"print(df_2.rbo.corr(df_2.{word2}_contemporary - df_2.{word2}_1760_1900))\")"
   ]
  },
  {
   "cell_type": "code",
   "execution_count": 31,
   "metadata": {},
   "outputs": [
    {
     "data": {
      "text/plain": [
       "item_code                                                                                                                                                                                                                                                                                                                                                                                                                                                                                                                                                                                                                                                                                                                                                                                                                                                                                                                                                                                                                                                 art0045\n",
       "issue_code                                                                                                                                                                                                                                                                                                                                                                                                                                                                                                                                                                                                                                                                                                                                                                                                                                                                                                                                                                                                                                               18640727\n",
       "publication_code                                                                                                                                                                                                                                                                                                                                                                                                                                                                                                                                                                                                                                                                                                                                                                                                                                                                                                                                                                                                                                             2194\n",
       "prevSentence                                                                                                                                                                                                                                                                                                                                                                                                                                                                                                                                                                                                                                                                                                                                                                                                                                                                KILLED BY MACHINERY.—Oa Monday afternoon a dreadful accident occurred to a boy named Pat ' M 'Claren , aged 16 , whilst tending a machine at a curled hair manufactory , Manchester .\n",
       "currentSentence                                                                                                                                                                                                                                                                                                                                                                                                                                                                                                                                                                                                                                                                                                                                                                                              M 'Claren was doing something in front of tho machine, when his hand got entangled in the wheels of the machinery, and before assistance could be rendered, or the engine stopped, his head had also got among the wheels and was crushed to pieces.\n",
       "markedSentence                                                                                                                                                                                                                                                                                                                                                                                                                                                                                                                                                                                                                                                                                                                                                                                  M 'Claren was doing something in front of tho $***machine***$ , when his hand got entangled in the wheels of the machinery , and before assistance could be rendered , or the engine stopped , his head had also got among the wheels and was crushed to pieces .\n",
       "maskedSentence                                                                                                                                                                                                                                                                                                                                                                                                                                                                                                                                                                                                                                                                                                                                                                                           M 'Claren was doing something in front of tho [MASK] , when his hand got entangled in the wheels of the machinery , and before assistance could be rendered , or the engine stopped , his head had also got among the wheels and was crushed to pieces .\n",
       "nextSentence                                                                                                                                                                                                                                                                                                                                                                                                                                                                                                                                                                                                                                                                                                                                                                                                                                                                                               RELIGIOUS LIBERTY IN NAPLES.—The municipality of Naples have sold a piece of land to the Jews , which these latter intend to convert into a cemetery .\n",
       "targetExpression                                                                                                                                                                                                                                                                                                                                                                                                                                                                                                                                                                                                                                                                                                                                                                                                                                                                                                                                                                                                                                          machine\n",
       "article_path                                                                                                                                                                                                                                                                                                                                                                                                                                                                                                                                                                                                                                                                                                                                                                                                                                                                                                                                                                                                       0002194/1864/0727/0002194_18640727_art0045.txt\n",
       "item_id                                                                                                                                                                                                                                                                                                                                                                                                                                                                                                                                                                                                                                                                                                                                                                                                                                                                                                                                                                                                                                                   2124101\n",
       "issue_id                                                                                                                                                                                                                                                                                                                                                                                                                                                                                                                                                                                                                                                                                                                                                                                                                                                                                                                                                                                                                                                    36780\n",
       "publication_id                                                                                                                                                                                                                                                                                                                                                                                                                                                                                                                                                                                                                                                                                                                                                                                                                                                                                                                                                                                                                                                  7\n",
       "issue_date                                                                                                                                                                                                                                                                                                                                                                                                                                                                                                                                                                                                                                                                                                                                                                                                                                                                                                                                                                                                                                             1864-07-27\n",
       "item_type                                                                                                                                                                                                                                                                                                                                                                                                                                                                                                                                                                                                                                                                                                                                                                                                                                                                                                                                                                                                                                                 ARTICLE\n",
       "word_count                                                                                                                                                                                                                                                                                                                                                                                                                                                                                                                                                                                                                                                                                                                                                                                                                                                                                                                                                                                                                                                    601\n",
       "ocr_quality_mean                                                                                                                                                                                                                                                                                                                                                                                                                                                                                                                                                                                                                                                                                                                                                                                                                                                                                                                                                                                                                                           0.8903\n",
       "title                                                                                                                                                                                                                                                                                                                                                                                                                                                                                                                                                                                                                                                                                                                                                                                                                                                                                                                                                                                                                                                    The Sun.\n",
       "location                                                                                                                                                                                                                                                                                                                                                                                                                                                                                                                                                                                                                                                                                                                                                                                                                                                                                                                                                                                                                                          London, England\n",
       "year                                                                                                                                                                                                                                                                                                                                                                                                                                                                                                                                                                                                                                                                                                                                                                                                                                                                                                                                                                                                                                                         1864\n",
       "sentId                                                                                                                                                                                                                                                                                                                                                                                                                                                                                                                                                                                                                                                                                                                                                                                                                                                                                                                                                                                                                                                      46413\n",
       "synt                      [[M, PROPN, poss, Claren], [', PUNCT, case, M], [Claren, PROPN, nsubj, doing], [was, AUX, aux, doing], [doing, VERB, ROOT, doing], [something, PRON, dobj, doing], [in, ADP, prep, doing], [front, NOUN, pobj, in], [of, ADP, prep, front], [tho, PROPN, compound, machine], [machine, NOUN, pobj, of], [,, PUNCT, punct, doing], [when, ADV, advmod, entangled], [his, PRON, poss, hand], [hand, NOUN, nsubjpass, entangled], [got, AUX, auxpass, entangled], [entangled, VERB, advcl, doing], [in, ADP, prep, entangled], [the, DET, det, wheels], [wheels, NOUN, pobj, in], [of, ADP, prep, wheels], [the, DET, det, machinery], [machinery, NOUN, pobj, of], [,, PUNCT, punct, doing], [and, CCONJ, cc, doing], [before, ADP, mark, rendered], [assistance, NOUN, nsubjpass, rendered], [could, AUX, aux, rendered], [be, AUX, auxpass, rendered], [rendered, VERB, conj, doing], [,, PUNCT, punct, rendered], [or, CCONJ, cc, rendered], [the, DET, det, engine], [engine, NOUN, nsubj, stopped], [stopped, VERB, conj, rendere...\n",
       "query_label                                                                                                                                                                                                                                                                                                                                                                                                                                                                                                                                                                                                                                                                                                                                                                                                                                                                                                                                                                                                                                                  pobj\n",
       "pred_bert_1760_1900                                                                                                                                                                                                                                                                                                                                                                                                                                                                                                                                                                                                                                                                                                                        [[machine, 0.73], [engine, 0.13], [machinery, 0.06], [machines, 0.02], [wheel, 0.02], [mill, 0.01], [engines, 0.0], [forge, 0.0], [factory, 0.0], [wheels, 0.0], [carriage, 0.0], [boiler, 0.0], [apparatus, 0.0], [horse, 0.0], [locomotive, 0.0], [works, 0.0], [fire, 0.0], [work, 0.0], [shop, 0.0], [train, 0.0]]\n",
       "pred_bert_contemporary                                                                                                                                                                                                                                                                                                                                                                                                                                                                                                                                                                                                                                                                                                                                                           [[##s, 0.21], [##th, 0.1], [', 0.07], [##n, 0.06], [##e, 0.05], [##t, 0.03], [##es, 0.02], [##ir, 0.02], [##ns, 0.01], [##ne, 0.01], [##ms, 0.01], [##on, 0.01], [##nd, 0.01], [##o, 0.01], [##ome, 0.01], [##y, 0.01], [##burn, 0.01], [##rry, 0.0], [##nde, 0.0], [##be, 0.0]]\n",
       "machine_1760_1900                                                                                                                                                                                                                                                                                                                                                                                                                                                                                                                                                                                                                                                                                                                                                                                                                                                                                                                                                                                                                                           0.905\n",
       "boy_1760_1900                                                                                                                                                                                                                                                                                                                                                                                                                                                                                                                                                                                                                                                                                                                                                                                                                                                                                                                                                                                                                                               0.208\n",
       "girl_1760_1900                                                                                                                                                                                                                                                                                                                                                                                                                                                                                                                                                                                                                                                                                                                                                                                                                                                                                                                                                                                                                                              0.208\n",
       "slave_1760_1900                                                                                                                                                                                                                                                                                                                                                                                                                                                                                                                                                                                                                                                                                                                                                                                                                                                                                                                                                                                                                                             0.241\n",
       "artisan_1760_1900                                                                                                                                                                                                                                                                                                                                                                                                                                                                                                                                                                                                                                                                                                                                                                                                                                                                                                                                                                                                                                           0.362\n",
       "woman_1760_1900                                                                                                                                                                                                                                                                                                                                                                                                                                                                                                                                                                                                                                                                                                                                                                                                                                                                                                                                                                                                                                             0.286\n",
       "machine_contemporary                                                                                                                                                                                                                                                                                                                                                                                                                                                                                                                                                                                                                                                                                                                                                                                                                                                                                                                                                                                                                                          0.0\n",
       "boy_contemporary                                                                                                                                                                                                                                                                                                                                                                                                                                                                                                                                                                                                                                                                                                                                                                                                                                                                                                                                                                                                                                              0.0\n",
       "girl_contemporary                                                                                                                                                                                                                                                                                                                                                                                                                                                                                                                                                                                                                                                                                                                                                                                                                                                                                                                                                                                                                                             0.0\n",
       "slave_contemporary                                                                                                                                                                                                                                                                                                                                                                                                                                                                                                                                                                                                                                                                                                                                                                                                                                                                                                                                                                                                                                            0.0\n",
       "artisan_contemporary                                                                                                                                                                                                                                                                                                                                                                                                                                                                                                                                                                                                                                                                                                                                                                                                                                                                                                                                                                                                                                          0.0\n",
       "woman_contemporary                                                                                                                                                                                                                                                                                                                                                                                                                                                                                                                                                                                                                                                                                                                                                                                                                                                                                                                                                                                                                                            0.0\n",
       "rbo                                                                                                                                                                                                                                                                                                                                                                                                                                                                                                                                                                                                                                                                                                                                                                                                                                                                                                                                                                                                                                                           0.0\n",
       "Name: 26151, dtype: object"
      ]
     },
     "execution_count": 31,
     "metadata": {},
     "output_type": "execute_result"
    }
   ],
   "source": [
    "df_1.sort_values('rbo').iloc[0]"
   ]
  },
  {
   "cell_type": "code",
   "execution_count": 32,
   "metadata": {},
   "outputs": [
    {
     "data": {
      "text/plain": [
       "item_code                                                                                                                                                                                                                                                                                                                                                                                                                                                                                                                                                                                                                                                                                                                                                                                                                                                                                                                                                                                                                                                 art0024\n",
       "issue_code                                                                                                                                                                                                                                                                                                                                                                                                                                                                                                                                                                                                                                                                                                                                                                                                                                                                                                                                                                                                                                               18180102\n",
       "publication_code                                                                                                                                                                                                                                                                                                                                                                                                                                                                                                                                                                                                                                                                                                                                                                                                                                                                                                                                                                                                                                             2647\n",
       "prevSentence                                                                                                                                                                                                                                                                                                                                                                                                                                                                                                                                                                                                                                                                                                                                                                                                                                                                                                                                                                   We can all , if we please , retire to the inglorious ease of fireside enjoyments .\n",
       "currentSentence                                                                                                                                                                                                                                                                                                                                                                                                                                                                                                                                                                                                                                                                                                                                                                  But I am sure that I strike a respousive chord in the heart of every one that hears tne, when I say, in the generous words of Wooler, if the present wretched Ministers are to make still further inroads on our freedom, \" I had rather become their martyr thin their slave. \"\n",
       "markedSentence                                                                                                                                                                                                                                                                                                                                                                                                                                                                                                                                                                                                                                                                                                                                                      But I am sure that I strike a respousive chord in the heart of every one that hears tne , when I say , in the generous words of Wooler , if the present wretched Ministers are to make still further inroads on our freedom , \" I had rather become their martyr thin their $***slave***$ . \"\n",
       "maskedSentence                                                                                                                                                                                                                                                                                                                                                                                                                                                                                                                                                                                                                                                                                                                                                             But I am sure that I strike a respousive chord in the heart of every one that hears tne , when I say , in the generous words of Wooler , if the present wretched Ministers are to make still further inroads on our freedom , \" I had rather become their martyr thin their [MASK] . \"\n",
       "nextSentence                                                                                                                                                                                                                                                                                                                                                                                                                                                                                                                                                                                                                                                                                                                                                     tit tfie It of this Opposition In order in punish him for his delinquencies , . decrease his indium & in a Ces►aty Election , The Mi • & sten of the day attempted , by / akin / admit * , of r the legal masim , \" males teaspes laletaus regi , \" to rob him of a considerable landed estate .\n",
       "targetExpression                                                                                                                                                                                                                                                                                                                                                                                                                                                                                                                                                                                                                                                                                                                                                                                                                                                                                                                                                                                                                                            slave\n",
       "article_path                                                                                                                                                                                                                                                                                                                                                                                                                                                                                                                                                                                                                                                                                                                                                                                                                                                                                                                                                                                                       0002647/1818/0102/0002647_18180102_art0024.txt\n",
       "item_id                                                                                                                                                                                                                                                                                                                                                                                                                                                                                                                                                                                                                                                                                                                                                                                                                                                                                                                                                                                                                                                    100887\n",
       "issue_id                                                                                                                                                                                                                                                                                                                                                                                                                                                                                                                                                                                                                                                                                                                                                                                                                                                                                                                                                                                                                                                     2756\n",
       "publication_id                                                                                                                                                                                                                                                                                                                                                                                                                                                                                                                                                                                                                                                                                                                                                                                                                                                                                                                                                                                                                                                  1\n",
       "issue_date                                                                                                                                                                                                                                                                                                                                                                                                                                                                                                                                                                                                                                                                                                                                                                                                                                                                                                                                                                                                                                             1818-01-02\n",
       "item_type                                                                                                                                                                                                                                                                                                                                                                                                                                                                                                                                                                                                                                                                                                                                                                                                                                                                                                                                                                                                                                                 ARTICLE\n",
       "word_count                                                                                                                                                                                                                                                                                                                                                                                                                                                                                                                                                                                                                                                                                                                                                                                                                                                                                                                                                                                                                                                   3832\n",
       "ocr_quality_mean                                                                                                                                                                                                                                                                                                                                                                                                                                                                                                                                                                                                                                                                                                                                                                                                                                                                                                                                                                                                                                           0.7668\n",
       "title                                                                                                                                                                                                                                                                                                                                                                                                                                                                                                                                                                                                                                                                                                                                                                                                                                                                                                                                                                                                                                              The Statesman.\n",
       "location                                                                                                                                                                                                                                                                                                                                                                                                                                                                                                                                                                                                                                                                                                                                                                                                                                                                                                                                                                                                                                          London, England\n",
       "year                                                                                                                                                                                                                                                                                                                                                                                                                                                                                                                                                                                                                                                                                                                                                                                                                                                                                                                                                                                                                                                         1818\n",
       "sentId                                                                                                                                                                                                                                                                                                                                                                                                                                                                                                                                                                                                                                                                                                                                                                                                                                                                                                                                                                                                                                                        522\n",
       "synt                      [[But, CCONJ, cc, am], [I, PRON, nsubj, am], [am, AUX, ccomp, become], [sure, ADJ, acomp, am], [that, SCONJ, mark, strike], [I, PRON, nsubj, strike], [strike, VERB, ccomp, sure], [a, DET, det, chord], [respousive, ADJ, amod, chord], [chord, NOUN, dobj, strike], [in, ADP, prep, strike], [the, DET, det, heart], [heart, NOUN, pobj, in], [of, ADP, prep, heart], [every, DET, det, one], [one, NOUN, pobj, of], [that, DET, nsubj, hears], [hears, VERB, relcl, one], [tne, NOUN, dobj, hears], [,, PUNCT, punct, strike], [when, ADV, advmod, say], [I, PRON, nsubj, say], [say, VERB, advcl, strike], [,, PUNCT, punct, say], [in, ADP, prep, are], [the, DET, det, words], [generous, ADJ, amod, words], [words, NOUN, pobj, in], [of, ADP, prep, words], [Wooler, PROPN, pobj, of], [,, PUNCT, punct, are], [if, SCONJ, mark, wretched], [the, DET, det, present], [present, ADJ, nsubj, wretched], [wretched, ADJ, amod, Ministers], [Ministers, PROPN, nsubj, are], [are, AUX, ccomp, say], [to, PART, aux, make], [mak...\n",
       "query_label                                                                                                                                                                                                                                                                                                                                                                                                                                                                                                                                                                                                                                                                                                                                                                                                                                                                                                                                                                                                                                                  dobj\n",
       "pred_bert_1760_1900                                                                                                                                                                                                                                                                                                                                                                                                                                                                                                                                                                                                                                                                                                   [[slave, 0.29], [tool, 0.12], [tyrant, 0.09], [victim, 0.08], [friend, 0.04], [leader, 0.03], [assassin, 0.02], [ruin, 0.02], [prisoner, 0.02], [murderer, 0.02], [captive, 0.01], [traitor, 0.01], [prey, 0.01], [exile, 0.01], [defender, 0.01], [judge, 0.01], [enemy, 0.01], [benefactor, 0.01], [protector, 0.01], [instrument, 0.01]]\n",
       "pred_bert_contemporary                                                                                                                                                                                                                                                                                                                                                                                                                                                                                                                                                                                                                                                                                                          [[ranks, 0.04], [line, 0.04], [bounds, 0.03], [veil, 0.03], [conscience, 0.02], [tongues, 0.02], [throat, 0.01], [walls, 0.01], [blood, 0.01], [lines, 0.01], [patience, 0.01], [lips, 0.01], [shoulders, 0.01], [fingers, 0.01], [rope, 0.01], [strings, 0.01], [tears, 0.01], [congregation, 0.01], [chain, 0.01], [way, 0.01]]\n",
       "machine_1760_1900                                                                                                                                                                                                                                                                                                                                                                                                                                                                                                                                                                                                                                                                                                                                                                                                                                                                                                                                                                                                                                            0.19\n",
       "boy_1760_1900                                                                                                                                                                                                                                                                                                                                                                                                                                                                                                                                                                                                                                                                                                                                                                                                                                                                                                                                                                                                                                               0.229\n",
       "girl_1760_1900                                                                                                                                                                                                                                                                                                                                                                                                                                                                                                                                                                                                                                                                                                                                                                                                                                                                                                                                                                                                                                               0.22\n",
       "slave_1760_1900                                                                                                                                                                                                                                                                                                                                                                                                                                                                                                                                                                                                                                                                                                                                                                                                                                                                                                                                                                                                                                             0.485\n",
       "artisan_1760_1900                                                                                                                                                                                                                                                                                                                                                                                                                                                                                                                                                                                                                                                                                                                                                                                                                                                                                                                                                                                                                                           0.235\n",
       "woman_1760_1900                                                                                                                                                                                                                                                                                                                                                                                                                                                                                                                                                                                                                                                                                                                                                                                                                                                                                                                                                                                                                                             0.262\n",
       "machine_contemporary                                                                                                                                                                                                                                                                                                                                                                                                                                                                                                                                                                                                                                                                                                                                                                                                                                                                                                                                                                                                                                        0.066\n",
       "boy_contemporary                                                                                                                                                                                                                                                                                                                                                                                                                                                                                                                                                                                                                                                                                                                                                                                                                                                                                                                                                                                                                                            0.074\n",
       "girl_contemporary                                                                                                                                                                                                                                                                                                                                                                                                                                                                                                                                                                                                                                                                                                                                                                                                                                                                                                                                                                                                                                           0.074\n",
       "slave_contemporary                                                                                                                                                                                                                                                                                                                                                                                                                                                                                                                                                                                                                                                                                                                                                                                                                                                                                                                                                                                                                                          0.062\n",
       "artisan_contemporary                                                                                                                                                                                                                                                                                                                                                                                                                                                                                                                                                                                                                                                                                                                                                                                                                                                                                                                                                                                                                                        0.055\n",
       "woman_contemporary                                                                                                                                                                                                                                                                                                                                                                                                                                                                                                                                                                                                                                                                                                                                                                                                                                                                                                                                                                                                                                          0.078\n",
       "rbo                                                                                                                                                                                                                                                                                                                                                                                                                                                                                                                                                                                                                                                                                                                                                                                                                                                                                                                                                                                                                                                           0.0\n",
       "Name: 18245, dtype: object"
      ]
     },
     "execution_count": 32,
     "metadata": {},
     "output_type": "execute_result"
    }
   ],
   "source": [
    "# get sentences for mask woman the changed considerably\n",
    "df_2.sort_values('rbo').iloc[5]"
   ]
  },
  {
   "cell_type": "code",
   "execution_count": 35,
   "metadata": {},
   "outputs": [
    {
     "name": "stderr",
     "output_type": "stream",
     "text": [
      "/usr/local/lib/python3.7/site-packages/ipykernel_launcher.py:5: UserWarning: Boolean Series key will be reindexed to match DataFrame index.\n",
      "  \"\"\"\n"
     ]
    },
    {
     "data": {
      "text/html": [
       "<div>\n",
       "<style scoped>\n",
       "    .dataframe tbody tr th:only-of-type {\n",
       "        vertical-align: middle;\n",
       "    }\n",
       "\n",
       "    .dataframe tbody tr th {\n",
       "        vertical-align: top;\n",
       "    }\n",
       "\n",
       "    .dataframe thead th {\n",
       "        text-align: right;\n",
       "    }\n",
       "</style>\n",
       "<table border=\"1\" class=\"dataframe\">\n",
       "  <thead>\n",
       "    <tr style=\"text-align: right;\">\n",
       "      <th></th>\n",
       "      <th>currentSentence</th>\n",
       "      <th>pred_bert_1760_1900</th>\n",
       "      <th>pred_bert_contemporary</th>\n",
       "    </tr>\n",
       "  </thead>\n",
       "  <tbody>\n",
       "    <tr>\n",
       "      <th>28961</th>\n",
       "      <td>Tha machine is. intended to print 46,000 sheets, or 23,000 perfect copies per hour, which is a greater number than has over yet been accomplished : and it also cats the paper into sheets, folds them, and records the number printed.</td>\n",
       "      <td>[[machine, 0.87], [roller, 0.06], [apparatus, 0.01], [machinery, 0.01], [paper, 0.0], [machines, 0.0], [process, 0.0], [##r, 0.0], [##v, 0.0], [press, 0.0], [instrument, 0.0], [##y, 0.0], [cylinder, 0.0], [##u, 0.0], [##c, 0.0], [system, 0.0], [engine, 0.0], [it, 0.0], [rack, 0.0], [frame, 0.0]]</td>\n",
       "      <td>[[##w, 0.14], [., 0.12], [-, 0.03], [##m, 0.03], [##les, 0.03], [', 0.02], [##l, 0.02], [##lia, 0.02], [##p, 0.02], [##ng, 0.02], [##le, 0.02], [##o, 0.01], [##wing, 0.01], [##k, 0.01], [##d, 0.01], [,, 0.01], [##ms, 0.01], [##me, 0.01], [##pa, 0.01], [##ck, 0.01]]</td>\n",
       "    </tr>\n",
       "    <tr>\n",
       "      <th>29741</th>\n",
       "      <td>The machine must have upset, as shortly afterwards the poor fellow W 9! found lying on the road quite insensible, with the handle of the machine jammed in his mouth.</td>\n",
       "      <td>[[machine, 0.96], [horse, 0.01], [carriage, 0.01], [engine, 0.0], [vehicle, 0.0], [gig, 0.0], [wheel, 0.0], [cart, 0.0], [machinery, 0.0], [fly, 0.0], [wagon, 0.0], [animal, 0.0], [machines, 0.0], [pony, 0.0], [wheels, 0.0], [boat, 0.0], [bicycle, 0.0], [thing, 0.0], [car, 0.0], [coach, 0.0]]</td>\n",
       "      <td>[[accident, 0.34], [ride, 0.06], [engine, 0.04], [crash, 0.04], [noise, 0.03], [trip, 0.02], [impact, 0.02], [collision, 0.02], [shock, 0.01], [driver, 0.01], [wind, 0.01], [action, 0.01], [weather, 0.01], [incident, 0.01], [car, 0.01], [explosion, 0.01], [injury, 0.01], [fall, 0.0], [horse, 0.0], [machine, 0.0]]</td>\n",
       "    </tr>\n",
       "    <tr>\n",
       "      <th>26445</th>\n",
       "      <td>Men are not machines, neither are they children whom we can hope to train to unreasoning obedience; and if the acts of the masters are founded in justice and reason, • ard only dictated by the exigencies of trade, it is not increased intelligence that will make them dispute them.</td>\n",
       "      <td>[[men, 0.55], [slaves, 0.07], [masters, 0.05], [fools, 0.05], [children, 0.03], [teachers, 0.03], [parents, 0.02], [women, 0.02], [ignorant, 0.01], [scholars, 0.01], [intelligent, 0.01], [taught, 0.01], [servants, 0.01], [wise, 0.0], [schools, 0.0], [instructed, 0.0], [boys, 0.0], [idiots, 0.0], [rulers, 0.0], [philosophers, 0.0]]</td>\n",
       "      <td>[[teachers, 0.11], [slaves, 0.07], [children, 0.07], [masters, 0.04], [men, 0.02], [adults, 0.02], [educated, 0.02], [learned, 0.02], [fools, 0.02], [free, 0.01], [equal, 0.01], [educators, 0.01], [animals, 0.01], [ignorant, 0.01], [intelligent, 0.01], [taught, 0.01], [boys, 0.01], [wise, 0.01], [women, 0.01], [servants, 0.01]]</td>\n",
       "    </tr>\n",
       "    <tr>\n",
       "      <th>34592</th>\n",
       "      <td>\" Ing ana ttall in th a day, a potato ° getting machine ( an entirely thl,;\"tina, ) was tried in a field near Sankey Bridge, tatars. ? nesse was witnessed by a large body of specghly ° Perations were pronounced quite successful 13ell 'ast latisfactory.</td>\n",
       "      <td>[[,, 0.65], [potato, 0.09], [machine, 0.04], [experiment, 0.03], [crop, 0.03], [process, 0.01], [operation, 0.01], [;, 0.01], [trial, 0.0], [plant, 0.0], [\", 0.0], [success, 0.0], [., 0.0], [one, 0.0], [disease, 0.0], [potatoes, 0.0], [experiments, 0.0], [failure, 0.0], [industry, 0.0], [vegetable, 0.0]]</td>\n",
       "      <td>[[cold, 0.03], [good, 0.03], [better, 0.02], [sick, 0.01], [worse, 0.01], [old, 0.01], [infected, 0.01], [ripe, 0.01], [eaten, 0.01], [small, 0.01], [green, 0.01], [wet, 0.01], [lost, 0.01], [out, 0.01], [bad, 0.01], [round, 0.01], [in, 0.01], [there, 0.01], [burnt, 0.01], [hot, 0.01]]</td>\n",
       "    </tr>\n",
       "    <tr>\n",
       "      <th>32347</th>\n",
       "      <td>Almost immediately, however, Conductor Smug Wood arrived with the Royal Society 's fire escape, end having pitched his machine tn front of the building, he courageously ascended it and brought down in rafety the Rye Persons whose lives were so much jeoardised. pun rraehtag the ground the conductor was voctfereuely cheered.</td>\n",
       "      <td>[[tent, 0.8300000000000001], [tents, 0.05], [camp, 0.02], [flag, 0.01], [balloon, 0.0], [quarters, 0.0], [position, 0.0], [car, 0.0], [station, 0.0], [platform, 0.0], [apparatus, 0.0], [lot, 0.0], [house, 0.0], [bed, 0.0], [hut, 0.0], [ground, 0.0], [lantern, 0.0], [horse, 0.0], [self, 0.0], [boat, 0.0]]</td>\n",
       "      <td>[[tent, 0.08], [horse, 0.06], [ladder, 0.06], [balloon, 0.04], [torch, 0.02], [bomb, 0.02], [hat, 0.02], [flag, 0.02], [locomotive, 0.01], [gun, 0.01], [body, 0.01], [wagon, 0.01], [parachute, 0.01], [car, 0.01], [engine, 0.01], [train, 0.01], [carriage, 0.01], [baton, 0.01], [fire, 0.01], [chair, 0.01]]</td>\n",
       "    </tr>\n",
       "    <tr>\n",
       "      <th>26149</th>\n",
       "      <td>The phaeton was destroyed, but, cra horse escaped uninjured, the trams having come av, tai 't the body of the machine and set it free.—Scotsman. bag A NORFOLK MANSLAUGHTER.—An inquest been held at Scottow, Norfolk, this week, with II; ference to the death of a young labourer named 1111, , Morter.</td>\n",
       "      <td>[[horse, 0.44], [animal, 0.12], [man, 0.09], [rider, 0.03], [beast, 0.03], [driver, 0.02], [victim, 0.02], [brute, 0.01], [body, 0.01], [dead, 0.01], [horses, 0.01], [deceased, 0.01], [prisoner, 0.01], [,, 0.01], [corpse, 0.01], [gentleman, 0.01], [creature, 0.01], [master, 0.01], [murderer, 0.01], [fellow, 0.0]]</td>\n",
       "      <td>[[driver, 0.08], [man, 0.06], [horse, 0.06], [other, 0.01], [captain, 0.01], [master, 0.01], [woman, 0.01], [boy, 0.01], [victim, 0.01], [owner, 0.01], [dead, 0.01], [passenger, 0.01], [lady, 0.01], [deceased, 0.01], [king, 0.01], [animal, 0.01], [rider, 0.01], [dog, 0.01], [engine, 0.01], [farmer, 0.01]]</td>\n",
       "    </tr>\n",
       "    <tr>\n",
       "      <th>237</th>\n",
       "      <td>•. The Implements, &amp; c. exhibited wece as follows, tiliis letter was dispatched, we understand, by i, viz : — special messenger, with directions by Mr. Dillon to `• Mr. Witson 'l 4 hore portable thrashing machine, principal, find.</td>\n",
       "      <td>[[machine, 0.4], [machines, 0.29], [implements, 0.08], [apparatus, 0.05], [gear, 0.03], [mill, 0.02], [tools, 0.01], [implement, 0.01], [instruments, 0.01], [press, 0.0], [materials, 0.0], [##er, 0.0], [mills, 0.0], [appliances, 0.0], [machinery, 0.0], [establishment, 0.0], [house, 0.0], [tackle, 0.0], [office, 0.0], [##s, 0.0]]</td>\n",
       "      <td>[[machine, 0.06], [room, 0.05], [house, 0.03], [ring, 0.02], [club, 0.02], [mill, 0.02], [field, 0.01], [machines, 0.01], [place, 0.01], [ball, 0.01], [device, 0.01], [box, 0.01], [school, 0.01], [post, 0.01], [apparatus, 0.01], [hall, 0.01], [table, 0.01], [equipment, 0.01], [board, 0.01], [press, 0.01]]</td>\n",
       "    </tr>\n",
       "    <tr>\n",
       "      <th>4864</th>\n",
       "      <td>He then adverted to the present the detail would nor be entered into until it had state of the Continent, which moved with all the redolly appro Ved of by 'the Goiernment and by gtilarity of a machine, under the impulse of One man, jesty, and brought forward in ha proper shape. a visitation of Pitovineatce on the earth.</td>\n",
       "      <td>[[people, 0.17], [nation, 0.17], [continent, 0.08], [man, 0.06], [state, 0.03], [country, 0.02], [government, 0.01], [power, 0.01], [world, 0.01], [revolution, 0.01], [subject, 0.01], [king, 0.01], [monarch, 0.01], [kingdom, 0.01], [body, 0.01], [part, 0.01], [whole, 0.01], [race, 0.01], [republic, 0.01], [nature, 0.01]]</td>\n",
       "      <td>[[man, 0.09], [woman, 0.03], [nation, 0.01], [child, 0.01], [country, 0.01], [continent, 0.01], [world, 0.01], [thing, 0.01], [place, 0.01], [mind, 0.01], [land, 0.01], [race, 0.01], [ship, 0.01], [person, 0.01], [city, 0.01], [storm, 0.01], [house, 0.0], [body, 0.0], [soul, 0.0], [spirit, 0.0]]</td>\n",
       "    </tr>\n",
       "    <tr>\n",
       "      <th>18339</th>\n",
       "      <td>On Thursday week he was engaged in rolling some horse hair, but having put too much into the machine, seine portion of it got over the cogwhey! , which the deceased went to get back, when three of his tin,,ers were pulled in between the cogs of the wheel.</td>\n",
       "      <td>[[wheel, 0.45], [machine, 0.22], [engine, 0.07], [machinery, 0.03], [wheels, 0.03], [car, 0.01], [cylinder, 0.01], [carriage, 0.01], [train, 0.0], [work, 0.0], [mill, 0.0], [water, 0.0], [engines, 0.0], [air, 0.0], [boiler, 0.0], [gear, 0.0], [fire, 0.0], [wind, 0.0], [steam, 0.0], [machines, 0.0]]</td>\n",
       "      <td>[[wheel, 0.07], [mill, 0.05], [long, 0.02], [hair, 0.02], [engine, 0.01], [wheels, 0.01], [head, 0.01], [hand, 0.01], [whole, 0.01], [machine, 0.01], [work, 0.01], [yarn, 0.01], [horse, 0.01], [car, 0.01], [round, 0.01], [loose, 0.01], [process, 0.01], [winding, 0.0], [line, 0.0], [roll, 0.0]]</td>\n",
       "    </tr>\n",
       "    <tr>\n",
       "      <th>23115</th>\n",
       "      <td>The general state ' of the country may be imagined from the fact that at the trial of reaping machines, near Melbourne, a moneh since the machines when set to work actually bogged in the harvest field, although this is on high and sloping ground, well situate for drainage.</td>\n",
       "      <td>[[machines, 0.88], [machine, 0.02], [machinery, 0.01], [mills, 0.01], [rams, 0.01], [parties, 0.01], [engines, 0.0], [implements, 0.0], [tools, 0.0], [fields, 0.0], [operations, 0.0], [corn, 0.0], [apparatus, 0.0], [ground, 0.0], [wheels, 0.0], [gear, 0.0], [instruments, 0.0], [plants, 0.0], [trees, 0.0], [horses, 0.0]]</td>\n",
       "      <td>[[machines, 0.07], [harvest, 0.02], [wheat, 0.02], [day, 0.01], [fire, 0.01], [grain, 0.01], [crops, 0.01], [stars, 0.01], [hope, 0.01], [birds, 0.01], [time, 0.01], [children, 0.01], [souls, 0.01], [days, 0.01], [cards, 0.01], [eve, 0.01], [seeds, 0.01], [stones, 0.01], [trees, 0.01], [water, 0.01]]</td>\n",
       "    </tr>\n",
       "  </tbody>\n",
       "</table>\n",
       "</div>"
      ],
      "text/plain": [
       "                                                                                                                                                                                                                                                                                                                            currentSentence  \\\n",
       "28961                                                                                               Tha machine is. intended to print 46,000 sheets, or 23,000 perfect copies per hour, which is a greater number than has over yet been accomplished : and it also cats the paper into sheets, folds them, and records the number printed.   \n",
       "29741                                                                                                                                                                 The machine must have upset, as shortly afterwards the poor fellow W 9! found lying on the road quite insensible, with the handle of the machine jammed in his mouth.   \n",
       "26445                                              Men are not machines, neither are they children whom we can hope to train to unreasoning obedience; and if the acts of the masters are founded in justice and reason, • ard only dictated by the exigencies of trade, it is not increased intelligence that will make them dispute them.   \n",
       "34592                                                                          \" Ing ana ttall in th a day, a potato ° getting machine ( an entirely thl,;\"tina, ) was tried in a field near Sankey Bridge, tatars. ? nesse was witnessed by a large body of specghly ° Perations were pronounced quite successful 13ell 'ast latisfactory.   \n",
       "32347  Almost immediately, however, Conductor Smug Wood arrived with the Royal Society 's fire escape, end having pitched his machine tn front of the building, he courageously ascended it and brought down in rafety the Rye Persons whose lives were so much jeoardised. pun rraehtag the ground the conductor was voctfereuely cheered.   \n",
       "26149                             The phaeton was destroyed, but, cra horse escaped uninjured, the trams having come av, tai 't the body of the machine and set it free.—Scotsman. bag A NORFOLK MANSLAUGHTER.—An inquest been held at Scottow, Norfolk, this week, with II; ference to the death of a young labourer named 1111, , Morter.   \n",
       "237                                                                                                  •. The Implements, & c. exhibited wece as follows, tiliis letter was dispatched, we understand, by i, viz : — special messenger, with directions by Mr. Dillon to `• Mr. Witson 'l 4 hore portable thrashing machine, principal, find.   \n",
       "4864      He then adverted to the present the detail would nor be entered into until it had state of the Continent, which moved with all the redolly appro Ved of by 'the Goiernment and by gtilarity of a machine, under the impulse of One man, jesty, and brought forward in ha proper shape. a visitation of Pitovineatce on the earth.   \n",
       "18339                                                                       On Thursday week he was engaged in rolling some horse hair, but having put too much into the machine, seine portion of it got over the cogwhey! , which the deceased went to get back, when three of his tin,,ers were pulled in between the cogs of the wheel.   \n",
       "23115                                                     The general state ' of the country may be imagined from the fact that at the trial of reaping machines, near Melbourne, a moneh since the machines when set to work actually bogged in the harvest field, although this is on high and sloping ground, well situate for drainage.   \n",
       "\n",
       "                                                                                                                                                                                                                                                                                                                                pred_bert_1760_1900  \\\n",
       "28961                                      [[machine, 0.87], [roller, 0.06], [apparatus, 0.01], [machinery, 0.01], [paper, 0.0], [machines, 0.0], [process, 0.0], [##r, 0.0], [##v, 0.0], [press, 0.0], [instrument, 0.0], [##y, 0.0], [cylinder, 0.0], [##u, 0.0], [##c, 0.0], [system, 0.0], [engine, 0.0], [it, 0.0], [rack, 0.0], [frame, 0.0]]   \n",
       "29741                                         [[machine, 0.96], [horse, 0.01], [carriage, 0.01], [engine, 0.0], [vehicle, 0.0], [gig, 0.0], [wheel, 0.0], [cart, 0.0], [machinery, 0.0], [fly, 0.0], [wagon, 0.0], [animal, 0.0], [machines, 0.0], [pony, 0.0], [wheels, 0.0], [boat, 0.0], [bicycle, 0.0], [thing, 0.0], [car, 0.0], [coach, 0.0]]   \n",
       "26445  [[men, 0.55], [slaves, 0.07], [masters, 0.05], [fools, 0.05], [children, 0.03], [teachers, 0.03], [parents, 0.02], [women, 0.02], [ignorant, 0.01], [scholars, 0.01], [intelligent, 0.01], [taught, 0.01], [servants, 0.01], [wise, 0.0], [schools, 0.0], [instructed, 0.0], [boys, 0.0], [idiots, 0.0], [rulers, 0.0], [philosophers, 0.0]]   \n",
       "34592                             [[,, 0.65], [potato, 0.09], [machine, 0.04], [experiment, 0.03], [crop, 0.03], [process, 0.01], [operation, 0.01], [;, 0.01], [trial, 0.0], [plant, 0.0], [\", 0.0], [success, 0.0], [., 0.0], [one, 0.0], [disease, 0.0], [potatoes, 0.0], [experiments, 0.0], [failure, 0.0], [industry, 0.0], [vegetable, 0.0]]   \n",
       "32347                             [[tent, 0.8300000000000001], [tents, 0.05], [camp, 0.02], [flag, 0.01], [balloon, 0.0], [quarters, 0.0], [position, 0.0], [car, 0.0], [station, 0.0], [platform, 0.0], [apparatus, 0.0], [lot, 0.0], [house, 0.0], [bed, 0.0], [hut, 0.0], [ground, 0.0], [lantern, 0.0], [horse, 0.0], [self, 0.0], [boat, 0.0]]   \n",
       "26149                    [[horse, 0.44], [animal, 0.12], [man, 0.09], [rider, 0.03], [beast, 0.03], [driver, 0.02], [victim, 0.02], [brute, 0.01], [body, 0.01], [dead, 0.01], [horses, 0.01], [deceased, 0.01], [prisoner, 0.01], [,, 0.01], [corpse, 0.01], [gentleman, 0.01], [creature, 0.01], [master, 0.01], [murderer, 0.01], [fellow, 0.0]]   \n",
       "237      [[machine, 0.4], [machines, 0.29], [implements, 0.08], [apparatus, 0.05], [gear, 0.03], [mill, 0.02], [tools, 0.01], [implement, 0.01], [instruments, 0.01], [press, 0.0], [materials, 0.0], [##er, 0.0], [mills, 0.0], [appliances, 0.0], [machinery, 0.0], [establishment, 0.0], [house, 0.0], [tackle, 0.0], [office, 0.0], [##s, 0.0]]   \n",
       "4864             [[people, 0.17], [nation, 0.17], [continent, 0.08], [man, 0.06], [state, 0.03], [country, 0.02], [government, 0.01], [power, 0.01], [world, 0.01], [revolution, 0.01], [subject, 0.01], [king, 0.01], [monarch, 0.01], [kingdom, 0.01], [body, 0.01], [part, 0.01], [whole, 0.01], [race, 0.01], [republic, 0.01], [nature, 0.01]]   \n",
       "18339                                   [[wheel, 0.45], [machine, 0.22], [engine, 0.07], [machinery, 0.03], [wheels, 0.03], [car, 0.01], [cylinder, 0.01], [carriage, 0.01], [train, 0.0], [work, 0.0], [mill, 0.0], [water, 0.0], [engines, 0.0], [air, 0.0], [boiler, 0.0], [gear, 0.0], [fire, 0.0], [wind, 0.0], [steam, 0.0], [machines, 0.0]]   \n",
       "23115             [[machines, 0.88], [machine, 0.02], [machinery, 0.01], [mills, 0.01], [rams, 0.01], [parties, 0.01], [engines, 0.0], [implements, 0.0], [tools, 0.0], [fields, 0.0], [operations, 0.0], [corn, 0.0], [apparatus, 0.0], [ground, 0.0], [wheels, 0.0], [gear, 0.0], [instruments, 0.0], [plants, 0.0], [trees, 0.0], [horses, 0.0]]   \n",
       "\n",
       "                                                                                                                                                                                                                                                                                                                          pred_bert_contemporary  \n",
       "28961                                                                  [[##w, 0.14], [., 0.12], [-, 0.03], [##m, 0.03], [##les, 0.03], [', 0.02], [##l, 0.02], [##lia, 0.02], [##p, 0.02], [##ng, 0.02], [##le, 0.02], [##o, 0.01], [##wing, 0.01], [##k, 0.01], [##d, 0.01], [,, 0.01], [##ms, 0.01], [##me, 0.01], [##pa, 0.01], [##ck, 0.01]]  \n",
       "29741                 [[accident, 0.34], [ride, 0.06], [engine, 0.04], [crash, 0.04], [noise, 0.03], [trip, 0.02], [impact, 0.02], [collision, 0.02], [shock, 0.01], [driver, 0.01], [wind, 0.01], [action, 0.01], [weather, 0.01], [incident, 0.01], [car, 0.01], [explosion, 0.01], [injury, 0.01], [fall, 0.0], [horse, 0.0], [machine, 0.0]]  \n",
       "26445  [[teachers, 0.11], [slaves, 0.07], [children, 0.07], [masters, 0.04], [men, 0.02], [adults, 0.02], [educated, 0.02], [learned, 0.02], [fools, 0.02], [free, 0.01], [equal, 0.01], [educators, 0.01], [animals, 0.01], [ignorant, 0.01], [intelligent, 0.01], [taught, 0.01], [boys, 0.01], [wise, 0.01], [women, 0.01], [servants, 0.01]]  \n",
       "34592                                             [[cold, 0.03], [good, 0.03], [better, 0.02], [sick, 0.01], [worse, 0.01], [old, 0.01], [infected, 0.01], [ripe, 0.01], [eaten, 0.01], [small, 0.01], [green, 0.01], [wet, 0.01], [lost, 0.01], [out, 0.01], [bad, 0.01], [round, 0.01], [in, 0.01], [there, 0.01], [burnt, 0.01], [hot, 0.01]]  \n",
       "32347                          [[tent, 0.08], [horse, 0.06], [ladder, 0.06], [balloon, 0.04], [torch, 0.02], [bomb, 0.02], [hat, 0.02], [flag, 0.02], [locomotive, 0.01], [gun, 0.01], [body, 0.01], [wagon, 0.01], [parachute, 0.01], [car, 0.01], [engine, 0.01], [train, 0.01], [carriage, 0.01], [baton, 0.01], [fire, 0.01], [chair, 0.01]]  \n",
       "26149                         [[driver, 0.08], [man, 0.06], [horse, 0.06], [other, 0.01], [captain, 0.01], [master, 0.01], [woman, 0.01], [boy, 0.01], [victim, 0.01], [owner, 0.01], [dead, 0.01], [passenger, 0.01], [lady, 0.01], [deceased, 0.01], [king, 0.01], [animal, 0.01], [rider, 0.01], [dog, 0.01], [engine, 0.01], [farmer, 0.01]]  \n",
       "237                           [[machine, 0.06], [room, 0.05], [house, 0.03], [ring, 0.02], [club, 0.02], [mill, 0.02], [field, 0.01], [machines, 0.01], [place, 0.01], [ball, 0.01], [device, 0.01], [box, 0.01], [school, 0.01], [post, 0.01], [apparatus, 0.01], [hall, 0.01], [table, 0.01], [equipment, 0.01], [board, 0.01], [press, 0.01]]  \n",
       "4864                                    [[man, 0.09], [woman, 0.03], [nation, 0.01], [child, 0.01], [country, 0.01], [continent, 0.01], [world, 0.01], [thing, 0.01], [place, 0.01], [mind, 0.01], [land, 0.01], [race, 0.01], [ship, 0.01], [person, 0.01], [city, 0.01], [storm, 0.01], [house, 0.0], [body, 0.0], [soul, 0.0], [spirit, 0.0]]  \n",
       "18339                                     [[wheel, 0.07], [mill, 0.05], [long, 0.02], [hair, 0.02], [engine, 0.01], [wheels, 0.01], [head, 0.01], [hand, 0.01], [whole, 0.01], [machine, 0.01], [work, 0.01], [yarn, 0.01], [horse, 0.01], [car, 0.01], [round, 0.01], [loose, 0.01], [process, 0.01], [winding, 0.0], [line, 0.0], [roll, 0.0]]  \n",
       "23115                              [[machines, 0.07], [harvest, 0.02], [wheat, 0.02], [day, 0.01], [fire, 0.01], [grain, 0.01], [crops, 0.01], [stars, 0.01], [hope, 0.01], [birds, 0.01], [time, 0.01], [children, 0.01], [souls, 0.01], [days, 0.01], [cards, 0.01], [eve, 0.01], [seeds, 0.01], [stones, 0.01], [trees, 0.01], [water, 0.01]]  "
      ]
     },
     "execution_count": 35,
     "metadata": {},
     "output_type": "execute_result"
    }
   ],
   "source": [
    "# sentences where predictions change for mask\n",
    "# and where the victorian model got it right\n",
    "# _oppossed_ to a contemporary model\n",
    "df_1[f'{word2}_diff'] =  df_1[f'{word2}_contemporary'] - df_1[f'{word2}_1760_1900'] \n",
    "df_1[df_2.rbo < 0.01 ].sort_values(f'{word2}_diff',\n",
    "                                       ascending=True\n",
    "                                    )[['currentSentence',\n",
    "                                      'pred_bert_1760_1900',\n",
    "                                      'pred_bert_contemporary']][:10]"
   ]
  },
  {
   "cell_type": "code",
   "execution_count": 34,
   "metadata": {},
   "outputs": [
    {
     "data": {
      "text/html": [
       "<div>\n",
       "<style scoped>\n",
       "    .dataframe tbody tr th:only-of-type {\n",
       "        vertical-align: middle;\n",
       "    }\n",
       "\n",
       "    .dataframe tbody tr th {\n",
       "        vertical-align: top;\n",
       "    }\n",
       "\n",
       "    .dataframe thead th {\n",
       "        text-align: right;\n",
       "    }\n",
       "</style>\n",
       "<table border=\"1\" class=\"dataframe\">\n",
       "  <thead>\n",
       "    <tr style=\"text-align: right;\">\n",
       "      <th></th>\n",
       "      <th>currentSentence</th>\n",
       "      <th>pred_bert_1760_1900</th>\n",
       "      <th>pred_bert_contemporary</th>\n",
       "    </tr>\n",
       "  </thead>\n",
       "  <tbody>\n",
       "    <tr>\n",
       "      <th>44965</th>\n",
       "      <td>It should Lao be noted that there was in negotiation a treaty for the purchase of the Carinas, which had long been the seat of the horrors of tho slave trade, and also for the establishment of commercial relations with Dahomey. sr, ' alio recant purchase of the Danish forts would greatly ' contribute to diminish the slave trade.</td>\n",
       "      <td>[[slave, 0.99], [african, 0.0], [pirate, 0.0], [negro, 0.0], [guinea, 0.0], [opium, 0.0], [free, 0.0], [black, 0.0], [slaves, 0.0], [maroon, 0.0], [ivory, 0.0], [danish, 0.0], [slavery, 0.0], [fur, 0.0], [white, 0.0], [gold, 0.0], [indian, 0.0], [coffee, 0.0], [piracy, 0.0], [illicit, 0.0]]</td>\n",
       "      <td>[[##n, 0.45], [##non, 0.08], [##s, 0.07], [##la, 0.03], [##los, 0.02], [##nde, 0.01], [##ir, 0.01], [##no, 0.01], [##ne, 0.01], [##en, 0.01], [##on, 0.01], [##be, 0.01], [##le, 0.01], [##lo, 0.01], [##nn, 0.01], [river, 0.0], [##th, 0.0], [##lon, 0.0], [-, 0.0], [##ly, 0.0]]</td>\n",
       "    </tr>\n",
       "    <tr>\n",
       "      <th>33904</th>\n",
       "      <td>A public meeting will take place at Exeter hall on Monday, the Ist of June, to take into consideration certain plans for the extinction of die slave trade and the civilization of Africa.</td>\n",
       "      <td>[[slave, 0.99], [free, 0.0], [african, 0.0], [ivory, 0.0], [cape, 0.0], [fur, 0.0], [transit, 0.0], [british, 0.0], [indian, 0.0], [colonial, 0.0], [black, 0.0], [gold, 0.0], [negro, 0.0], [foreign, 0.0], [##fr, 0.0], [niger, 0.0], [congo, 0.0], [english, 0.0], [cotton, 0.0], [coal, 0.0]]</td>\n",
       "      <td>[[##ppe, 0.48], [##m, 0.18], [##n, 0.08], [##u, 0.08], [hard, 0.03], [##p, 0.02], [##ne, 0.02], [##mate, 0.01], [##r, 0.01], [##men, 0.01], [##pe, 0.01], [##ner, 0.0], [##hard, 0.0], [##mat, 0.0], [of, 0.0], [-, 0.0], [,, 0.0], [##f, 0.0], [##ns, 0.0], [##ur, 0.0]]</td>\n",
       "    </tr>\n",
       "    <tr>\n",
       "      <th>14155</th>\n",
       "      <td>Mr. BAILLIE, in e speech descriptive of the horrors of die slave trade, as carried on in defiance of the efforts of the squadron appointed for that service to prevent it, imsved an address to the crown, praying her majesty to give directions that negotiations be entered into with foreign powers to relieve this country from the engagement under which it labours, of - maintaining a squadron on the coast of Africa.</td>\n",
       "      <td>[[slave, 0.98], [african, 0.01], [guinea, 0.0], [free, 0.0], [ivory, 0.0], [black, 0.0], [negro, 0.0], [cape, 0.0], [slaves, 0.0], [senegal, 0.0], [illicit, 0.0], [carrying, 0.0], [coast, 0.0], [niger, 0.0], [said, 0.0], [fur, 0.0], [mediterranean, 0.0], [-, 0.0], [egyptian, 0.0], [indian, 0.0]]</td>\n",
       "      <td>[[##ppe, 0.93], [##mate, 0.02], [hard, 0.01], [##m, 0.01], [##p, 0.0], [##u, 0.0], [##n, 0.0], [##pe, 0.0], [##fen, 0.0], [##mer, 0.0], [##men, 0.0], [##ring, 0.0], [##ble, 0.0], [##use, 0.0], [-, 0.0], [of, 0.0], [##ne, 0.0], [##me, 0.0], [##ging, 0.0], [##per, 0.0]]</td>\n",
       "    </tr>\n",
       "    <tr>\n",
       "      <th>29390</th>\n",
       "      <td>By letters from the above squadron to the 19th ult. we are informed. that Counnod! re Bice has entered into treaty with every native chief in the Bight of Benin for the abolition of th 4 slave trade, protection of missionaries, &amp; c.</td>\n",
       "      <td>[[slave, 0.99], [free, 0.0], [ivory, 0.0], [salt, 0.0], [negro, 0.0], [export, 0.0], [transit, 0.0], [foreign, 0.0], [slaves, 0.0], [black, 0.0], [opium, 0.0], [carrying, 0.0], [african, 0.0], [fur, 0.0], [exclusive, 0.0], [illicit, 0.0], [guinea, 0.0], [inland, 0.0], [lagos, 0.0], [cotton, 0.0]]</td>\n",
       "      <td>[[., 0.07], [##d, 0.05], [##de, 0.05], [##t, 0.04], [##n, 0.04], [##s, 0.02], [##b, 0.02], [%, 0.02], [##°, 0.02], [##g, 0.02], [-, 0.02], [##e, 0.02], [##h, 0.02], [##c, 0.01], [##th, 0.01], [##k, 0.01], [##r, 0.01], [##a, 0.01], [,, 0.01], [##f, 0.01]]</td>\n",
       "    </tr>\n",
       "    <tr>\n",
       "      <th>42848</th>\n",
       "      <td>MANUMISSION OF ♦ SLAVE.—This morning the novel and interesting circumstance of emancipating a slave took place before the Lord Mayor.</td>\n",
       "      <td>[[slave, 0.74], [slaves, 0.2], [negro, 0.01], [child, 0.0], [##s, 0.0], [property, 0.0], [prisoner, 0.0], [servant, 0.0], [prisoners, 0.0], [woman, 0.0], [captive, 0.0], [person, 0.0], [captives, 0.0], [man, 0.0], [freedom, 0.0], [body, 0.0], [master, 0.0], [slavery, 0.0], [victim, 0.0], [goods, 0.0]]</td>\n",
       "      <td>[[##a, 0.03], [##2, 0.02], [house, 0.02], [##1, 0.02], [##6, 0.02], [##7, 0.01], [##8, 0.01], [##4, 0.01], [##3, 0.01], [##an, 0.01], [##k, 0.01], [##c, 0.01], [##9, 0.01], [##5, 0.01], [##0, 0.01], [room, 0.01], [., 0.01], [##n, 0.01], [##q, 0.01], [##f, 0.01]]</td>\n",
       "    </tr>\n",
       "    <tr>\n",
       "      <th>4358</th>\n",
       "      <td>&amp; AWL LUSHINGTON moved thithiler dasß3, for the Hoitsit resolving itself into ... .is _ Committee the Slave Trade ' Consolidation Bill : He objected the clause at present in use Big, which permitted th unrestrained exportation cf slaves from the West h, dia Colonies.</td>\n",
       "      <td>[[slaves, 0.93], [slave, 0.01], [africans, 0.01], [negro, 0.0], [cotton, 0.0], [slavery, 0.0], [blacks, 0.0], [sugar, 0.0], [goods, 0.0], [captives, 0.0], [prisoners, 0.0], [convicts, 0.0], [tobacco, 0.0], [cattle, 0.0], [them, 0.0], [men, 0.0], [rice, 0.0], [gold, 0.0], [produce, 0.0], [africa, 0.0]]</td>\n",
       "      <td>[[##s, 0.13], [##t, 0.13], [##r, 0.13], [##d, 0.08], [., 0.05], [##e, 0.04], [##h, 0.02], [##n, 0.02], [##rs, 0.02], [##w, 0.02], [##p, 0.01], [##b, 0.01], [##c, 0.01], [##o, 0.01], [##f, 0.01], [##m, 0.01], [##ts, 0.01], [##v, 0.01], [##g, 0.01], [##u, 0.01]]</td>\n",
       "    </tr>\n",
       "    <tr>\n",
       "      <th>41478</th>\n",
       "      <td>' l ' he slave trade was carried on between Africa and the Brazils several degrees below the tenth.</td>\n",
       "      <td>[[slave, 0.91], [free, 0.01], [guinea, 0.01], [negro, 0.01], [same, 0.01], [ivory, 0.01], [coffee, 0.0], [african, 0.0], [salt, 0.0], [other, 0.0], [cotton, 0.0], [indian, 0.0], [black, 0.0], [whole, 0.0], [gold, 0.0], [said, 0.0], [coast, 0.0], [sugar, 0.0], [white, 0.0], [direct, 0.0]]</td>\n",
       "      <td>[[##x, 0.12], [##be, 0.12], [##que, 0.05], [', 0.04], [##bron, 0.04], [##che, 0.02], [##ure, 0.02], [##ute, 0.02], [##ine, 0.02], [##ures, 0.02], [##ole, 0.01], [##ist, 0.01], [##il, 0.01], [##wn, 0.01], [##ur, 0.01], [##in, 0.01], [##sper, 0.01], [##sque, 0.01], [##c, 0.01], [##xi, 0.01]]</td>\n",
       "    </tr>\n",
       "    <tr>\n",
       "      <th>21148</th>\n",
       "      <td>Now It appeared, by the return trade in that year by the authorities themselves, that the number cf slaves was eighty seven thousand; so that, by official uloeuments, it was shown that there were, in 17117, forty too thousand slaves in the island of Mauritius more than there ought to have been.</td>\n",
       "      <td>[[slaves, 0.93], [inhabitants, 0.01], [blacks, 0.01], [whites, 0.0], [people, 0.0], [persons, 0.0], [prisoners, 0.0], [these, 0.0], [servants, 0.0], [labourers, 0.0], [captives, 0.0], [natives, 0.0], [men, 0.0], [souls, 0.0], [africans, 0.0], [them, 0.0], [christians, 0.0], [hands, 0.0], [masters, 0.0], [negro, 0.0]]</td>\n",
       "      <td>[[##t, 0.09], [., 0.09], [##r, 0.09], [##s, 0.06], [##d, 0.05], [##o, 0.04], [##b, 0.03], [##m, 0.03], [##e, 0.03], [##c, 0.03], [##n, 0.02], [##f, 0.02], [##i, 0.02], [##l, 0.02], [##v, 0.02], [##p, 0.02], [##w, 0.01], [##h, 0.01], [##u, 0.01], [##g, 0.01]]</td>\n",
       "    </tr>\n",
       "    <tr>\n",
       "      <th>6656</th>\n",
       "      <td>She had ' 7OO slaves on board, and a large quantity of gold dust and ivory.</td>\n",
       "      <td>[[slaves, 0.89], [men, 0.03], [persons, 0.01], [dollars, 0.01], [prisoners, 0.01], [blacks, 0.01], [captives, 0.0], [natives, 0.0], [negro, 0.0], [people, 0.0], [seamen, 0.0], [soldiers, 0.0], [souls, 0.0], [sailors, 0.0], [passengers, 0.0], [., 0.0], [##0, 0.0], [indians, 0.0], [hands, 0.0], [europeans, 0.0]]</td>\n",
       "      <td>[[', 0.8300000000000001], [##o, 0.02], [##s, 0.02], [\", 0.01], [##e, 0.0], [`, 0.0], [##oo, 0.0], [,, 0.0], [##os, 0.0], [##2, 0.0], [##th, 0.0], [##h, 0.0], [##oy, 0.0], [##we, 0.0], [##ut, 0.0], [##y, 0.0], [##a, 0.0], [##w, 0.0], [##on, 0.0], [##ons, 0.0]]</td>\n",
       "    </tr>\n",
       "    <tr>\n",
       "      <th>21067</th>\n",
       "      <td>Art. 6. The importation cf slaves into the imperial territory will be held to be piracy, and will be:punished by the tribunals by the penalties declared in the 2d article of the law of Nov. 7, 1831.</td>\n",
       "      <td>[[slaves, 0.99], [africans, 0.0], [slave, 0.0], [prisoners, 0.0], [females, 0.0], [them, 0.0], [captives, 0.0], [negro, 0.0], [persons, 0.0], [women, 0.0], [slavery, 0.0], [blacks, 0.0], [convicts, 0.0], [men, 0.0], [natives, 0.0], [criminals, 0.0], [cattle, 0.0], [labourers, 0.0], [jews, 0.0], [strangers, 0.0]]</td>\n",
       "      <td>[[., 0.66], [##o, 0.07], [##r, 0.05], [##t, 0.04], [##s, 0.02], [##i, 0.01], [##e, 0.01], [##p, 0.01], [##d, 0.01], [##b, 0.01], [##v, 0.01], [##or, 0.01], [##c, 0.01], [##y, 0.01], [##u, 0.01], [##f, 0.0], [##m, 0.0], [##n, 0.0], [##a, 0.0], [##k, 0.0]]</td>\n",
       "    </tr>\n",
       "  </tbody>\n",
       "</table>\n",
       "</div>"
      ],
      "text/plain": [
       "                                                                                                                                                                                                                                                                                                                                                                                                                       currentSentence  \\\n",
       "44965                                                                                       It should Lao be noted that there was in negotiation a treaty for the purchase of the Carinas, which had long been the seat of the horrors of tho slave trade, and also for the establishment of commercial relations with Dahomey. sr, ' alio recant purchase of the Danish forts would greatly ' contribute to diminish the slave trade.   \n",
       "33904                                                                                                                                                                                                                                       A public meeting will take place at Exeter hall on Monday, the Ist of June, to take into consideration certain plans for the extinction of die slave trade and the civilization of Africa.   \n",
       "14155  Mr. BAILLIE, in e speech descriptive of the horrors of die slave trade, as carried on in defiance of the efforts of the squadron appointed for that service to prevent it, imsved an address to the crown, praying her majesty to give directions that negotiations be entered into with foreign powers to relieve this country from the engagement under which it labours, of - maintaining a squadron on the coast of Africa.   \n",
       "29390                                                                                                                                                                                         By letters from the above squadron to the 19th ult. we are informed. that Counnod! re Bice has entered into treaty with every native chief in the Bight of Benin for the abolition of th 4 slave trade, protection of missionaries, & c.   \n",
       "42848                                                                                                                                                                                                                                                                                            MANUMISSION OF ♦ SLAVE.—This morning the novel and interesting circumstance of emancipating a slave took place before the Lord Mayor.   \n",
       "4358                                                                                                                                                       & AWL LUSHINGTON moved thithiler dasß3, for the Hoitsit resolving itself into ... .is _ Committee the Slave Trade ' Consolidation Bill : He objected the clause at present in use Big, which permitted th unrestrained exportation cf slaves from the West h, dia Colonies.   \n",
       "41478                                                                                                                                                                                                                                                                                                                              ' l ' he slave trade was carried on between Africa and the Brazils several degrees below the tenth.   \n",
       "21148                                                                                                                          Now It appeared, by the return trade in that year by the authorities themselves, that the number cf slaves was eighty seven thousand; so that, by official uloeuments, it was shown that there were, in 17117, forty too thousand slaves in the island of Mauritius more than there ought to have been.   \n",
       "6656                                                                                                                                                                                                                                                                                                                                                       She had ' 7OO slaves on board, and a large quantity of gold dust and ivory.   \n",
       "21067                                                                                                                                                                                                                           Art. 6. The importation cf slaves into the imperial territory will be held to be piracy, and will be:punished by the tribunals by the penalties declared in the 2d article of the law of Nov. 7, 1831.   \n",
       "\n",
       "                                                                                                                                                                                                                                                                                                                  pred_bert_1760_1900  \\\n",
       "44965                             [[slave, 0.99], [african, 0.0], [pirate, 0.0], [negro, 0.0], [guinea, 0.0], [opium, 0.0], [free, 0.0], [black, 0.0], [slaves, 0.0], [maroon, 0.0], [ivory, 0.0], [danish, 0.0], [slavery, 0.0], [fur, 0.0], [white, 0.0], [gold, 0.0], [indian, 0.0], [coffee, 0.0], [piracy, 0.0], [illicit, 0.0]]   \n",
       "33904                               [[slave, 0.99], [free, 0.0], [african, 0.0], [ivory, 0.0], [cape, 0.0], [fur, 0.0], [transit, 0.0], [british, 0.0], [indian, 0.0], [colonial, 0.0], [black, 0.0], [gold, 0.0], [negro, 0.0], [foreign, 0.0], [##fr, 0.0], [niger, 0.0], [congo, 0.0], [english, 0.0], [cotton, 0.0], [coal, 0.0]]   \n",
       "14155                        [[slave, 0.98], [african, 0.01], [guinea, 0.0], [free, 0.0], [ivory, 0.0], [black, 0.0], [negro, 0.0], [cape, 0.0], [slaves, 0.0], [senegal, 0.0], [illicit, 0.0], [carrying, 0.0], [coast, 0.0], [niger, 0.0], [said, 0.0], [fur, 0.0], [mediterranean, 0.0], [-, 0.0], [egyptian, 0.0], [indian, 0.0]]   \n",
       "29390                       [[slave, 0.99], [free, 0.0], [ivory, 0.0], [salt, 0.0], [negro, 0.0], [export, 0.0], [transit, 0.0], [foreign, 0.0], [slaves, 0.0], [black, 0.0], [opium, 0.0], [carrying, 0.0], [african, 0.0], [fur, 0.0], [exclusive, 0.0], [illicit, 0.0], [guinea, 0.0], [inland, 0.0], [lagos, 0.0], [cotton, 0.0]]   \n",
       "42848                  [[slave, 0.74], [slaves, 0.2], [negro, 0.01], [child, 0.0], [##s, 0.0], [property, 0.0], [prisoner, 0.0], [servant, 0.0], [prisoners, 0.0], [woman, 0.0], [captive, 0.0], [person, 0.0], [captives, 0.0], [man, 0.0], [freedom, 0.0], [body, 0.0], [master, 0.0], [slavery, 0.0], [victim, 0.0], [goods, 0.0]]   \n",
       "4358                   [[slaves, 0.93], [slave, 0.01], [africans, 0.01], [negro, 0.0], [cotton, 0.0], [slavery, 0.0], [blacks, 0.0], [sugar, 0.0], [goods, 0.0], [captives, 0.0], [prisoners, 0.0], [convicts, 0.0], [tobacco, 0.0], [cattle, 0.0], [them, 0.0], [men, 0.0], [rice, 0.0], [gold, 0.0], [produce, 0.0], [africa, 0.0]]   \n",
       "41478                                [[slave, 0.91], [free, 0.01], [guinea, 0.01], [negro, 0.01], [same, 0.01], [ivory, 0.01], [coffee, 0.0], [african, 0.0], [salt, 0.0], [other, 0.0], [cotton, 0.0], [indian, 0.0], [black, 0.0], [whole, 0.0], [gold, 0.0], [said, 0.0], [coast, 0.0], [sugar, 0.0], [white, 0.0], [direct, 0.0]]   \n",
       "21148  [[slaves, 0.93], [inhabitants, 0.01], [blacks, 0.01], [whites, 0.0], [people, 0.0], [persons, 0.0], [prisoners, 0.0], [these, 0.0], [servants, 0.0], [labourers, 0.0], [captives, 0.0], [natives, 0.0], [men, 0.0], [souls, 0.0], [africans, 0.0], [them, 0.0], [christians, 0.0], [hands, 0.0], [masters, 0.0], [negro, 0.0]]   \n",
       "6656          [[slaves, 0.89], [men, 0.03], [persons, 0.01], [dollars, 0.01], [prisoners, 0.01], [blacks, 0.01], [captives, 0.0], [natives, 0.0], [negro, 0.0], [people, 0.0], [seamen, 0.0], [soldiers, 0.0], [souls, 0.0], [sailors, 0.0], [passengers, 0.0], [., 0.0], [##0, 0.0], [indians, 0.0], [hands, 0.0], [europeans, 0.0]]   \n",
       "21067       [[slaves, 0.99], [africans, 0.0], [slave, 0.0], [prisoners, 0.0], [females, 0.0], [them, 0.0], [captives, 0.0], [negro, 0.0], [persons, 0.0], [women, 0.0], [slavery, 0.0], [blacks, 0.0], [convicts, 0.0], [men, 0.0], [natives, 0.0], [criminals, 0.0], [cattle, 0.0], [labourers, 0.0], [jews, 0.0], [strangers, 0.0]]   \n",
       "\n",
       "                                                                                                                                                                                                                                                                                   pred_bert_contemporary  \n",
       "44965                 [[##n, 0.45], [##non, 0.08], [##s, 0.07], [##la, 0.03], [##los, 0.02], [##nde, 0.01], [##ir, 0.01], [##no, 0.01], [##ne, 0.01], [##en, 0.01], [##on, 0.01], [##be, 0.01], [##le, 0.01], [##lo, 0.01], [##nn, 0.01], [river, 0.0], [##th, 0.0], [##lon, 0.0], [-, 0.0], [##ly, 0.0]]  \n",
       "33904                           [[##ppe, 0.48], [##m, 0.18], [##n, 0.08], [##u, 0.08], [hard, 0.03], [##p, 0.02], [##ne, 0.02], [##mate, 0.01], [##r, 0.01], [##men, 0.01], [##pe, 0.01], [##ner, 0.0], [##hard, 0.0], [##mat, 0.0], [of, 0.0], [-, 0.0], [,, 0.0], [##f, 0.0], [##ns, 0.0], [##ur, 0.0]]  \n",
       "14155                        [[##ppe, 0.93], [##mate, 0.02], [hard, 0.01], [##m, 0.01], [##p, 0.0], [##u, 0.0], [##n, 0.0], [##pe, 0.0], [##fen, 0.0], [##mer, 0.0], [##men, 0.0], [##ring, 0.0], [##ble, 0.0], [##use, 0.0], [-, 0.0], [of, 0.0], [##ne, 0.0], [##me, 0.0], [##ging, 0.0], [##per, 0.0]]  \n",
       "29390                                      [[., 0.07], [##d, 0.05], [##de, 0.05], [##t, 0.04], [##n, 0.04], [##s, 0.02], [##b, 0.02], [%, 0.02], [##°, 0.02], [##g, 0.02], [-, 0.02], [##e, 0.02], [##h, 0.02], [##c, 0.01], [##th, 0.01], [##k, 0.01], [##r, 0.01], [##a, 0.01], [,, 0.01], [##f, 0.01]]  \n",
       "42848                              [[##a, 0.03], [##2, 0.02], [house, 0.02], [##1, 0.02], [##6, 0.02], [##7, 0.01], [##8, 0.01], [##4, 0.01], [##3, 0.01], [##an, 0.01], [##k, 0.01], [##c, 0.01], [##9, 0.01], [##5, 0.01], [##0, 0.01], [room, 0.01], [., 0.01], [##n, 0.01], [##q, 0.01], [##f, 0.01]]  \n",
       "4358                                 [[##s, 0.13], [##t, 0.13], [##r, 0.13], [##d, 0.08], [., 0.05], [##e, 0.04], [##h, 0.02], [##n, 0.02], [##rs, 0.02], [##w, 0.02], [##p, 0.01], [##b, 0.01], [##c, 0.01], [##o, 0.01], [##f, 0.01], [##m, 0.01], [##ts, 0.01], [##v, 0.01], [##g, 0.01], [##u, 0.01]]  \n",
       "41478  [[##x, 0.12], [##be, 0.12], [##que, 0.05], [', 0.04], [##bron, 0.04], [##che, 0.02], [##ure, 0.02], [##ute, 0.02], [##ine, 0.02], [##ures, 0.02], [##ole, 0.01], [##ist, 0.01], [##il, 0.01], [##wn, 0.01], [##ur, 0.01], [##in, 0.01], [##sper, 0.01], [##sque, 0.01], [##c, 0.01], [##xi, 0.01]]  \n",
       "21148                                  [[##t, 0.09], [., 0.09], [##r, 0.09], [##s, 0.06], [##d, 0.05], [##o, 0.04], [##b, 0.03], [##m, 0.03], [##e, 0.03], [##c, 0.03], [##n, 0.02], [##f, 0.02], [##i, 0.02], [##l, 0.02], [##v, 0.02], [##p, 0.02], [##w, 0.01], [##h, 0.01], [##u, 0.01], [##g, 0.01]]  \n",
       "6656                                  [[', 0.8300000000000001], [##o, 0.02], [##s, 0.02], [\", 0.01], [##e, 0.0], [`, 0.0], [##oo, 0.0], [,, 0.0], [##os, 0.0], [##2, 0.0], [##th, 0.0], [##h, 0.0], [##oy, 0.0], [##we, 0.0], [##ut, 0.0], [##y, 0.0], [##a, 0.0], [##w, 0.0], [##on, 0.0], [##ons, 0.0]]  \n",
       "21067                                      [[., 0.66], [##o, 0.07], [##r, 0.05], [##t, 0.04], [##s, 0.02], [##i, 0.01], [##e, 0.01], [##p, 0.01], [##d, 0.01], [##b, 0.01], [##v, 0.01], [##or, 0.01], [##c, 0.01], [##y, 0.01], [##u, 0.01], [##f, 0.0], [##m, 0.0], [##n, 0.0], [##a, 0.0], [##k, 0.0]]  "
      ]
     },
     "execution_count": 34,
     "metadata": {},
     "output_type": "execute_result"
    }
   ],
   "source": [
    "# sentences where predictions change for mask\n",
    "# and where the victorian model got it right\n",
    "# _oppossed_ to a contemporary model\n",
    "df_2[f'{word2}_diff'] =  df_2[f'{word2}_contemporary'] - df_2[f'{word2}_1760_1900'] \n",
    "df_2[df_2.rbo < 0.01 ].sort_values(f'{word2}_diff',\n",
    "                                       ascending=True\n",
    "                                    )[['currentSentence',\n",
    "                                      'pred_bert_1760_1900',\n",
    "                                      'pred_bert_contemporary']][:10]"
   ]
  },
  {
   "cell_type": "code",
   "execution_count": 361,
   "metadata": {},
   "outputs": [
    {
     "data": {
      "text/plain": [
       "<matplotlib.axes._subplots.AxesSubplot at 0x26e213490>"
      ]
     },
     "execution_count": 361,
     "metadata": {},
     "output_type": "execute_result"
    },
    {
     "data": {
      "image/png": "[encoded data removed]",
      "text/plain": [
       "<Figure size 432x288 with 1 Axes>"
      ]
     },
     "metadata": {
      "needs_background": "light"
     },
     "output_type": "display_data"
    }
   ],
   "source": [
    "df_1[f'{word2}_z_1760_1900'].plot(kind='density')"
   ]
  },
  {
   "cell_type": "code",
   "execution_count": 379,
   "metadata": {},
   "outputs": [
    {
     "data": {
      "text/html": [
       "<div>\n",
       "<style scoped>\n",
       "    .dataframe tbody tr th:only-of-type {\n",
       "        vertical-align: middle;\n",
       "    }\n",
       "\n",
       "    .dataframe tbody tr th {\n",
       "        vertical-align: top;\n",
       "    }\n",
       "\n",
       "    .dataframe thead th {\n",
       "        text-align: right;\n",
       "    }\n",
       "</style>\n",
       "<table border=\"1\" class=\"dataframe\">\n",
       "  <thead>\n",
       "    <tr style=\"text-align: right;\">\n",
       "      <th></th>\n",
       "      <th>currentSentence</th>\n",
       "      <th>pred_bert_1760_1900</th>\n",
       "      <th>pred_bert_contemporary</th>\n",
       "    </tr>\n",
       "  </thead>\n",
       "  <tbody>\n",
       "    <tr>\n",
       "      <th>11886</th>\n",
       "      <td>His political creed, of which he sent the Citizen King a copy, was not approved of; we believe, because politi Cal machines are most useful when they profess no creed, and know no principle.</td>\n",
       "      <td>[[men, 0.48], [philosophers, 0.13], [##ists, 0.03], [persons, 0.03], [ministers, 0.02], [people, 0.02], [politicians, 0.02], [writers, 0.02], [gentlemen, 0.01], [characters, 0.01], [princes, 0.01], [teachers, 0.01], [##s, 0.01], [subjects, 0.01], [opinions, 0.01], [bodies, 0.01], [fools, 0.01], [principles, 0.0], [governments, 0.0], [rulers, 0.0]]</td>\n",
       "      <td>[[##i, 0.17], [##ci, 0.14], [##vi, 0.07], [##ii, 0.03], [##is, 0.03], [##cula, 0.03], [##ici, 0.02], [##oris, 0.02], [##di, 0.02], [##um, 0.01], [##isi, 0.01], [##cio, 0.01], [##io, 0.01], [##va, 0.01], [##ium, 0.01], [##dus, 0.01], [##itas, 0.01], [##via, 0.01], [##iti, 0.01], [##dini, 0.01]]</td>\n",
       "    </tr>\n",
       "    <tr>\n",
       "      <th>10808</th>\n",
       "      <td>By the bye, I want a snow storm for Monday, and amour machine is out of order, pray send ute your 's. \"</td>\n",
       "      <td>[[it, 0.46], [she, 0.22], [that, 0.1], [this, 0.06], [i, 0.03], [monday, 0.02], [he, 0.01], [all, 0.01], [everything, 0.01], [weather, 0.01], [business, 0.0], [t, 0.0], [sunday, 0.0], [tuesday, 0.0], [you, 0.0], [there, 0.0], [mine, 0.0], [1, 0.0], [day, 0.0], [which, 0.0]]</td>\n",
       "      <td>[[##na, 0.23], [##ne, 0.11], [##e, 0.1], [##a, 0.09], [##n, 0.06], [##eux, 0.04], [##s, 0.02], [##o, 0.02], [##net, 0.01], [##nie, 0.01], [,, 0.01], [', 0.01], [##y, 0.01], [##t, 0.01], [##ous, 0.01], [##ia, 0.01], [##ee, 0.0], [##ie, 0.0], [##i, 0.0], [##ette, 0.0]]</td>\n",
       "    </tr>\n",
       "    <tr>\n",
       "      <th>8699</th>\n",
       "      <td>The judges awarded tile first prize te Hell 's machine and the PS4`011 ( 1 t AI M`Connick 's.</td>\n",
       "      <td>[[,, 0.88], [., 0.06], [;, 0.04], [:, 0.0], [-, 0.0], [(, 0.0], [j, 0.0], [\", 0.0], [##j, 0.0], [), 0.0], [##1, 0.0], [s, 0.0], [!, 0.0], [1, 0.0], [ps, 0.0], [2, 0.0], [##3, 0.0], [##2, 0.0], [t, 0.0], [i, 0.0]]</td>\n",
       "      <td>[[gate, 0.13], [kitchen, 0.04], [angels, 0.02], [end, 0.02], [own, 0.01], [way, 0.01], [bar, 0.01], [gates, 0.01], [nest, 0.01], [inn, 0.01], [cross, 0.01], [egg, 0.01], [harvest, 0.01], [sake, 0.0], [wall, 0.0], [fury, 0.0], [head, 0.0], [garden, 0.0], [wood, 0.0], [delight, 0.0]]</td>\n",
       "    </tr>\n",
       "    <tr>\n",
       "      <th>16846</th>\n",
       "      <td>If these machines are tow make silk nets, to supersede Spanish made point net, the speculation will be a complete failure, as bobbin net is utterly unfit to be ornamented in the same manner that point net has been so long done in Spain.</td>\n",
       "      <td>[[gentlemen, 0.23], [people, 0.17], [persons, 0.15], [men, 0.14], [foreigners, 0.04], [individuals, 0.03], [english, 0.03], [ladies, 0.02], [americans, 0.01], [fishermen, 0.01], [two, 0.01], [manufacturers, 0.01], [italians, 0.01], [merchants, 0.0], [agents, 0.0], [##men, 0.0], [vessels, 0.0], [french, 0.0], [countries, 0.0], [artists, 0.0]]</td>\n",
       "      <td>[[nets, 0.33], [vessels, 0.05], [pieces, 0.04], [boats, 0.04], [ships, 0.03], [lines, 0.02], [ones, 0.02], [sails, 0.02], [stones, 0.01], [things, 0.01], [designs, 0.01], [net, 0.01], [circles, 0.01], [machines, 0.01], [objects, 0.01], [two, 0.01], [baskets, 0.01], [items, 0.01], [knots, 0.01], [pearls, 0.01]]</td>\n",
       "    </tr>\n",
       "    <tr>\n",
       "      <th>22579</th>\n",
       "      <td>The paying out machines worked with the most • perfect ease and iegulerity.</td>\n",
       "      <td>[[was, 0.87], [were, 0.03], [being, 0.01], [is, 0.01], [,, 0.01], [then, 0.01], [now, 0.0], [again, 0.0], [they, 0.0], [also, 0.0], [and, 0.0], [men, 0.0], [., 0.0], [##men, 0.0], [all, 0.0], [he, 0.0], [be, 0.0], [machinery, 0.0], [!, 0.0], [-, 0.0]]</td>\n",
       "      <td>[[mechanism, 0.1], [method, 0.05], [system, 0.05], [operation, 0.04], [process, 0.04], [procedure, 0.03], [technique, 0.03], [arrangement, 0.01], [cable, 0.01], [cables, 0.01], [procedures, 0.01], [operations, 0.01], [mechanisms, 0.01], [harness, 0.01], [machine, 0.01], [action, 0.01], [systems, 0.01], [line, 0.01], [maneuver, 0.01], [scheme, 0.01]]</td>\n",
       "    </tr>\n",
       "    <tr>\n",
       "      <th>10497</th>\n",
       "      <td>Gentlemen, the extent of the vast empire over which the East India Company more immediately presides, is as fearful as it is extraordinary, and it is a disproof of the common adage, that little wisdom is required for governing mankind, to consider such a machine—if I may use the expression—as one hundred millions of souls kept together with so much comparative happiness, and so little confusion.</td>\n",
       "      <td>[[people, 0.28], [multitude, 0.14], [nation, 0.11], [body, 0.07], [number, 0.05], [mass, 0.03], [population, 0.03], [whole, 0.02], [community, 0.02], [state, 0.02], [empire, 0.01], [kingdom, 0.01], [company, 0.01], [world, 0.01], [country, 0.01], [million, 0.01], [vast, 0.01], [power, 0.01], [thing, 0.01], [union, 0.01]]</td>\n",
       "      <td>[[thing, 0.16], [matter, 0.11], [question, 0.05], [fact, 0.03], [situation, 0.03], [possibility, 0.02], [notion, 0.02], [problem, 0.02], [subject, 0.01], [concept, 0.01], [view, 0.01], [sum, 0.01], [case, 0.01], [phenomenon, 0.01], [idea, 0.01], [state, 0.01], [thought, 0.01], [prospect, 0.01], [place, 0.01], [result, 0.01]]</td>\n",
       "    </tr>\n",
       "  </tbody>\n",
       "</table>\n",
       "</div>"
      ],
      "text/plain": [
       "                                                                                                                                                                                                                                                                                                                                                                                                      currentSentence  \\\n",
       "11886                                                                                                                                                                                                                  His political creed, of which he sent the Citizen King a copy, was not approved of; we believe, because politi Cal machines are most useful when they profess no creed, and know no principle.   \n",
       "10808                                                                                                                                                                                                                                                                                                         By the bye, I want a snow storm for Monday, and amour machine is out of order, pray send ute your 's. \"   \n",
       "8699                                                                                                                                                                                                                                                                                                                    The judges awarded tile first prize te Hell 's machine and the PS4`011 ( 1 t AI M`Connick 's.   \n",
       "16846                                                                                                                                                                    If these machines are tow make silk nets, to supersede Spanish made point net, the speculation will be a complete failure, as bobbin net is utterly unfit to be ornamented in the same manner that point net has been so long done in Spain.   \n",
       "22579                                                                                                                                                                                                                                                                                                                                     The paying out machines worked with the most • perfect ease and iegulerity.   \n",
       "10497  Gentlemen, the extent of the vast empire over which the East India Company more immediately presides, is as fearful as it is extraordinary, and it is a disproof of the common adage, that little wisdom is required for governing mankind, to consider such a machine—if I may use the expression—as one hundred millions of souls kept together with so much comparative happiness, and so little confusion.   \n",
       "\n",
       "                                                                                                                                                                                                                                                                                                                                                 pred_bert_1760_1900  \\\n",
       "11886  [[men, 0.48], [philosophers, 0.13], [##ists, 0.03], [persons, 0.03], [ministers, 0.02], [people, 0.02], [politicians, 0.02], [writers, 0.02], [gentlemen, 0.01], [characters, 0.01], [princes, 0.01], [teachers, 0.01], [##s, 0.01], [subjects, 0.01], [opinions, 0.01], [bodies, 0.01], [fools, 0.01], [principles, 0.0], [governments, 0.0], [rulers, 0.0]]   \n",
       "10808                                                                             [[it, 0.46], [she, 0.22], [that, 0.1], [this, 0.06], [i, 0.03], [monday, 0.02], [he, 0.01], [all, 0.01], [everything, 0.01], [weather, 0.01], [business, 0.0], [t, 0.0], [sunday, 0.0], [tuesday, 0.0], [you, 0.0], [there, 0.0], [mine, 0.0], [1, 0.0], [day, 0.0], [which, 0.0]]   \n",
       "8699                                                                                                                                            [[,, 0.88], [., 0.06], [;, 0.04], [:, 0.0], [-, 0.0], [(, 0.0], [j, 0.0], [\", 0.0], [##j, 0.0], [), 0.0], [##1, 0.0], [s, 0.0], [!, 0.0], [1, 0.0], [ps, 0.0], [2, 0.0], [##3, 0.0], [##2, 0.0], [t, 0.0], [i, 0.0]]   \n",
       "16846        [[gentlemen, 0.23], [people, 0.17], [persons, 0.15], [men, 0.14], [foreigners, 0.04], [individuals, 0.03], [english, 0.03], [ladies, 0.02], [americans, 0.01], [fishermen, 0.01], [two, 0.01], [manufacturers, 0.01], [italians, 0.01], [merchants, 0.0], [agents, 0.0], [##men, 0.0], [vessels, 0.0], [french, 0.0], [countries, 0.0], [artists, 0.0]]   \n",
       "22579                                                                                                    [[was, 0.87], [were, 0.03], [being, 0.01], [is, 0.01], [,, 0.01], [then, 0.01], [now, 0.0], [again, 0.0], [they, 0.0], [also, 0.0], [and, 0.0], [men, 0.0], [., 0.0], [##men, 0.0], [all, 0.0], [he, 0.0], [be, 0.0], [machinery, 0.0], [!, 0.0], [-, 0.0]]   \n",
       "10497                             [[people, 0.28], [multitude, 0.14], [nation, 0.11], [body, 0.07], [number, 0.05], [mass, 0.03], [population, 0.03], [whole, 0.02], [community, 0.02], [state, 0.02], [empire, 0.01], [kingdom, 0.01], [company, 0.01], [world, 0.01], [country, 0.01], [million, 0.01], [vast, 0.01], [power, 0.01], [thing, 0.01], [union, 0.01]]   \n",
       "\n",
       "                                                                                                                                                                                                                                                                                                                                                pred_bert_contemporary  \n",
       "11886                                                           [[##i, 0.17], [##ci, 0.14], [##vi, 0.07], [##ii, 0.03], [##is, 0.03], [##cula, 0.03], [##ici, 0.02], [##oris, 0.02], [##di, 0.02], [##um, 0.01], [##isi, 0.01], [##cio, 0.01], [##io, 0.01], [##va, 0.01], [##ium, 0.01], [##dus, 0.01], [##itas, 0.01], [##via, 0.01], [##iti, 0.01], [##dini, 0.01]]  \n",
       "10808                                                                                      [[##na, 0.23], [##ne, 0.11], [##e, 0.1], [##a, 0.09], [##n, 0.06], [##eux, 0.04], [##s, 0.02], [##o, 0.02], [##net, 0.01], [##nie, 0.01], [,, 0.01], [', 0.01], [##y, 0.01], [##t, 0.01], [##ous, 0.01], [##ia, 0.01], [##ee, 0.0], [##ie, 0.0], [##i, 0.0], [##ette, 0.0]]  \n",
       "8699                                                                        [[gate, 0.13], [kitchen, 0.04], [angels, 0.02], [end, 0.02], [own, 0.01], [way, 0.01], [bar, 0.01], [gates, 0.01], [nest, 0.01], [inn, 0.01], [cross, 0.01], [egg, 0.01], [harvest, 0.01], [sake, 0.0], [wall, 0.0], [fury, 0.0], [head, 0.0], [garden, 0.0], [wood, 0.0], [delight, 0.0]]  \n",
       "16846                                          [[nets, 0.33], [vessels, 0.05], [pieces, 0.04], [boats, 0.04], [ships, 0.03], [lines, 0.02], [ones, 0.02], [sails, 0.02], [stones, 0.01], [things, 0.01], [designs, 0.01], [net, 0.01], [circles, 0.01], [machines, 0.01], [objects, 0.01], [two, 0.01], [baskets, 0.01], [items, 0.01], [knots, 0.01], [pearls, 0.01]]  \n",
       "22579  [[mechanism, 0.1], [method, 0.05], [system, 0.05], [operation, 0.04], [process, 0.04], [procedure, 0.03], [technique, 0.03], [arrangement, 0.01], [cable, 0.01], [cables, 0.01], [procedures, 0.01], [operations, 0.01], [mechanisms, 0.01], [harness, 0.01], [machine, 0.01], [action, 0.01], [systems, 0.01], [line, 0.01], [maneuver, 0.01], [scheme, 0.01]]  \n",
       "10497                           [[thing, 0.16], [matter, 0.11], [question, 0.05], [fact, 0.03], [situation, 0.03], [possibility, 0.02], [notion, 0.02], [problem, 0.02], [subject, 0.01], [concept, 0.01], [view, 0.01], [sum, 0.01], [case, 0.01], [phenomenon, 0.01], [idea, 0.01], [state, 0.01], [thought, 0.01], [prospect, 0.01], [place, 0.01], [result, 0.01]]  "
      ]
     },
     "execution_count": 379,
     "metadata": {},
     "output_type": "execute_result"
    }
   ],
   "source": [
    "# sentences where predictions change for mask machine\n",
    "# and where the victorian model predicted woman\n",
    "# _oppossed_ to a contemporary model \n",
    "df_1[f'{word2}_diff'] =  df_1[f'{word2}_contemporary'] - df_1[f'{word2}_1760_1900'] \n",
    "df_1[f'{word2}_z_1760_1900'] = (df_1[f'{word2}_1760_1900'] - df_1[f'{word2}_1760_1900'].mean()) /  df_1[f'{word2}_1760_1900'].std() \n",
    "df_1[(df_1.rbo < 0.01) & (df_1[f'{word2}_z_1760_1900'] > 2.0)].sort_values(f'{word2}_diff',\n",
    "                                       ascending=True\n",
    "                                    )[['currentSentence',\n",
    "                                      'pred_bert_1760_1900',\n",
    "                                      'pred_bert_contemporary']]"
   ]
  },
  {
   "cell_type": "code",
   "execution_count": 365,
   "metadata": {},
   "outputs": [],
   "source": [
    "year = 'year'\n",
    "if corpus == 'blb':\n",
    "    year = 'date'"
   ]
  },
  {
   "cell_type": "code",
   "execution_count": 348,
   "metadata": {},
   "outputs": [
    {
     "data": {
      "image/png": "[encoded data removed]",
      "text/plain": [
       "<Figure size 432x288 with 1 Axes>"
      ]
     },
     "metadata": {
      "needs_background": "light"
     },
     "output_type": "display_data"
    }
   ],
   "source": [
    "df_1_mean = df_1.groupby(year)['rbo'].mean().plot()"
   ]
  },
  {
   "cell_type": "code",
   "execution_count": 349,
   "metadata": {},
   "outputs": [
    {
     "data": {
      "text/plain": [
       "<matplotlib.axes._subplots.AxesSubplot at 0x1e2df1c50>"
      ]
     },
     "execution_count": 349,
     "metadata": {},
     "output_type": "execute_result"
    },
    {
     "data": {
      "image/png": "[encoded data removed]",
      "text/plain": [
       "<Figure size 432x288 with 1 Axes>"
      ]
     },
     "metadata": {
      "needs_background": "light"
     },
     "output_type": "display_data"
    }
   ],
   "source": [
    "df_1_mean = df_1.groupby(year)['rbo'].mean().rolling(5).mean()\n",
    "df_1_std = df_1.groupby(year)['rbo'].std().rolling(5).mean()\n",
    "df_1_mean.plot()\n",
    "(df_1_mean - df_1_std).plot(color='blue')\n",
    "(df_1_mean + df_1_std).plot(color='blue')\n"
   ]
  },
  {
   "cell_type": "code",
   "execution_count": 21,
   "metadata": {},
   "outputs": [
    {
     "data": {
      "text/plain": [
       "<matplotlib.axes._subplots.AxesSubplot at 0x189523d90>"
      ]
     },
     "execution_count": 21,
     "metadata": {},
     "output_type": "execute_result"
    },
    {
     "data": {
      "image/png": "[encoded data removed]",
      "text/plain": [
       "<Figure size 432x288 with 1 Axes>"
      ]
     },
     "metadata": {
      "needs_background": "light"
     },
     "output_type": "display_data"
    }
   ],
   "source": [
    "df_1[df_1.rbo <= 0.02].groupby(year).item_code.count().plot()"
   ]
  },
  {
   "cell_type": "code",
   "execution_count": 22,
   "metadata": {},
   "outputs": [
    {
     "data": {
      "text/plain": [
       "<matplotlib.axes._subplots.AxesSubplot at 0x188326650>"
      ]
     },
     "execution_count": 22,
     "metadata": {},
     "output_type": "execute_result"
    },
    {
     "data": {
      "image/png": "[encoded data removed]",
      "text/plain": [
       "<Figure size 432x288 with 1 Axes>"
      ]
     },
     "metadata": {
      "needs_background": "light"
     },
     "output_type": "display_data"
    }
   ],
   "source": [
    "df_2_mean = df_2.groupby(year)['rbo'].mean().rolling(5).mean()\n",
    "df_2_std = df_2.groupby(year)['rbo'].std().rolling(5).mean()\n",
    "df_2_mean.plot()\n",
    "(df_2_mean - df_2_std).plot(color='blue')\n",
    "(df_2_mean + df_2_std).plot(color='blue')"
   ]
  },
  {
   "cell_type": "markdown",
   "metadata": {},
   "source": [
    "# Compare predictions"
   ]
  },
  {
   "cell_type": "code",
   "execution_count": 289,
   "metadata": {},
   "outputs": [],
   "source": [
    "corpus = 'hmd'\n",
    "word1 = 'machine'#'slave'#'woman'# 'artisan'\n",
    "df_1 = pd.read_json(f'json_format/{corpus}_{word1}_clusters.json')"
   ]
  },
  {
   "cell_type": "code",
   "execution_count": 290,
   "metadata": {},
   "outputs": [
    {
     "data": {
      "text/plain": [
       "<matplotlib.axes._subplots.AxesSubplot at 0x18e52c290>"
      ]
     },
     "execution_count": 290,
     "metadata": {},
     "output_type": "execute_result"
    },
    {
     "data": {
      "image/png": "[encoded data removed]",
      "text/plain": [
       "<Figure size 432x288 with 1 Axes>"
      ]
     },
     "metadata": {
      "needs_background": "light"
     },
     "output_type": "display_data"
    }
   ],
   "source": [
    "df_1.machine_1760_1900.plot(kind='hist',bins=100)"
   ]
  },
  {
   "cell_type": "code",
   "execution_count": 291,
   "metadata": {},
   "outputs": [],
   "source": [
    "#df_1 = df_1[df_1.machine_1760_1900 > .15]\n",
    "#df_1.reset_index(inplace=True)"
   ]
  },
  {
   "cell_type": "code",
   "execution_count": 292,
   "metadata": {},
   "outputs": [],
   "source": [
    "from collections import Counter\n",
    "\n",
    "wf_old = Counter([w[0] for l in df_1.pred_bert_1760_1900 for w in l])\n",
    "wf_new = Counter([w[0] for l in df_1.pred_bert_contemporary for w in l])"
   ]
  },
  {
   "cell_type": "code",
   "execution_count": 293,
   "metadata": {},
   "outputs": [
    {
     "data": {
      "text/plain": [
       "1672"
      ]
     },
     "execution_count": 293,
     "metadata": {},
     "output_type": "execute_result"
    }
   ],
   "source": [
    "wf_new['technology']"
   ]
  },
  {
   "cell_type": "code",
   "execution_count": 294,
   "metadata": {},
   "outputs": [],
   "source": [
    "all_words = set(list(wf_old.keys()) + list(wf_new.keys()))"
   ]
  },
  {
   "cell_type": "code",
   "execution_count": 295,
   "metadata": {},
   "outputs": [],
   "source": [
    "total_old = sum(wf_old.values())\n",
    "total_new = sum(wf_new.values())"
   ]
  },
  {
   "cell_type": "code",
   "execution_count": 296,
   "metadata": {},
   "outputs": [
    {
     "data": {
      "text/plain": [
       "(713480, 19346, 713480, 15001)"
      ]
     },
     "execution_count": 296,
     "metadata": {},
     "output_type": "execute_result"
    }
   ],
   "source": [
    "total_old,wf_old['machine'],total_new,wf_new['machine']"
   ]
  },
  {
   "cell_type": "code",
   "execution_count": null,
   "metadata": {},
   "outputs": [],
   "source": []
  },
  {
   "cell_type": "code",
   "execution_count": 297,
   "metadata": {},
   "outputs": [
    {
     "data": {
      "text/plain": [
       "(0.02712498570387397, 0.02103511633122162)"
      ]
     },
     "execution_count": 297,
     "metadata": {},
     "output_type": "execute_result"
    }
   ],
   "source": [
    "wf_old = {w: (wf_old.get(w,0) / total_old) + 0.00001 for w in all_words}\n",
    "wf_new = {w: (wf_new.get(w,0) / total_new) + 0.00001 for w in all_words}\n",
    "wf_old['machine'],wf_new['machine']"
   ]
  },
  {
   "cell_type": "code",
   "execution_count": 298,
   "metadata": {},
   "outputs": [
    {
     "data": {
      "text/plain": [
       "0.0023534434041598924"
      ]
     },
     "execution_count": 298,
     "metadata": {},
     "output_type": "execute_result"
    }
   ],
   "source": [
    "wf_new['technology']"
   ]
  },
  {
   "cell_type": "code",
   "execution_count": 299,
   "metadata": {},
   "outputs": [],
   "source": [
    "odds_old = {w: wf_old[w] / (1.0 - wf_old[w]) for w in all_words}\n",
    "odds_new = {w: (wf_new[w] / (1.0 - wf_new[w])) for w in all_words}"
   ]
  },
  {
   "cell_type": "code",
   "execution_count": 300,
   "metadata": {},
   "outputs": [],
   "source": [
    "log_odd = {w:log(odds_old[w] / odds_new[w]) for w in all_words}"
   ]
  },
  {
   "cell_type": "code",
   "execution_count": 310,
   "metadata": {
    "scrolled": true
   },
   "outputs": [
    {
     "name": "stdout",
     "output_type": "stream",
     "text": [
      "jenny,3.97\n",
      "harrow,3.45\n",
      "gig,3.17\n",
      "shuttle,2.92\n",
      "bonnet,2.86\n",
      "modes,2.81\n",
      "trough,2.62\n",
      "establishments,2.54\n",
      "appliances,2.54\n",
      "bam,2.51\n"
     ]
    }
   ],
   "source": [
    "print('\\n'.join([','.join([i[0],str(round(i[1],2))]) for i in sorted(log_odd.items(),key=lambda x:x[1],reverse=True)[:10]]))"
   ]
  },
  {
   "cell_type": "markdown",
   "metadata": {},
   "source": [
    "## Machine Across Corpora"
   ]
  },
  {
   "cell_type": "code",
   "execution_count": 34,
   "metadata": {},
   "outputs": [],
   "source": [
    "from collections import Counter, defaultdict\n",
    "from scipy.stats import entropy"
   ]
  },
  {
   "cell_type": "code",
   "execution_count": 43,
   "metadata": {},
   "outputs": [],
   "source": [
    "corpus1,corpus2 = 'rsc','blb'\n",
    "word = 'machine' \n",
    "df_1 = pd.read_json(f'json_format/{corpus1}_{word}_clusters.json')\n",
    "df_2 = pd.read_json(f'json_format/{corpus2}_{word}_clusters.json')"
   ]
  },
  {
   "cell_type": "code",
   "execution_count": 44,
   "metadata": {},
   "outputs": [],
   "source": [
    "wf_1 = Counter([w[0] for l in df_1.pred_bert_1760_1900 for w in l])\n",
    "wf_2 = Counter([w[0] for l in df_2.pred_bert_1760_1900 for w in l])"
   ]
  },
  {
   "cell_type": "code",
   "execution_count": 45,
   "metadata": {},
   "outputs": [],
   "source": [
    "all_words = set(wf_1.keys()).union(set(wf_2.keys()))"
   ]
  },
  {
   "cell_type": "code",
   "execution_count": 46,
   "metadata": {},
   "outputs": [],
   "source": [
    "for w in all_words:\n",
    "    wf_1[w]+=.1\n",
    "    wf_2[w]+=.1"
   ]
  },
  {
   "cell_type": "code",
   "execution_count": 47,
   "metadata": {},
   "outputs": [],
   "source": [
    "totals_1 = sum(wf_1.values())\n",
    "totals_2 = sum(wf_2.values())"
   ]
  },
  {
   "cell_type": "code",
   "execution_count": 48,
   "metadata": {},
   "outputs": [],
   "source": [
    "prob_1,prob_2 = defaultdict(float),defaultdict(float)\n",
    "for w in all_words:\n",
    "    prob_1[w] = wf_1[w]/totals_1\n",
    "    prob_2[w] = wf_2[w]/totals_2"
   ]
  },
  {
   "cell_type": "code",
   "execution_count": 49,
   "metadata": {},
   "outputs": [
    {
     "data": {
      "text/plain": [
       "(13286, 13286)"
      ]
     },
     "execution_count": 49,
     "metadata": {},
     "output_type": "execute_result"
    }
   ],
   "source": [
    "len(prob_1),len(prob_2)"
   ]
  },
  {
   "cell_type": "code",
   "execution_count": 50,
   "metadata": {},
   "outputs": [
    {
     "data": {
      "text/plain": [
       "(6.564905916549041, 7.04586951493667)"
      ]
     },
     "execution_count": 50,
     "metadata": {},
     "output_type": "execute_result"
    }
   ],
   "source": [
    "entropy(list(prob_1.values())),entropy(list(prob_2.values()))"
   ]
  },
  {
   "cell_type": "code",
   "execution_count": 51,
   "metadata": {},
   "outputs": [
    {
     "data": {
      "text/plain": [
       "1.0986122886681096"
      ]
     },
     "execution_count": 51,
     "metadata": {},
     "output_type": "execute_result"
    }
   ],
   "source": [
    "entropy([.333,.333,.333])"
   ]
  },
  {
   "cell_type": "code",
   "execution_count": 56,
   "metadata": {},
   "outputs": [
    {
     "data": {
      "text/plain": [
       "0.6929471672244782"
      ]
     },
     "execution_count": 56,
     "metadata": {},
     "output_type": "execute_result"
    }
   ],
   "source": [
    "entropy([.49,.51])"
   ]
  },
  {
   "cell_type": "code",
   "execution_count": 53,
   "metadata": {},
   "outputs": [
    {
     "data": {
      "text/plain": [
       "0.002041863887673169"
      ]
     },
     "execution_count": 53,
     "metadata": {},
     "output_type": "execute_result"
    }
   ],
   "source": [
    "entropy([0.0001,0.0001,.9999])"
   ]
  },
  {
   "cell_type": "markdown",
   "metadata": {},
   "source": [
    "## Entropy over Time"
   ]
  },
  {
   "cell_type": "code",
   "execution_count": 112,
   "metadata": {},
   "outputs": [],
   "source": [
    "corpus = 'hmd'\n",
    "word = 'machine' \n",
    "df = pd.read_json(f'json_format/{corpus}_{word}_clusters.json')"
   ]
  },
  {
   "cell_type": "code",
   "execution_count": 113,
   "metadata": {},
   "outputs": [
    {
     "data": {
      "text/plain": [
       "Index(['item_code', 'issue_code', 'publication_code', 'prevSentence',\n",
       "       'currentSentence', 'markedSentence', 'maskedSentence', 'nextSentence',\n",
       "       'targetExpression', 'article_path', 'item_id', 'issue_id',\n",
       "       'publication_id', 'issue_date', 'item_type', 'word_count',\n",
       "       'ocr_quality_mean', 'title', 'location', 'year', 'sentId', 'synt',\n",
       "       'query_label', 'pred_bert_1760_1900', 'pred_bert_contemporary',\n",
       "       'machine_1760_1900', 'boy_1760_1900', 'girl_1760_1900',\n",
       "       'slave_1760_1900', 'artisan_1760_1900', 'woman_1760_1900',\n",
       "       'machine_contemporary', 'boy_contemporary', 'girl_contemporary',\n",
       "       'slave_contemporary', 'artisan_contemporary', 'woman_contemporary'],\n",
       "      dtype='object')"
      ]
     },
     "execution_count": 113,
     "metadata": {},
     "output_type": "execute_result"
    }
   ],
   "source": [
    "df.columns"
   ]
  },
  {
   "cell_type": "code",
   "execution_count": 114,
   "metadata": {},
   "outputs": [],
   "source": [
    "begin,cutoff,end = 1800,1850,1900"
   ]
  },
  {
   "cell_type": "code",
   "execution_count": 116,
   "metadata": {},
   "outputs": [],
   "source": [
    "df_old = df[(df.year < cutoff) & (df.year >= begin) ]"
   ]
  },
  {
   "cell_type": "code",
   "execution_count": 117,
   "metadata": {},
   "outputs": [],
   "source": [
    "df_new = df[(df.year >= cutoff) & (df.year < end) ]"
   ]
  },
  {
   "cell_type": "code",
   "execution_count": 118,
   "metadata": {},
   "outputs": [
    {
     "data": {
      "text/plain": [
       "((16377, 37), (19297, 37))"
      ]
     },
     "execution_count": 118,
     "metadata": {},
     "output_type": "execute_result"
    }
   ],
   "source": [
    "df_old.shape,df_new.shape"
   ]
  },
  {
   "cell_type": "code",
   "execution_count": 119,
   "metadata": {},
   "outputs": [],
   "source": [
    "wf_1 =Counter(dict(Counter([w[0] for l in df_old.pred_bert_1760_1900 for w in l]).most_common(1000)))\n",
    "wf_2 = Counter(dict(Counter([w[0] for l in df_new.pred_bert_1760_1900 for w in l]).most_common(1000)))"
   ]
  },
  {
   "cell_type": "code",
   "execution_count": 120,
   "metadata": {},
   "outputs": [
    {
     "data": {
      "text/plain": [
       "Counter({'machine': 8581,\n",
       "         'machinery': 5961,\n",
       "         'machines': 4582,\n",
       "         'apparatus': 4518,\n",
       "         'engine': 4450,\n",
       "         'system': 3057,\n",
       "         'work': 2820,\n",
       "         'instrument': 2785,\n",
       "         'mill': 2747,\n",
       "         ',': 2643,\n",
       "         'wheel': 2353,\n",
       "         'power': 2287,\n",
       "         'process': 2209,\n",
       "         'house': 2097,\n",
       "         '.': 2023,\n",
       "         'engines': 1990,\n",
       "         'vessel': 1975,\n",
       "         'works': 1792,\n",
       "         '-': 1521,\n",
       "         'establishment': 1516,\n",
       "         'plan': 1470,\n",
       "         'one': 1459,\n",
       "         'mills': 1407,\n",
       "         '##s': 1383,\n",
       "         'carriage': 1265,\n",
       "         'instruments': 1263,\n",
       "         'method': 1252,\n",
       "         'press': 1190,\n",
       "         'body': 1175,\n",
       "         'boat': 1153,\n",
       "         'tools': 1146,\n",
       "         'plant': 1135,\n",
       "         'invention': 1113,\n",
       "         'man': 1103,\n",
       "         'paper': 1103,\n",
       "         'men': 1102,\n",
       "         'mechanism': 1101,\n",
       "         'horse': 1060,\n",
       "         'water': 1036,\n",
       "         'box': 1000,\n",
       "         'iron': 977,\n",
       "         'thing': 974,\n",
       "         'place': 958,\n",
       "         'vehicle': 942,\n",
       "         'ship': 938,\n",
       "         'wheels': 931,\n",
       "         'pump': 906,\n",
       "         'means': 892,\n",
       "         'vessels': 877,\n",
       "         'houses': 854,\n",
       "         'whole': 850,\n",
       "         'principle': 839,\n",
       "         'materials': 822,\n",
       "         'frame': 820,\n",
       "         'patent': 794,\n",
       "         'board': 792,\n",
       "         'implements': 778,\n",
       "         'hand': 759,\n",
       "         'stone': 753,\n",
       "         'fire': 750,\n",
       "         'room': 749,\n",
       "         'implement': 739,\n",
       "         'business': 737,\n",
       "         'same': 734,\n",
       "         'rope': 709,\n",
       "         'cylinder': 707,\n",
       "         'building': 706,\n",
       "         'people': 701,\n",
       "         'furnace': 695,\n",
       "         'company': 679,\n",
       "         'ground': 670,\n",
       "         'horses': 660,\n",
       "         'articles': 653,\n",
       "         'i': 651,\n",
       "         'structure': 651,\n",
       "         'table': 646,\n",
       "         'battery': 633,\n",
       "         'and': 626,\n",
       "         'boiler': 625,\n",
       "         'rod': 623,\n",
       "         'force': 620,\n",
       "         'office': 611,\n",
       "         'party': 610,\n",
       "         'car': 610,\n",
       "         'steam': 602,\n",
       "         'mode': 588,\n",
       "         'the': 580,\n",
       "         'goods': 578,\n",
       "         ';': 555,\n",
       "         'appliances': 553,\n",
       "         'establishments': 551,\n",
       "         '\"': 550,\n",
       "         'hands': 547,\n",
       "         'boats': 542,\n",
       "         'it': 539,\n",
       "         'cart': 538,\n",
       "         'material': 535,\n",
       "         'floor': 535,\n",
       "         'coach': 535,\n",
       "         'fabric': 531,\n",
       "         'arrangement': 530,\n",
       "         'scheme': 529,\n",
       "         'factory': 527,\n",
       "         'other': 524,\n",
       "         'piece': 519,\n",
       "         'buildings': 517,\n",
       "         'carriages': 515,\n",
       "         'clock': 513,\n",
       "         'tool': 513,\n",
       "         'latter': 511,\n",
       "         'animal': 510,\n",
       "         'government': 510,\n",
       "         'model': 508,\n",
       "         'mine': 507,\n",
       "         'balloon': 504,\n",
       "         'train': 502,\n",
       "         'line': 501,\n",
       "         'case': 496,\n",
       "         'person': 492,\n",
       "         'corn': 489,\n",
       "         'property': 487,\n",
       "         'article': 482,\n",
       "         'inventions': 480,\n",
       "         'art': 471,\n",
       "         'watch': 470,\n",
       "         'glass': 465,\n",
       "         'yard': 462,\n",
       "         'cabinet': 452,\n",
       "         'air': 451,\n",
       "         'things': 446,\n",
       "         'trade': 443,\n",
       "         'cotton': 443,\n",
       "         ':': 438,\n",
       "         'world': 437,\n",
       "         'department': 432,\n",
       "         'tube': 423,\n",
       "         'roller': 422,\n",
       "         'state': 419,\n",
       "         'cloth': 419,\n",
       "         'operations': 417,\n",
       "         'mass': 414,\n",
       "         'book': 412,\n",
       "         'basket': 411,\n",
       "         'processes': 410,\n",
       "         'form': 409,\n",
       "         'a': 408,\n",
       "         'country': 398,\n",
       "         'object': 395,\n",
       "         'animals': 394,\n",
       "         'persons': 391,\n",
       "         'scale': 391,\n",
       "         'improvements': 390,\n",
       "         'law': 384,\n",
       "         'land': 379,\n",
       "         'locomotive': 379,\n",
       "         'operation': 376,\n",
       "         'money': 372,\n",
       "         'ships': 370,\n",
       "         'gun': 370,\n",
       "         'in': 368,\n",
       "         'pieces': 365,\n",
       "         'pumps': 364,\n",
       "         'road': 364,\n",
       "         'shop': 364,\n",
       "         'chair': 363,\n",
       "         'lever': 361,\n",
       "         'factories': 359,\n",
       "         'others': 358,\n",
       "         '##e': 357,\n",
       "         'chimney': 353,\n",
       "         'wood': 353,\n",
       "         'agent': 353,\n",
       "         'design': 352,\n",
       "         'of': 351,\n",
       "         'tables': 348,\n",
       "         'powers': 345,\n",
       "         'them': 344,\n",
       "         'shoe': 343,\n",
       "         'labour': 341,\n",
       "         ')': 338,\n",
       "         'shed': 334,\n",
       "         'hammer': 333,\n",
       "         'coal': 332,\n",
       "         'gear': 331,\n",
       "         'pipe': 329,\n",
       "         'field': 328,\n",
       "         'motion': 327,\n",
       "         'matter': 322,\n",
       "         'canal': 322,\n",
       "         'way': 319,\n",
       "         'floors': 318,\n",
       "         'earth': 317,\n",
       "         'tub': 314,\n",
       "         'parties': 313,\n",
       "         'device': 313,\n",
       "         'railway': 310,\n",
       "         'stones': 308,\n",
       "         '1': 307,\n",
       "         'rooms': 306,\n",
       "         'stock': 305,\n",
       "         'head': 302,\n",
       "         'part': 302,\n",
       "         'wagon': 301,\n",
       "         'ball': 300,\n",
       "         'manufactures': 300,\n",
       "         'experiment': 298,\n",
       "         'brick': 296,\n",
       "         'institution': 296,\n",
       "         'presses': 296,\n",
       "         'ones': 295,\n",
       "         'manufacture': 293,\n",
       "         'pan': 291,\n",
       "         'day': 290,\n",
       "         'places': 288,\n",
       "         'lamp': 288,\n",
       "         'trough': 286,\n",
       "         'construction': 284,\n",
       "         's': 282,\n",
       "         'boilers': 282,\n",
       "         'bridge': 281,\n",
       "         'gas': 281,\n",
       "         'constitution': 278,\n",
       "         'hall': 277,\n",
       "         'light': 277,\n",
       "         'barn': 277,\n",
       "         'lines': 275,\n",
       "         'harness': 273,\n",
       "         'windmill': 272,\n",
       "         'ram': 272,\n",
       "         'knife': 267,\n",
       "         '##r': 267,\n",
       "         'boxes': 266,\n",
       "         'chain': 265,\n",
       "         'time': 265,\n",
       "         'station': 264,\n",
       "         '##y': 263,\n",
       "         'wind': 263,\n",
       "         'improvement': 261,\n",
       "         'c': 261,\n",
       "         'objects': 260,\n",
       "         'arms': 260,\n",
       "         '##t': 259,\n",
       "         'sail': 256,\n",
       "         'bill': 255,\n",
       "         '##er': 253,\n",
       "         'frames': 251,\n",
       "         'subject': 250,\n",
       "         'premises': 249,\n",
       "         'that': 246,\n",
       "         'new': 244,\n",
       "         'stand': 242,\n",
       "         'spirit': 242,\n",
       "         'master': 241,\n",
       "         'committee': 241,\n",
       "         'shops': 238,\n",
       "         'children': 235,\n",
       "         'globe': 235,\n",
       "         'vehicles': 234,\n",
       "         'boy': 234,\n",
       "         'block': 233,\n",
       "         'lace': 232,\n",
       "         'science': 231,\n",
       "         'tree': 231,\n",
       "         't': 229,\n",
       "         'first': 227,\n",
       "         'industry': 226,\n",
       "         'society': 226,\n",
       "         'offices': 226,\n",
       "         'forge': 225,\n",
       "         'river': 223,\n",
       "         'j': 223,\n",
       "         'all': 222,\n",
       "         'monster': 221,\n",
       "         'weight': 221,\n",
       "         'measure': 220,\n",
       "         'e': 219,\n",
       "         'pattern': 218,\n",
       "         'carts': 218,\n",
       "         'wire': 218,\n",
       "         '##i': 217,\n",
       "         'dress': 217,\n",
       "         'parts': 215,\n",
       "         'timber': 215,\n",
       "         'up': 214,\n",
       "         'town': 213,\n",
       "         'books': 212,\n",
       "         'nail': 212,\n",
       "         'cattle': 211,\n",
       "         'bar': 211,\n",
       "         'methods': 210,\n",
       "         'laws': 209,\n",
       "         'manufacturers': 209,\n",
       "         'net': 208,\n",
       "         'booth': 208,\n",
       "         'mind': 208,\n",
       "         'creature': 207,\n",
       "         'experiments': 207,\n",
       "         'models': 206,\n",
       "         'plate': 206,\n",
       "         'court': 205,\n",
       "         'nation': 205,\n",
       "         'steamer': 204,\n",
       "         'being': 204,\n",
       "         'is': 203,\n",
       "         'papers': 203,\n",
       "         'boot': 203,\n",
       "         'team': 201,\n",
       "         'ladder': 200,\n",
       "         'arrangements': 200,\n",
       "         'now': 200,\n",
       "         'door': 199,\n",
       "         'mines': 198,\n",
       "         'm': 198,\n",
       "         'sea': 197,\n",
       "         '##v': 197,\n",
       "         'former': 196,\n",
       "         'hat': 195,\n",
       "         'bank': 194,\n",
       "         'course': 194,\n",
       "         'manner': 192,\n",
       "         'oven': 191,\n",
       "         'boys': 191,\n",
       "         'movement': 191,\n",
       "         'principles': 190,\n",
       "         'child': 189,\n",
       "         'practice': 188,\n",
       "         'chest': 188,\n",
       "         'type': 188,\n",
       "         'weapon': 187,\n",
       "         'large': 186,\n",
       "         'bell': 185,\n",
       "         'broom': 185,\n",
       "         'remedy': 184,\n",
       "         'crane': 183,\n",
       "         'stage': 183,\n",
       "         'hook': 183,\n",
       "         'pit': 183,\n",
       "         'plates': 182,\n",
       "         'rams': 182,\n",
       "         'cars': 182,\n",
       "         'cylinders': 182,\n",
       "         '##l': 181,\n",
       "         'window': 181,\n",
       "         'kind': 181,\n",
       "         'silk': 181,\n",
       "         'great': 180,\n",
       "         'agents': 179,\n",
       "         'discovery': 179,\n",
       "         'plans': 179,\n",
       "         'also': 179,\n",
       "         'current': 179,\n",
       "         'steel': 176,\n",
       "         'brush': 176,\n",
       "         'sheds': 176,\n",
       "         'two': 175,\n",
       "         '!': 175,\n",
       "         'which': 174,\n",
       "         'r': 173,\n",
       "         'shaft': 173,\n",
       "         'blocks': 173,\n",
       "         'trial': 172,\n",
       "         'out': 172,\n",
       "         '##ers': 171,\n",
       "         'public': 171,\n",
       "         'roads': 170,\n",
       "         'platform': 170,\n",
       "         'metal': 169,\n",
       "         'bath': 168,\n",
       "         'this': 168,\n",
       "         'woman': 167,\n",
       "         'pen': 165,\n",
       "         'sheet': 165,\n",
       "         'police': 164,\n",
       "         'order': 164,\n",
       "         'cause': 163,\n",
       "         '##ing': 160,\n",
       "         'piston': 160,\n",
       "         'project': 160,\n",
       "         'stream': 159,\n",
       "         'ropes': 159,\n",
       "         'they': 159,\n",
       "         'lantern': 159,\n",
       "         'comb': 159,\n",
       "         'those': 158,\n",
       "         'boards': 157,\n",
       "         'these': 157,\n",
       "         'or': 157,\n",
       "         'furniture': 157,\n",
       "         'guns': 156,\n",
       "         '##mill': 156,\n",
       "         'telegraph': 156,\n",
       "         'needle': 156,\n",
       "         'revolution': 155,\n",
       "         'measures': 154,\n",
       "         'powder': 154,\n",
       "         'arts': 154,\n",
       "         'sun': 154,\n",
       "         'cannon': 153,\n",
       "         'forces': 153,\n",
       "         'city': 152,\n",
       "         'affair': 151,\n",
       "         'question': 151,\n",
       "         'to': 150,\n",
       "         'tubes': 149,\n",
       "         'column': 149,\n",
       "         'balance': 148,\n",
       "         'organization': 148,\n",
       "         '##es': 147,\n",
       "         'as': 147,\n",
       "         'idea': 147,\n",
       "         'roof': 146,\n",
       "         'cutter': 146,\n",
       "         'drawing': 146,\n",
       "         'stove': 146,\n",
       "         'fluid': 145,\n",
       "         '##a': 145,\n",
       "         'administration': 145,\n",
       "         'for': 145,\n",
       "         'market': 145,\n",
       "         'flame': 145,\n",
       "         'pole': 145,\n",
       "         'rods': 144,\n",
       "         'officers': 144,\n",
       "         'organ': 144,\n",
       "         'printing': 144,\n",
       "         'grounds': 144,\n",
       "         'quantity': 144,\n",
       "         'harrow': 143,\n",
       "         'yards': 143,\n",
       "         'bird': 142,\n",
       "         'match': 142,\n",
       "         'substitute': 142,\n",
       "         'dock': 142,\n",
       "         'carpet': 142,\n",
       "         'telescope': 142,\n",
       "         'down': 142,\n",
       "         'bricks': 142,\n",
       "         'drill': 141,\n",
       "         'school': 141,\n",
       "         '##n': 141,\n",
       "         'effect': 141,\n",
       "         'labourers': 141,\n",
       "         'fires': 140,\n",
       "         'bodies': 140,\n",
       "         'class': 140,\n",
       "         'forms': 139,\n",
       "         'farm': 139,\n",
       "         'top': 139,\n",
       "         'screw': 139,\n",
       "         'act': 138,\n",
       "         'barge': 138,\n",
       "         'was': 138,\n",
       "         'mechanics': 138,\n",
       "         'figure': 137,\n",
       "         'stool': 137,\n",
       "         'number': 137,\n",
       "         'devices': 136,\n",
       "         'capital': 136,\n",
       "         'name': 134,\n",
       "         'b': 133,\n",
       "         'departments': 133,\n",
       "         'engineer': 133,\n",
       "         'bed': 133,\n",
       "         'batteries': 132,\n",
       "         'stamps': 132,\n",
       "         'economy': 132,\n",
       "         'fabrics': 132,\n",
       "         'circle': 132,\n",
       "         'specimen': 132,\n",
       "         'driver': 132,\n",
       "         'weights': 131,\n",
       "         'pipes': 131,\n",
       "         'mortar': 131,\n",
       "         'cases': 130,\n",
       "         'medium': 130,\n",
       "         'atmosphere': 130,\n",
       "         'undertaking': 130,\n",
       "         'scene': 130,\n",
       "         'tower': 129,\n",
       "         'scales': 129,\n",
       "         'women': 128,\n",
       "         'plane': 127,\n",
       "         'small': 127,\n",
       "         'army': 127,\n",
       "         'bottle': 127,\n",
       "         'life': 127,\n",
       "         'english': 127,\n",
       "         'conspiracy': 127,\n",
       "         'species': 127,\n",
       "         'craft': 126,\n",
       "         'parachute': 126,\n",
       "         'balloons': 126,\n",
       "         'spring': 125,\n",
       "         'affairs': 125,\n",
       "         'combination': 125,\n",
       "         'enterprise': 125,\n",
       "         'pot': 125,\n",
       "         'toy': 125,\n",
       "         'spot': 125,\n",
       "         'purposes': 125,\n",
       "         'bonnet': 124,\n",
       "         'locomotives': 124,\n",
       "         'surface': 124,\n",
       "         'creatures': 124,\n",
       "         'view': 124,\n",
       "         'n': 123,\n",
       "         'principal': 123,\n",
       "         'windows': 123,\n",
       "         'on': 123,\n",
       "         'yarn': 123,\n",
       "         'wall': 122,\n",
       "         'old': 122,\n",
       "         'brushes': 122,\n",
       "         'seat': 121,\n",
       "         '##d': 121,\n",
       "         'workshops': 121,\n",
       "         'theory': 121,\n",
       "         'standard': 121,\n",
       "         'well': 121,\n",
       "         'gentleman': 120,\n",
       "         'chamber': 120,\n",
       "         'commission': 120,\n",
       "         'bag': 120,\n",
       "         'structures': 120,\n",
       "         'present': 120,\n",
       "         'best': 119,\n",
       "         'inventor': 119,\n",
       "         'institutions': 119,\n",
       "         'heart': 119,\n",
       "         'pressure': 119,\n",
       "         'gig': 118,\n",
       "         'point': 118,\n",
       "         'only': 118,\n",
       "         'grain': 118,\n",
       "         'production': 117,\n",
       "         'stamp': 117,\n",
       "         'types': 117,\n",
       "         'hole': 117,\n",
       "         'tank': 117,\n",
       "         'saw': 116,\n",
       "         'servants': 116,\n",
       "         'barrel': 116,\n",
       "         'p': 115,\n",
       "         '(': 115,\n",
       "         'plants': 115,\n",
       "         'chariot': 115,\n",
       "         'provisions': 115,\n",
       "         'gentlemen': 114,\n",
       "         'policy': 114,\n",
       "         'street': 114,\n",
       "         'w': 113,\n",
       "         'nature': 113,\n",
       "         'railways': 113,\n",
       "         'ring': 112,\n",
       "         'designs': 111,\n",
       "         'gunpowder': 111,\n",
       "         '##h': 111,\n",
       "         'made': 111,\n",
       "         'result': 111,\n",
       "         'their': 111,\n",
       "         'family': 110,\n",
       "         'section': 110,\n",
       "         'classes': 110,\n",
       "         'baths': 109,\n",
       "         'contract': 108,\n",
       "         'church': 108,\n",
       "         'h': 107,\n",
       "         'prison': 107,\n",
       "         'right': 107,\n",
       "         'rack': 106,\n",
       "         'desk': 106,\n",
       "         'not': 106,\n",
       "         'community': 106,\n",
       "         'at': 106,\n",
       "         'fly': 106,\n",
       "         'rake': 105,\n",
       "         'action': 105,\n",
       "         'waters': 105,\n",
       "         'companies': 105,\n",
       "         'servant': 105,\n",
       "         'weapons': 104,\n",
       "         'blast': 104,\n",
       "         'beings': 104,\n",
       "         'there': 104,\n",
       "         'charge': 104,\n",
       "         'engineers': 104,\n",
       "         'specimens': 103,\n",
       "         'beam': 103,\n",
       "         'motor': 103,\n",
       "         'staff': 103,\n",
       "         'stores': 103,\n",
       "         'service': 103,\n",
       "         'soap': 103,\n",
       "         'card': 103,\n",
       "         'bucket': 103,\n",
       "         'print': 103,\n",
       "         'reservoir': 103,\n",
       "         'linen': 103,\n",
       "         'stuff': 103,\n",
       "         'expedition': 102,\n",
       "         'band': 102,\n",
       "         'letter': 102,\n",
       "         'warehouse': 101,\n",
       "         'position': 101,\n",
       "         'shovel': 101,\n",
       "         'dam': 100,\n",
       "         'crew': 100,\n",
       "         'o': 100,\n",
       "         'makers': 100,\n",
       "         'patents': 99,\n",
       "         'drawings': 99,\n",
       "         'war': 99,\n",
       "         'slaves': 99,\n",
       "         'kingdom': 99,\n",
       "         'trees': 99,\n",
       "         'gate': 99,\n",
       "         'district': 98,\n",
       "         'leather': 98,\n",
       "         'beast': 98,\n",
       "         'rails': 98,\n",
       "         'beasts': 97,\n",
       "         'foot': 97,\n",
       "         'substance': 97,\n",
       "         'pile': 97,\n",
       "         'mechanical': 97,\n",
       "         'days': 96,\n",
       "         'cigar': 96,\n",
       "         'sword': 96,\n",
       "         'stick': 96,\n",
       "         'original': 95,\n",
       "         'sheets': 95,\n",
       "         'explosion': 95,\n",
       "         'post': 95,\n",
       "         'are': 94,\n",
       "         'will': 94,\n",
       "         'jury': 94,\n",
       "         'test': 94,\n",
       "         'letters': 93,\n",
       "         'needles': 93,\n",
       "         'lamps': 93,\n",
       "         '##on': 93,\n",
       "         'soil': 93,\n",
       "         'thread': 93,\n",
       "         'slave': 93,\n",
       "         'wool': 93,\n",
       "         'figures': 92,\n",
       "         'purpose': 92,\n",
       "         'coaches': 92,\n",
       "         'oil': 92,\n",
       "         'conductor': 92,\n",
       "         'price': 92,\n",
       "         'element': 92,\n",
       "         'trains': 92,\n",
       "         'empire': 92,\n",
       "         'plot': 92,\n",
       "         'tunnel': 92,\n",
       "         'knowledge': 92,\n",
       "         'wheat': 92,\n",
       "         'laboratory': 92,\n",
       "         'hose': 92,\n",
       "         'branch': 91,\n",
       "         'd': 91,\n",
       "         'capacity': 90,\n",
       "         'cage': 90,\n",
       "         'systems': 90,\n",
       "         '##men': 90,\n",
       "         'itself': 90,\n",
       "         'centre': 90,\n",
       "         'fuel': 90,\n",
       "         'rule': 90,\n",
       "         'character': 90,\n",
       "         'rolls': 89,\n",
       "         'agency': 89,\n",
       "         '##j': 89,\n",
       "         'concern': 89,\n",
       "         'palace': 89,\n",
       "         'bottom': 89,\n",
       "         'cottages': 89,\n",
       "         'candle': 89,\n",
       "         'sum': 88,\n",
       "         'wagons': 88,\n",
       "         'space': 88,\n",
       "         'streets': 88,\n",
       "         'rock': 88,\n",
       "         'british': 88,\n",
       "         'handle': 87,\n",
       "         'cord': 87,\n",
       "         'tackle': 87,\n",
       "         'population': 87,\n",
       "         'parliament': 87,\n",
       "         'chains': 87,\n",
       "         'foundry': 86,\n",
       "         'here': 86,\n",
       "         'more': 86,\n",
       "         'trades': 86,\n",
       "         'race': 86,\n",
       "         'tide': 86,\n",
       "         'mountain': 86,\n",
       "         'general': 86,\n",
       "         'lime': 86,\n",
       "         'produce': 86,\n",
       "         '##house': 86,\n",
       "         'creation': 86,\n",
       "         '##rs': 85,\n",
       "         'progress': 85,\n",
       "         'magazine': 85,\n",
       "         'cards': 85,\n",
       "         'spade': 85,\n",
       "         'rest': 85,\n",
       "         'own': 85,\n",
       "         'views': 85,\n",
       "         'home': 85,\n",
       "         'co': 84,\n",
       "         '##g': 84,\n",
       "         'stations': 84,\n",
       "         'word': 84,\n",
       "         'individual': 84,\n",
       "         'passage': 84,\n",
       "         'feet': 84,\n",
       "         'file': 83,\n",
       "         'year': 83,\n",
       "         'he': 83,\n",
       "         'use': 83,\n",
       "         'firm': 83,\n",
       "         'magnet': 83,\n",
       "         'french': 83,\n",
       "         'exhibition': 83,\n",
       "         'corporation': 83,\n",
       "         'subjects': 83,\n",
       "         'individuals': 83,\n",
       "         'union': 83,\n",
       "         'tiles': 83,\n",
       "         'basin': 83,\n",
       "         'situation': 83,\n",
       "         'change': 83,\n",
       "         'schools': 83,\n",
       "         'inhabitants': 82,\n",
       "         'genius': 82,\n",
       "         'ware': 82,\n",
       "         'pens': 82,\n",
       "         'words': 81,\n",
       "         'lead': 81,\n",
       "         'elements': 81,\n",
       "         'by': 81,\n",
       "         'communication': 81,\n",
       "         'hay': 81,\n",
       "         'doors': 80,\n",
       "         'compass': 80,\n",
       "         'modes': 80,\n",
       "         'stocks': 80,\n",
       "         '##ie': 80,\n",
       "         'facilities': 80,\n",
       "         'bread': 80,\n",
       "         'troops': 79,\n",
       "         'docks': 79,\n",
       "         'ladies': 79,\n",
       "         'hotel': 79,\n",
       "         'barrels': 79,\n",
       "         'estate': 79,\n",
       "         'load': 79,\n",
       "         'masters': 79,\n",
       "         'artillery': 78,\n",
       "         'prisoners': 78,\n",
       "         'fields': 78,\n",
       "         'metals': 78,\n",
       "         'store': 78,\n",
       "         'rules': 77,\n",
       "         'shuttle': 77,\n",
       "         '##o': 77,\n",
       "         '?': 77,\n",
       "         'legislature': 77,\n",
       "         'description': 77,\n",
       "         'various': 76,\n",
       "         'fleet': 76,\n",
       "         'tin': 76,\n",
       "         '##b': 76,\n",
       "         'ice': 76,\n",
       "         'council': 76,\n",
       "         'sole': 76,\n",
       "         'organism': 76,\n",
       "         'workers': 76,\n",
       "         'yacht': 76,\n",
       "         'printer': 75,\n",
       "         'sheep': 75,\n",
       "         'arm': 75,\n",
       "         'lights': 75,\n",
       "         'pavilion': 75,\n",
       "         'l': 75,\n",
       "         'king': 75,\n",
       "         '##m': 75,\n",
       "         'lady': 75,\n",
       "         'nets': 75,\n",
       "         '##in': 74,\n",
       "         '##man': 74,\n",
       "         'cement': 74,\n",
       "         'bam': 74,\n",
       "         'springs': 74,\n",
       "         'booths': 74,\n",
       "         'author': 73,\n",
       "         'working': 73,\n",
       "         'preparations': 73,\n",
       "         'rights': 73,\n",
       "         'soul': 73,\n",
       "         'report': 73,\n",
       "         'substitutes': 73,\n",
       "         'steamboat': 73,\n",
       "         'kinds': 73,\n",
       "         'walls': 73,\n",
       "         'products': 73,\n",
       "         'were': 72,\n",
       "         'little': 72,\n",
       "         'phenomenon': 72,\n",
       "         'heat': 72,\n",
       "         'trap': 72,\n",
       "         'side': 72,\n",
       "         'masses': 72,\n",
       "         'document': 72,\n",
       "         'barges': 72,\n",
       "         'copper': 72,\n",
       "         'apartments': 72,\n",
       "         'mechanic': 72,\n",
       "         'warp': 72,\n",
       "         'shot': 71,\n",
       "         'again': 71,\n",
       "         'fish': 71,\n",
       "         '2': 71,\n",
       "         'barns': 71,\n",
       "         'manufacturer': 71,\n",
       "         'cottage': 71,\n",
       "         'wages': 71,\n",
       "         'universe': 71,\n",
       "         'enough': 71,\n",
       "         'dogs': 70,\n",
       "         'jenny': 70,\n",
       "         'v': 70,\n",
       "         'castle': 70,\n",
       "         'cranes': 70,\n",
       "         'such': 70,\n",
       "         'chairs': 70,\n",
       "         'prices': 70,\n",
       "         'set': 69,\n",
       "         'tent': 69,\n",
       "         'flames': 69,\n",
       "         '##u': 69,\n",
       "         'lands': 69,\n",
       "         'arch': 69,\n",
       "         'regulations': 69,\n",
       "         'style': 69,\n",
       "         'journal': 69,\n",
       "         'sabbath': 69,\n",
       "         'worm': 69,\n",
       "         'members': 68,\n",
       "         '##c': 68,\n",
       "         'necessity': 68,\n",
       "         'mast': 68,\n",
       "         '##is': 68,\n",
       "         'districts': 68,\n",
       "         'farmer': 68,\n",
       "         'circumstance': 68,\n",
       "         'ink': 68,\n",
       "         'product': 68,\n",
       "         'level': 68,\n",
       "         'back': 68,\n",
       "         'passengers': 68,\n",
       "         'receipt': 68,\n",
       "         'used': 68,\n",
       "         'brass': 67,\n",
       "         'examples': 67,\n",
       "         'cloud': 67,\n",
       "         'second': 67,\n",
       "         'fact': 67,\n",
       "         'authority': 67,\n",
       "         'some': 67,\n",
       "         'end': 66,\n",
       "         'straw': 66,\n",
       "         'procession': 66,\n",
       "         'we': 66,\n",
       "         'crowd': 66,\n",
       "         'canals': 66,\n",
       "         'railroad': 66,\n",
       "         'drills': 65,\n",
       "         'fund': 65,\n",
       "         'be': 65,\n",
       "         'theatre': 65,\n",
       "         'tile': 65,\n",
       "         'job': 65,\n",
       "         'skill': 65,\n",
       "         'peace': 65,\n",
       "         'many': 65,\n",
       "         'saloon': 65,\n",
       "         'still': 65,\n",
       "         'tar': 65,\n",
       "         'hair': 65,\n",
       "         'canoe': 64,\n",
       "         '##le': 64,\n",
       "         'supply': 64,\n",
       "         'circumstances': 64,\n",
       "         'dog': 64,\n",
       "         'assembly': 64,\n",
       "         'village': 64,\n",
       "         'copy': 64,\n",
       "         'commodities': 64,\n",
       "         'picture': 64,\n",
       "         'strength': 64,\n",
       "         'proceedings': 64,\n",
       "         'lock': 64,\n",
       "         'bridges': 64,\n",
       "         'above': 63,\n",
       "         'themselves': 63,\n",
       "         '##k': 63,\n",
       "         'bottles': 63,\n",
       "         'ways': 63,\n",
       "         'pencil': 63,\n",
       "         'barley': 63,\n",
       "         'attempt': 62,\n",
       "         'pin': 62,\n",
       "         '##f': 62,\n",
       "         'preparation': 62,\n",
       "         'an': 62,\n",
       "         'mob': 62,\n",
       "         'gallery': 62,\n",
       "         'schooner': 62,\n",
       "         'dish': 62,\n",
       "         'valve': 62,\n",
       "         'blacksmith': 62,\n",
       "         'stages': 62,\n",
       "         'monopoly': 62,\n",
       "         'soldiers': 61,\n",
       "         'pier': 61,\n",
       "         'columns': 61,\n",
       "         'with': 61,\n",
       "         'drum': 61,\n",
       "         'prisoner': 61,\n",
       "         'blow': 61,\n",
       "         'his': 61,\n",
       "         'cargo': 61,\n",
       "         'salt': 61,\n",
       "         'hill': 61,\n",
       "         'operatives': 61,\n",
       "         'him': 60,\n",
       "         'son': 60,\n",
       "         'garden': 60,\n",
       "         'cable': 60,\n",
       "         'its': 60,\n",
       "         'crops': 60,\n",
       "         'then': 60,\n",
       "         'carpenter': 60,\n",
       "         'clothes': 60,\n",
       "         'electricity': 60,\n",
       "         'three': 59,\n",
       "         'efforts': 59,\n",
       "         'bicycle': 59,\n",
       "         'several': 59,\n",
       "         'branches': 59,\n",
       "         'matters': 59,\n",
       "         '##ts': 59,\n",
       "         'enemy': 59,\n",
       "         'condition': 59,\n",
       "         'night': 59,\n",
       "         'productions': 59,\n",
       "         'unit': 58,\n",
       "         'evil': 58,\n",
       "         'navigation': 58,\n",
       "         'good': 58,\n",
       "         'regions': 58,\n",
       "         'serpent': 58,\n",
       "         'corps': 58,\n",
       "         'prize': 58,\n",
       "         'apartment': 58,\n",
       "         'spectacle': 58,\n",
       "         'mule': 58,\n",
       "         'clothing': 58,\n",
       "         'upper': 58,\n",
       "         'manufacturing': 58,\n",
       "         'barrow': 58,\n",
       "         'numbers': 57,\n",
       "         'times': 57,\n",
       "         'beach': 57,\n",
       "         '##w': 57,\n",
       "         'draught': 57,\n",
       "         'tax': 57,\n",
       "         'colliery': 57,\n",
       "         'tribunal': 57,\n",
       "         'whip': 57,\n",
       "         'ark': 57,\n",
       "         'accident': 57,\n",
       "         'sails': 57,\n",
       "         'division': 57,\n",
       "         'bench': 57,\n",
       "         'evidence': 57,\n",
       "         'tea': 57,\n",
       "         'information': 57,\n",
       "         'dynamo': 57,\n",
       "         'pond': 56,\n",
       "         'any': 56,\n",
       "         'organs': 56,\n",
       "         'coffin': 56,\n",
       "         'ministry': 56,\n",
       "         'newspaper': 56,\n",
       "         'orders': 56})"
      ]
     },
     "execution_count": 120,
     "metadata": {},
     "output_type": "execute_result"
    }
   ],
   "source": [
    "wf_1"
   ]
  },
  {
   "cell_type": "code",
   "execution_count": 121,
   "metadata": {},
   "outputs": [],
   "source": [
    "all_words = set(wf_1.keys()).union(set(wf_2.keys()))"
   ]
  },
  {
   "cell_type": "code",
   "execution_count": 122,
   "metadata": {},
   "outputs": [],
   "source": [
    "for w in all_words:\n",
    "    wf_1[w]+=.1\n",
    "    wf_2[w]+=.1"
   ]
  },
  {
   "cell_type": "code",
   "execution_count": 123,
   "metadata": {},
   "outputs": [],
   "source": [
    "totals_1 = sum(wf_1.values())\n",
    "totals_2 = sum(wf_2.values())"
   ]
  },
  {
   "cell_type": "code",
   "execution_count": 124,
   "metadata": {},
   "outputs": [],
   "source": [
    "prob_1,prob_2 = defaultdict(float),defaultdict(float)\n",
    "for w in all_words:\n",
    "    prob_1[w] = wf_1[w]/totals_1\n",
    "    prob_2[w] = wf_2[w]/totals_2"
   ]
  },
  {
   "cell_type": "code",
   "execution_count": 125,
   "metadata": {},
   "outputs": [
    {
     "data": {
      "text/plain": [
       "(6.194335394353352, 6.112133989386541)"
      ]
     },
     "execution_count": 125,
     "metadata": {},
     "output_type": "execute_result"
    }
   ],
   "source": [
    "entropy(list(prob_1.values())),entropy(list(prob_2.values()))"
   ]
  },
  {
   "cell_type": "markdown",
   "metadata": {},
   "source": [
    "## Rank differences for a specific words"
   ]
  },
  {
   "cell_type": "code",
   "execution_count": 37,
   "metadata": {},
   "outputs": [
    {
     "data": {
      "text/plain": [
       "Index(['item_code', 'issue_code', 'publication_code', 'prevSentence',\n",
       "       'currentSentence', 'markedSentence', 'maskedSentence', 'nextSentence',\n",
       "       'targetExpression', 'article_path', 'item_id', 'issue_id',\n",
       "       'publication_id', 'issue_date', 'item_type', 'word_count',\n",
       "       'ocr_quality_mean', 'title', 'location', 'year', 'sentId', 'synt',\n",
       "       'query_label', 'pred_bert_1760_1900', 'pred_bert_contemporary',\n",
       "       'machine_1760_1900', 'boy_1760_1900', 'girl_1760_1900',\n",
       "       'slave_1760_1900', 'artisan_1760_1900', 'woman_1760_1900',\n",
       "       'machine_contemporary', 'boy_contemporary', 'girl_contemporary',\n",
       "       'slave_contemporary', 'artisan_contemporary', 'woman_contemporary',\n",
       "       'rbo', 'slave_diff'],\n",
       "      dtype='object')"
      ]
     },
     "execution_count": 37,
     "metadata": {},
     "output_type": "execute_result"
    }
   ],
   "source": [
    "df_1.columns"
   ]
  },
  {
   "cell_type": "code",
   "execution_count": 39,
   "metadata": {},
   "outputs": [
    {
     "data": {
      "text/plain": [
       "1"
      ]
     },
     "execution_count": 39,
     "metadata": {},
     "output_type": "execute_result"
    }
   ],
   "source": []
  },
  {
   "cell_type": "code",
   "execution_count": 48,
   "metadata": {},
   "outputs": [],
   "source": [
    "def get_position(x, target_word): \n",
    "    try: \n",
    "        return 1/ ([w for w,v in x].index(target_word) + 1)\n",
    "    except ValueError:\n",
    "        return 1 / (len(x) + 1)\n"
   ]
  },
  {
   "cell_type": "code",
   "execution_count": 49,
   "metadata": {},
   "outputs": [],
   "source": [
    "target_word = 'slave'\n",
    "df_1[f'{target_word}_old'] = df_1.pred_bert_1760_1900.apply(get_position, target_word=target_word)\n",
    "df_1[f'{target_word}_new'] = df_1.pred_bert_contemporary.apply(get_position, target_word=target_word)"
   ]
  },
  {
   "cell_type": "code",
   "execution_count": 50,
   "metadata": {},
   "outputs": [],
   "source": [
    "df_1[f'{target_word}_rank_diff'] = df_1[f'{target_word}_old'] - df_1[f'{target_word}_new']"
   ]
  },
  {
   "cell_type": "code",
   "execution_count": 60,
   "metadata": {},
   "outputs": [
    {
     "data": {
      "text/html": [
       "<div>\n",
       "<style scoped>\n",
       "    .dataframe tbody tr th:only-of-type {\n",
       "        vertical-align: middle;\n",
       "    }\n",
       "\n",
       "    .dataframe tbody tr th {\n",
       "        vertical-align: top;\n",
       "    }\n",
       "\n",
       "    .dataframe thead th {\n",
       "        text-align: right;\n",
       "    }\n",
       "</style>\n",
       "<table border=\"1\" class=\"dataframe\">\n",
       "  <thead>\n",
       "    <tr style=\"text-align: right;\">\n",
       "      <th></th>\n",
       "      <th>currentSentence</th>\n",
       "      <th>pred_bert_1760_1900</th>\n",
       "      <th>pred_bert_contemporary</th>\n",
       "      <th>slave_rank_diff</th>\n",
       "    </tr>\n",
       "  </thead>\n",
       "  <tbody>\n",
       "    <tr>\n",
       "      <th>9817</th>\n",
       "      <td>His plan was condemned upon the ground, that it tended ' to render man too much of a machine.</td>\n",
       "      <td>[[slave, 0.1], [savage, 0.1], [tyrant, 0.08], [man, 0.06], [fool, 0.05], [gentleman, 0.05], [brute, 0.04], [farmer, 0.03], [christian, 0.03], [coward, 0.03], [reformer, 0.02], [master, 0.02], [soldier, 0.02], [philanthropist, 0.01], [child, 0.01], [hero, 0.01], [necessity, 0.01], [burden, 0.01], [stranger, 0.01], [citizen, 0.01]]</td>\n",
       "      <td>[[man, 0.11], [hero, 0.07], [victim, 0.06], [friend, 0.03], [coward, 0.03], [target, 0.03], [burden, 0.02], [character, 0.02], [threat, 0.02], [person, 0.02], [soldier, 0.02], [prisoner, 0.02], [fool, 0.02], [leader, 0.01], [host, 0.01], [martyr, 0.01], [nation, 0.01], [foe, 0.01], [servant, 0.01], [disadvantage, 0.01]]</td>\n",
       "      <td>0.952381</td>\n",
       "    </tr>\n",
       "    <tr>\n",
       "      <th>1069</th>\n",
       "      <td>Having excluded all moral liberty from his system, and reduced man to a mere \" living machine, \" ( Essays, p. 28. ) he kindly points out the error on which society has hitherto been based.</td>\n",
       "      <td>[[slave, 0.1], [machine, 0.08], [animal, 0.07], [creature, 0.05], [being, 0.03], [thing, 0.03], [man, 0.03], [brute, 0.03], [stock, 0.02], [savage, 0.02], [stone, 0.02], [mass, 0.02], [statue, 0.02], [god, 0.02], [skeleton, 0.02], [worm, 0.01], [principle, 0.01], [log, 0.01], [plant, 0.01], [beast, 0.01]]</td>\n",
       "      <td>[[thing, 0.29], [being, 0.2], [creature, 0.05], [machine, 0.02], [man, 0.02], [organism, 0.02], [god, 0.02], [animal, 0.01], [form, 0.01], [person, 0.01], [object, 0.01], [corpse, 0.01], [ape, 0.01], [stone, 0.01], [hell, 0.01], [matter, 0.01], [tree, 0.0], [statue, 0.0], [figure, 0.0], [spirit, 0.0]]</td>\n",
       "      <td>0.952381</td>\n",
       "    </tr>\n",
       "    <tr>\n",
       "      <th>26405</th>\n",
       "      <td>The act of receiving a bribe is of itself des grading, and when it is : compulsion that is employed instead of bribery, a bitter and angry feeling is created in the mind of the tenant or the tradesman who is made to feel himself a machine in the hands of his master, and not permitted to have a mind of his own.</td>\n",
       "      <td>[[slave, 0.36], [tool, 0.25], [prisoner, 0.11], [servant, 0.05], [puppet, 0.04], [captive, 0.03], [dependent, 0.02], [man, 0.01], [vassal, 0.01], [stranger, 0.01], [creature, 0.01], [subordinate, 0.01], [child, 0.0], [prey, 0.0], [subject, 0.0], [victim, 0.0], [cipher, 0.0], [burden, 0.0], [person, 0.0], [master, 0.0]]</td>\n",
       "      <td>[[puppet, 0.11], [prisoner, 0.1], [burden, 0.08], [victim, 0.06], [slave, 0.06], [servant, 0.04], [stranger, 0.04], [threat, 0.02], [danger, 0.02], [fool, 0.02], [pawn, 0.02], [subject, 0.01], [hostage, 0.01], [power, 0.01], [captive, 0.01], [tyrant, 0.01], [part, 0.01], [man, 0.01], [liability, 0.01], [monopoly, 0.01]]</td>\n",
       "      <td>0.800000</td>\n",
       "    </tr>\n",
       "    <tr>\n",
       "      <th>9791</th>\n",
       "      <td>He has been a machine merely in the hands of the richer classes. , Now that such should, produce an indifference to perform labour in a suitable manner, is easy to be i►nagined in such a state of society, as it regards const►tutional freedom, and where all rights are acknowledged as our own.</td>\n",
       "      <td>[[slave, 0.2], [tool, 0.13], [servant, 0.07], [person, 0.04], [labour, 0.04], [machine, 0.03], [puppet, 0.02], [man, 0.02], [mechanic, 0.02], [prisoner, 0.02], [subject, 0.02], [stranger, 0.01], [creature, 0.01], [instrument, 0.01], [child, 0.01], [thing, 0.01], [burden, 0.01], [master, 0.01], [farmer, 0.01], [work, 0.01]]</td>\n",
       "      <td>[[servant, 0.07], [slave, 0.05], [victim, 0.04], [man, 0.03], [burden, 0.02], [result, 0.02], [labour, 0.02], [work, 0.02], [commodity, 0.02], [job, 0.02], [being, 0.01], [tool, 0.01], [subject, 0.01], [prisoner, 0.01], [worker, 0.01], [factor, 0.01], [freeman, 0.01], [problem, 0.01], [product, 0.01], [profit, 0.01]]</td>\n",
       "      <td>0.500000</td>\n",
       "    </tr>\n",
       "    <tr>\n",
       "      <th>33738</th>\n",
       "      <td>The modern soldier most no longer remain a passive machine, but must be trained as a skilled labourer.</td>\n",
       "      <td>[[soldier, 0.35000000000000003], [slave, 0.09], [spectator, 0.06], [mechanic, 0.05], [servant, 0.03], [passive, 0.03], [volunteer, 0.03], [subject, 0.02], [man, 0.02], [animal, 0.02], [tool, 0.02], [citizen, 0.01], [instrument, 0.01], [creature, 0.01], [warrior, 0.01], [brute, 0.01], [savage, 0.01], [farmer, 0.01], [vassal, 0.01], [force, 0.01]]</td>\n",
       "      <td>[[soldier, 0.72], [warrior, 0.06], [participant, 0.03], [fighter, 0.02], [citizen, 0.02], [spectator, 0.01], [observer, 0.01], [subject, 0.01], [hero, 0.0], [man, 0.0], [force, 0.0], [civilian, 0.0], [animal, 0.0], [individual, 0.0], [leader, 0.0], [passive, 0.0], [farmer, 0.0], [coward, 0.0], [person, 0.0], [opponent, 0.0]]</td>\n",
       "      <td>0.452381</td>\n",
       "    </tr>\n",
       "    <tr>\n",
       "      <th>2267</th>\n",
       "      <td>And I rejoice to tell you, that my advice has been adopted, and that resolutions have been come to, that in foreign countries machinery shall be a servant of man, and that man shall never be the slave of the machine.</td>\n",
       "      <td>[[master, 0.18], [slave, 0.16], [state, 0.06], [world, 0.04], [devil, 0.03], [man, 0.03], [soil, 0.02], [beast, 0.02], [creator, 0.02], [brute, 0.02], [tyrant, 0.02], [people, 0.02], [earth, 0.01], [individual, 0.01], [country, 0.01], [government, 0.01], [owner, 0.01], [employer, 0.01], [capitalist, 0.01], [manufacturer, 0.01]]</td>\n",
       "      <td>[[man, 0.13], [people, 0.12], [state, 0.12], [world, 0.07], [nation, 0.05], [government, 0.04], [country, 0.04], [poor, 0.02], [lord, 0.01], [law, 0.01], [enemy, 0.01], [earth, 0.01], [devil, 0.01], [machine, 0.01], [negro, 0.01], [nations, 0.01], [woman, 0.01], [masses, 0.01], [land, 0.01], [other, 0.01]]</td>\n",
       "      <td>0.452381</td>\n",
       "    </tr>\n",
       "    <tr>\n",
       "      <th>677</th>\n",
       "      <td>As long as the working man is paid liberally for his labour, we neither hear of distress nor indulge in complaint S; but the moment the machinery of the Whig political economist — who regards the working man as a machine—is brought into play, confusion and difficulties ensue.</td>\n",
       "      <td>[[master, 0.08], [slave, 0.07], [man, 0.06], [gentleman, 0.03], [subject, 0.03], [machine, 0.03], [power, 0.03], [capitalist, 0.03], [tool, 0.02], [tyrant, 0.02], [landlord, 0.02], [god, 0.01], [puppet, 0.01], [person, 0.01], [farmer, 0.01], [employer, 0.01], [manufacturer, 0.01], [sovereign, 0.01], [minister, 0.01], [burden, 0.01]]</td>\n",
       "      <td>[[mere, 0.06], [political, 0.03], [social, 0.02], [labour, 0.02], [working, 0.02], [capitalist, 0.02], [criminal, 0.01], [poor, 0.01], [human, 0.01], [moral, 0.01], [free, 0.01], [revolutionary, 0.01], [benevolent, 0.01], [bad, 0.01], [useful, 0.01], [good, 0.01], [socialist, 0.01], [natural, 0.01], [liberal, 0.01], [bourgeois, 0.01]]</td>\n",
       "      <td>0.452381</td>\n",
       "    </tr>\n",
       "    <tr>\n",
       "      <th>9886</th>\n",
       "      <td>The science of politics is become too much a matter of cold and heartless calculation; man is treated as a kind of moral machine, and an exclusive attention is paid to the wealth of Nations, as if wealth alone could secure the happiness of Nations.</td>\n",
       "      <td>[[agent, 0.13], [slave, 0.09], [animal, 0.09], [being, 0.03], [unit, 0.02], [burden, 0.02], [philosopher, 0.02], [abstraction, 0.02], [man, 0.01], [creature, 0.01], [brute, 0.01], [principle, 0.01], [power, 0.01], [phenomenon, 0.01], [entity, 0.01], [monster, 0.01], [##ist, 0.01], [enemy, 0.01], [problem, 0.01], [tyrant, 0.01]]</td>\n",
       "      <td>[[hero, 0.03], [servant, 0.03], [man, 0.02], [philosopher, 0.02], [authority, 0.02], [genius, 0.02], [being, 0.02], [##ist, 0.02], [god, 0.02], [agent, 0.01], [enemy, 0.01], [creature, 0.01], [conscience, 0.01], [judge, 0.01], [principle, 0.01], [idol, 0.01], [slave, 0.01], [obligation, 0.01], [animal, 0.01], [figure, 0.01]]</td>\n",
       "      <td>0.441176</td>\n",
       "    </tr>\n",
       "    <tr>\n",
       "      <th>10855</th>\n",
       "      <td>Is a soldier to be, in his religious principles, as well as in his military conduct, a mere machine?</td>\n",
       "      <td>[[soldier, 0.09], [slave, 0.05], [man, 0.05], [brute, 0.04], [savage, 0.04], [servant, 0.03], [coward, 0.03], [mercenary, 0.03], [priest, 0.02], [novice, 0.02], [atheist, 0.02], [animal, 0.02], [monk, 0.02], [criminal, 0.02], [fool, 0.02], [clergyman, 0.02], [mechanic, 0.01], [creature, 0.01], [adventurer, 0.01], [tool, 0.01]]</td>\n",
       "      <td>[[soldier, 0.4], [man, 0.07], [servant, 0.07], [christian, 0.02], [officer, 0.02], [priest, 0.02], [civilian, 0.02], [warrior, 0.01], [nobleman, 0.01], [gentleman, 0.01], [coward, 0.01], [citizen, 0.01], [chaplain, 0.01], [monk, 0.01], [slave, 0.01], [child, 0.01], [observer, 0.01], [human, 0.01], [jew, 0.01], [atheist, 0.01]]</td>\n",
       "      <td>0.433333</td>\n",
       "    </tr>\n",
       "    <tr>\n",
       "      <th>13448</th>\n",
       "      <td>With a cold, calculating policy, they suspend the working of a fellowcreature as they do that of an insensate machine.</td>\n",
       "      <td>[[employer, 0.09], [slave, 0.08], [capitalist, 0.07], [friend, 0.06], [neighbour, 0.03], [man, 0.03], [individual, 0.02], [machine, 0.02], [master, 0.02], [agent, 0.02], [one, 0.01], [stranger, 0.01], [mechanic, 0.01], [enemy, 0.01], [servant, 0.01], [brother, 0.01], [manufacturer, 0.01], [foe, 0.01], [victim, 0.01], [citizen, 0.01]]</td>\n",
       "      <td>[[woman, 0.13], [man, 0.07], [wife, 0.05], [one, 0.03], [husband, 0.03], [person, 0.02], [citizen, 0.02], [mistress, 0.01], [mother, 0.01], [spouse, 0.01], [employer, 0.01], [individual, 0.01], [slave, 0.01], [capitalist, 0.01], [worker, 0.01], [magistrate, 0.01], [female, 0.01], [prostitute, 0.01], [girl, 0.01], [lady, 0.01]]</td>\n",
       "      <td>0.423077</td>\n",
       "    </tr>\n",
       "    <tr>\n",
       "      <th>6138</th>\n",
       "      <td>Is a soldier to be, in his religious principles, as well as al Iris military conduct, a mere machine?</td>\n",
       "      <td>[[soldier, 0.09], [slave, 0.05], [priest, 0.05], [man, 0.05], [brute, 0.05], [coward, 0.04], [monk, 0.04], [atheist, 0.03], [servant, 0.03], [savage, 0.03], [fool, 0.03], [mercenary, 0.02], [tool, 0.02], [novice, 0.02], [christian, 0.01], [criminal, 0.01], [clergyman, 0.01], [animal, 0.01], [spy, 0.01], [creature, 0.01]]</td>\n",
       "      <td>[[soldier, 0.28], [servant, 0.09], [man, 0.06], [christian, 0.04], [officer, 0.04], [priest, 0.03], [civilian, 0.02], [gentleman, 0.01], [warrior, 0.01], [chaplain, 0.01], [monk, 0.01], [slave, 0.01], [nobleman, 0.01], [jew, 0.01], [muslim, 0.01], [atheist, 0.01], [knight, 0.0], [shepherd, 0.0], [cleric, 0.0], [child, 0.0]]</td>\n",
       "      <td>0.416667</td>\n",
       "    </tr>\n",
       "    <tr>\n",
       "      <th>21581</th>\n",
       "      <td>But one of the worst symptoms of modern society was the tendency of the division of labour and the use of machinery to render man himself a machine, unless this tendency were counteracted by education.</td>\n",
       "      <td>[[brute, 0.22], [slave, 0.1], [machine, 0.1], [man, 0.09], [savage, 0.06], [master, 0.05], [necessity, 0.03], [mechanic, 0.03], [stranger, 0.02], [tyrant, 0.01], [worker, 0.01], [being, 0.01], [monster, 0.01], [unit, 0.01], [god, 0.01], [citizen, 0.01], [servant, 0.01], [power, 0.01], [beast, 0.01], [gentleman, 0.01]]</td>\n",
       "      <td>[[worker, 0.17], [man, 0.11], [servant, 0.06], [professional, 0.05], [citizen, 0.05], [slave, 0.05], [job, 0.04], [master, 0.04], [commodity, 0.02], [teacher, 0.01], [freeman, 0.01], [capitalist, 0.01], [soldier, 0.01], [leader, 0.01], [profession, 0.01], [work, 0.01], [gentleman, 0.01], [millionaire, 0.01], [person, 0.01], [householder, 0.01]]</td>\n",
       "      <td>0.333333</td>\n",
       "    </tr>\n",
       "    <tr>\n",
       "      <th>24856</th>\n",
       "      <td>Thirty Federal machine workers at Portsmouth, Virginia, have gone over to the Confederates.</td>\n",
       "      <td>[[cotton, 0.45], [slave, 0.2], [##ist, 0.14], [iron, 0.05], [sugar, 0.03], [slavery, 0.01], [union, 0.01], [negro, 0.0], [gold, 0.0], [tobacco, 0.0], [silk, 0.0], [brick, 0.0], [labor, 0.0], [##ized, 0.0], [coal, 0.0], [plantation, 0.0], [day, 0.0], [factory, 0.0], [soil, 0.0], [rice, 0.0]]</td>\n",
       "      <td>[[government, 0.25], [farm, 0.08], [prison, 0.06], [sugar, 0.04], [construction, 0.03], [slave, 0.03], [railroad, 0.03], [aid, 0.02], [dock, 0.02], [factory, 0.02], [civilian, 0.01], [office, 0.01], [munitions, 0.01], [contract, 0.01], [army, 0.01], [mill, 0.01], [mine, 0.01], [railway, 0.01], [service, 0.01], [wage, 0.01]]</td>\n",
       "      <td>0.333333</td>\n",
       "    </tr>\n",
       "    <tr>\n",
       "      <th>33146</th>\n",
       "      <td>Thirty Federal machine workers at Portsmouth, Virginia, have gone over to the Confederates.</td>\n",
       "      <td>[[cotton, 0.45], [slave, 0.19], [##ist, 0.14], [iron, 0.05], [sugar, 0.03], [slavery, 0.01], [union, 0.01], [negro, 0.01], [gold, 0.0], [tobacco, 0.0], [silk, 0.0], [brick, 0.0], [##ized, 0.0], [labor, 0.0], [coal, 0.0], [soil, 0.0], [day, 0.0], [plantation, 0.0], [factory, 0.0], [rice, 0.0]]</td>\n",
       "      <td>[[government, 0.26], [farm, 0.09], [prison, 0.06], [sugar, 0.03], [construction, 0.03], [slave, 0.03], [railroad, 0.02], [aid, 0.02], [dock, 0.02], [civilian, 0.02], [factory, 0.02], [contract, 0.01], [munitions, 0.01], [army, 0.01], [office, 0.01], [mill, 0.01], [wage, 0.01], [postal, 0.01], [mine, 0.01], [service, 0.01]]</td>\n",
       "      <td>0.333333</td>\n",
       "    </tr>\n",
       "    <tr>\n",
       "      <th>24101</th>\n",
       "      <td>The inevitable tendency of the system is to create great capitalists, who buy up slaves and lands, and extinguish the smaller white proprietors, and it must be admitted there is so far good for the slave in this feature of the system that, if held completely as a beast of burden and a labour machine by the large proprietor, he is better treated by him, although on a far lower footing, than by the poor white who is struggling to make a few bales ot * cotton out of ill tilled and inferior land.</td>\n",
       "      <td>[[##er, 0.97], [slave, 0.0], [##man, 0.0], [man, 0.0], [employer, 0.0], [bond, 0.0], [##ger, 0.0], [master, 0.0], [force, 0.0], [necessity, 0.0], [beast, 0.0], [product, 0.0], [##ing, 0.0], [animal, 0.0], [er, 0.0], [power, 0.0], [horse, 0.0], [tor, 0.0], [producer, 0.0], [##ed, 0.0]]</td>\n",
       "      <td>[[##er, 0.98], [force, 0.0], [,, 0.0], [##e, 0.0], [##man, 0.0], [slave, 0.0], [##ed, 0.0], [##or, 0.0], [##ing, 0.0], [##r, 0.0], [man, 0.0], [master, 0.0], [##horse, 0.0], [##ee, 0.0], [##less, 0.0], [person, 0.0], [member, 0.0], [##able, 0.0], [class, 0.0], [lord, 0.0]]</td>\n",
       "      <td>0.333333</td>\n",
       "    </tr>\n",
       "    <tr>\n",
       "      <th>24102</th>\n",
       "      <td>The inevitable tendency of the system is to create great capitalists, who buy up slaves and lands, and extinguish the smaller white proprietors, and it must be admitted there is so far good for the slave in this feature of the system that, if held completely as a beast of burden and a labour machine by the large proprietor, he is better treated by him, although on a far lower footing, than by the poor white who is struggling to make a few bales o ' cotton out of ill tilled and inferior land.</td>\n",
       "      <td>[[##er, 0.96], [slave, 0.01], [##man, 0.0], [man, 0.0], [employer, 0.0], [bond, 0.0], [##ger, 0.0], [master, 0.0], [force, 0.0], [beast, 0.0], [necessity, 0.0], [product, 0.0], [##ing, 0.0], [animal, 0.0], [power, 0.0], [horse, 0.0], [er, 0.0], [tor, 0.0], [producer, 0.0], [agent, 0.0]]</td>\n",
       "      <td>[[##er, 0.98], [force, 0.0], [,, 0.0], [##man, 0.0], [##e, 0.0], [slave, 0.0], [##or, 0.0], [##ed, 0.0], [##ing, 0.0], [##r, 0.0], [man, 0.0], [master, 0.0], [##less, 0.0], [##able, 0.0], [##ee, 0.0], [lord, 0.0], [person, 0.0], [##master, 0.0], [##ers, 0.0], [##horse, 0.0]]</td>\n",
       "      <td>0.333333</td>\n",
       "    </tr>\n",
       "    <tr>\n",
       "      <th>29894</th>\n",
       "      <td>Every man must be willing to work with a machine as an educated trained man, much more than being made the slave to do the work which the machine would do for him.</td>\n",
       "      <td>[[machine, 0.9500000000000001], [master, 0.01], [slave, 0.01], [man, 0.0], [machinery, 0.0], [machines, 0.0], [mechanic, 0.0], [child, 0.0], [wheel, 0.0], [maker, 0.0], [mill, 0.0], [woman, 0.0], [tool, 0.0], [needle, 0.0], [gun, 0.0], [forge, 0.0], [horse, 0.0], [locomotive, 0.0], [power, 0.0], [plant, 0.0]]</td>\n",
       "      <td>[[machine, 1.0], [machines, 0.0], [machinery, 0.0], [factory, 0.0], [computer, 0.0], [tool, 0.0], [robot, 0.0], [man, 0.0], [device, 0.0], [locomotive, 0.0], [system, 0.0], [master, 0.0], [mechanic, 0.0], [mechanical, 0.0], [mill, 0.0], [revolution, 0.0], [forge, 0.0], [woman, 0.0], [worker, 0.0], [manual, 0.0]]</td>\n",
       "      <td>0.285714</td>\n",
       "    </tr>\n",
       "    <tr>\n",
       "      <th>9932</th>\n",
       "      <td>Every one looks upon the event as a part of a system which has been for a long time efficiently tfiough silently operating, for the purpose of establishing within the whole frame of the Government a strictness of discipline and subor L dination, and of reducing to the level of a mere machine - every _ individual subject to its control, . whether in a civil or a military capacity.</td>\n",
       "      <td>[[unit, 0.13], [subordinate, 0.07], [slave, 0.06], [soldier, 0.06], [cipher, 0.06], [machine, 0.05], [subject, 0.05], [servant, 0.04], [fraction, 0.04], [puppet, 0.02], [shadow, 0.02], [individual, 0.01], [brute, 0.01], [child, 0.01], [tool, 0.01], [nominal, 0.01], [peasant, 0.01], [vassal, 0.01], [prisoner, 0.01], [handful, 0.01]]</td>\n",
       "      <td>[[matter, 0.02], [citizen, 0.02], [rule, 0.02], [institution, 0.02], [person, 0.01], [observer, 0.01], [one, 0.01], [servant, 0.01], [being, 0.01], [division, 0.01], [disturbance, 0.01], [punishment, 0.01], [force, 0.01], [human, 0.01], [example, 0.01], [threat, 0.01], [necessity, 0.01], [administration, 0.01], [individual, 0.01], [subject, 0.0]]</td>\n",
       "      <td>0.285714</td>\n",
       "    </tr>\n",
       "    <tr>\n",
       "      <th>30134</th>\n",
       "      <td>To place what are such indispensable elements of human intellect and human nature in the power of oar whole population, is an imperative duty on the liberal politician, first of all, who would raise man from the rank of a machine, and then upon the liberal Christian, who would unite reason with religious belief.</td>\n",
       "      <td>[[savage, 0.16], [brute, 0.15], [slave, 0.08], [philosopher, 0.05], [gentleman, 0.04], [man, 0.04], [peasant, 0.03], [beast, 0.02], [fool, 0.02], [lawyer, 0.01], [christian, 0.01], [citizen, 0.01], [priest, 0.01], [subject, 0.01], [legislator, 0.01], [politician, 0.01], [worm, 0.01], [criminal, 0.01], [farmer, 0.01], [herd, 0.01]]</td>\n",
       "      <td>[[genius, 0.07], [priest, 0.06], [man, 0.04], [king, 0.02], [scientist, 0.02], [general, 0.02], [monk, 0.02], [soldier, 0.02], [warrior, 0.01], [nobleman, 0.01], [doctor, 0.01], [philosopher, 0.01], [judge, 0.01], [scholar, 0.01], [citizen, 0.01], [god, 0.01], [professor, 0.01], [prince, 0.01], [nation, 0.01], [peasant, 0.01]]</td>\n",
       "      <td>0.285714</td>\n",
       "    </tr>\n",
       "    <tr>\n",
       "      <th>3425</th>\n",
       "      <td>Capital is still to be allowed to chain down the human being to the insensate machine, until nature faints by its side.</td>\n",
       "      <td>[[brute, 0.06], [chain, 0.05], [slave, 0.05], [machine, 0.04], [frame, 0.04], [power, 0.04], [state, 0.03], [mass, 0.02], [worm, 0.02], [condition, 0.02], [chains, 0.02], [body, 0.02], [animal, 0.01], [tyrant, 0.01], [system, 0.01], [man, 0.01], [monster, 0.01], [skeleton, 0.01], [heart, 0.01], [victim, 0.01]]</td>\n",
       "      <td>[[body, 0.06], [state, 0.05], [end, 0.03], [death, 0.02], [one, 0.02], [beast, 0.02], [heart, 0.02], [mind, 0.01], [man, 0.01], [condition, 0.01], [limit, 0.01], [self, 0.01], [form, 0.01], [nature, 0.01], [power, 0.01], [world, 0.01], [level, 0.01], [position, 0.01], [god, 0.01], [earth, 0.01]]</td>\n",
       "      <td>0.285714</td>\n",
       "    </tr>\n",
       "  </tbody>\n",
       "</table>\n",
       "</div>"
      ],
      "text/plain": [
       "                                                                                                                                                                                                                                                                                                                                                                                                                                                                                                         currentSentence  \\\n",
       "9817                                                                                                                                                                                                                                                                                                                                                                                                                       His plan was condemned upon the ground, that it tended ' to render man too much of a machine.   \n",
       "1069                                                                                                                                                                                                                                                                                                                        Having excluded all moral liberty from his system, and reduced man to a mere \" living machine, \" ( Essays, p. 28. ) he kindly points out the error on which society has hitherto been based.   \n",
       "26405                                                                                                                                                                                            The act of receiving a bribe is of itself des grading, and when it is : compulsion that is employed instead of bribery, a bitter and angry feeling is created in the mind of the tenant or the tradesman who is made to feel himself a machine in the hands of his master, and not permitted to have a mind of his own.   \n",
       "9791                                                                                                                                                                                                                He has been a machine merely in the hands of the richer classes. , Now that such should, produce an indifference to perform labour in a suitable manner, is easy to be i►nagined in such a state of society, as it regards const►tutional freedom, and where all rights are acknowledged as our own.   \n",
       "33738                                                                                                                                                                                                                                                                                                                                                                                                             The modern soldier most no longer remain a passive machine, but must be trained as a skilled labourer.   \n",
       "2267                                                                                                                                                                                                                                                                                            And I rejoice to tell you, that my advice has been adopted, and that resolutions have been come to, that in foreign countries machinery shall be a servant of man, and that man shall never be the slave of the machine.   \n",
       "677                                                                                                                                                                                                                                 As long as the working man is paid liberally for his labour, we neither hear of distress nor indulge in complaint S; but the moment the machinery of the Whig political economist — who regards the working man as a machine—is brought into play, confusion and difficulties ensue.   \n",
       "9886                                                                                                                                                                                                                                                            The science of politics is become too much a matter of cold and heartless calculation; man is treated as a kind of moral machine, and an exclusive attention is paid to the wealth of Nations, as if wealth alone could secure the happiness of Nations.   \n",
       "10855                                                                                                                                                                                                                                                                                                                                                                                                               Is a soldier to be, in his religious principles, as well as in his military conduct, a mere machine?   \n",
       "13448                                                                                                                                                                                                                                                                                                                                                                                             With a cold, calculating policy, they suspend the working of a fellowcreature as they do that of an insensate machine.   \n",
       "6138                                                                                                                                                                                                                                                                                                                                                                                                               Is a soldier to be, in his religious principles, as well as al Iris military conduct, a mere machine?   \n",
       "21581                                                                                                                                                                                                                                                                                                          But one of the worst symptoms of modern society was the tendency of the division of labour and the use of machinery to render man himself a machine, unless this tendency were counteracted by education.   \n",
       "24856                                                                                                                                                                                                                                                                                                                                                                                                                        Thirty Federal machine workers at Portsmouth, Virginia, have gone over to the Confederates.   \n",
       "33146                                                                                                                                                                                                                                                                                                                                                                                                                        Thirty Federal machine workers at Portsmouth, Virginia, have gone over to the Confederates.   \n",
       "24101  The inevitable tendency of the system is to create great capitalists, who buy up slaves and lands, and extinguish the smaller white proprietors, and it must be admitted there is so far good for the slave in this feature of the system that, if held completely as a beast of burden and a labour machine by the large proprietor, he is better treated by him, although on a far lower footing, than by the poor white who is struggling to make a few bales ot * cotton out of ill tilled and inferior land.   \n",
       "24102   The inevitable tendency of the system is to create great capitalists, who buy up slaves and lands, and extinguish the smaller white proprietors, and it must be admitted there is so far good for the slave in this feature of the system that, if held completely as a beast of burden and a labour machine by the large proprietor, he is better treated by him, although on a far lower footing, than by the poor white who is struggling to make a few bales o ' cotton out of ill tilled and inferior land.   \n",
       "29894                                                                                                                                                                                                                                                                                                                                                Every man must be willing to work with a machine as an educated trained man, much more than being made the slave to do the work which the machine would do for him.   \n",
       "9932                                                                                                                      Every one looks upon the event as a part of a system which has been for a long time efficiently tfiough silently operating, for the purpose of establishing within the whole frame of the Government a strictness of discipline and subor L dination, and of reducing to the level of a mere machine - every _ individual subject to its control, . whether in a civil or a military capacity.   \n",
       "30134                                                                                                                                                                                          To place what are such indispensable elements of human intellect and human nature in the power of oar whole population, is an imperative duty on the liberal politician, first of all, who would raise man from the rank of a machine, and then upon the liberal Christian, who would unite reason with religious belief.   \n",
       "3425                                                                                                                                                                                                                                                                                                                                                                                             Capital is still to be allowed to chain down the human being to the insensate machine, until nature faints by its side.   \n",
       "\n",
       "                                                                                                                                                                                                                                                                                                                                               pred_bert_1760_1900  \\\n",
       "9817                   [[slave, 0.1], [savage, 0.1], [tyrant, 0.08], [man, 0.06], [fool, 0.05], [gentleman, 0.05], [brute, 0.04], [farmer, 0.03], [christian, 0.03], [coward, 0.03], [reformer, 0.02], [master, 0.02], [soldier, 0.02], [philanthropist, 0.01], [child, 0.01], [hero, 0.01], [necessity, 0.01], [burden, 0.01], [stranger, 0.01], [citizen, 0.01]]   \n",
       "1069                                            [[slave, 0.1], [machine, 0.08], [animal, 0.07], [creature, 0.05], [being, 0.03], [thing, 0.03], [man, 0.03], [brute, 0.03], [stock, 0.02], [savage, 0.02], [stone, 0.02], [mass, 0.02], [statue, 0.02], [god, 0.02], [skeleton, 0.02], [worm, 0.01], [principle, 0.01], [log, 0.01], [plant, 0.01], [beast, 0.01]]   \n",
       "26405                             [[slave, 0.36], [tool, 0.25], [prisoner, 0.11], [servant, 0.05], [puppet, 0.04], [captive, 0.03], [dependent, 0.02], [man, 0.01], [vassal, 0.01], [stranger, 0.01], [creature, 0.01], [subordinate, 0.01], [child, 0.0], [prey, 0.0], [subject, 0.0], [victim, 0.0], [cipher, 0.0], [burden, 0.0], [person, 0.0], [master, 0.0]]   \n",
       "9791                          [[slave, 0.2], [tool, 0.13], [servant, 0.07], [person, 0.04], [labour, 0.04], [machine, 0.03], [puppet, 0.02], [man, 0.02], [mechanic, 0.02], [prisoner, 0.02], [subject, 0.02], [stranger, 0.01], [creature, 0.01], [instrument, 0.01], [child, 0.01], [thing, 0.01], [burden, 0.01], [master, 0.01], [farmer, 0.01], [work, 0.01]]   \n",
       "33738  [[soldier, 0.35000000000000003], [slave, 0.09], [spectator, 0.06], [mechanic, 0.05], [servant, 0.03], [passive, 0.03], [volunteer, 0.03], [subject, 0.02], [man, 0.02], [animal, 0.02], [tool, 0.02], [citizen, 0.01], [instrument, 0.01], [creature, 0.01], [warrior, 0.01], [brute, 0.01], [savage, 0.01], [farmer, 0.01], [vassal, 0.01], [force, 0.01]]   \n",
       "2267                     [[master, 0.18], [slave, 0.16], [state, 0.06], [world, 0.04], [devil, 0.03], [man, 0.03], [soil, 0.02], [beast, 0.02], [creator, 0.02], [brute, 0.02], [tyrant, 0.02], [people, 0.02], [earth, 0.01], [individual, 0.01], [country, 0.01], [government, 0.01], [owner, 0.01], [employer, 0.01], [capitalist, 0.01], [manufacturer, 0.01]]   \n",
       "677                 [[master, 0.08], [slave, 0.07], [man, 0.06], [gentleman, 0.03], [subject, 0.03], [machine, 0.03], [power, 0.03], [capitalist, 0.03], [tool, 0.02], [tyrant, 0.02], [landlord, 0.02], [god, 0.01], [puppet, 0.01], [person, 0.01], [farmer, 0.01], [employer, 0.01], [manufacturer, 0.01], [sovereign, 0.01], [minister, 0.01], [burden, 0.01]]   \n",
       "9886                     [[agent, 0.13], [slave, 0.09], [animal, 0.09], [being, 0.03], [unit, 0.02], [burden, 0.02], [philosopher, 0.02], [abstraction, 0.02], [man, 0.01], [creature, 0.01], [brute, 0.01], [principle, 0.01], [power, 0.01], [phenomenon, 0.01], [entity, 0.01], [monster, 0.01], [##ist, 0.01], [enemy, 0.01], [problem, 0.01], [tyrant, 0.01]]   \n",
       "10855                     [[soldier, 0.09], [slave, 0.05], [man, 0.05], [brute, 0.04], [savage, 0.04], [servant, 0.03], [coward, 0.03], [mercenary, 0.03], [priest, 0.02], [novice, 0.02], [atheist, 0.02], [animal, 0.02], [monk, 0.02], [criminal, 0.02], [fool, 0.02], [clergyman, 0.02], [mechanic, 0.01], [creature, 0.01], [adventurer, 0.01], [tool, 0.01]]   \n",
       "13448              [[employer, 0.09], [slave, 0.08], [capitalist, 0.07], [friend, 0.06], [neighbour, 0.03], [man, 0.03], [individual, 0.02], [machine, 0.02], [master, 0.02], [agent, 0.02], [one, 0.01], [stranger, 0.01], [mechanic, 0.01], [enemy, 0.01], [servant, 0.01], [brother, 0.01], [manufacturer, 0.01], [foe, 0.01], [victim, 0.01], [citizen, 0.01]]   \n",
       "6138                            [[soldier, 0.09], [slave, 0.05], [priest, 0.05], [man, 0.05], [brute, 0.05], [coward, 0.04], [monk, 0.04], [atheist, 0.03], [servant, 0.03], [savage, 0.03], [fool, 0.03], [mercenary, 0.02], [tool, 0.02], [novice, 0.02], [christian, 0.01], [criminal, 0.01], [clergyman, 0.01], [animal, 0.01], [spy, 0.01], [creature, 0.01]]   \n",
       "21581                              [[brute, 0.22], [slave, 0.1], [machine, 0.1], [man, 0.09], [savage, 0.06], [master, 0.05], [necessity, 0.03], [mechanic, 0.03], [stranger, 0.02], [tyrant, 0.01], [worker, 0.01], [being, 0.01], [monster, 0.01], [unit, 0.01], [god, 0.01], [citizen, 0.01], [servant, 0.01], [power, 0.01], [beast, 0.01], [gentleman, 0.01]]   \n",
       "24856                                                          [[cotton, 0.45], [slave, 0.2], [##ist, 0.14], [iron, 0.05], [sugar, 0.03], [slavery, 0.01], [union, 0.01], [negro, 0.0], [gold, 0.0], [tobacco, 0.0], [silk, 0.0], [brick, 0.0], [labor, 0.0], [##ized, 0.0], [coal, 0.0], [plantation, 0.0], [day, 0.0], [factory, 0.0], [soil, 0.0], [rice, 0.0]]   \n",
       "33146                                                        [[cotton, 0.45], [slave, 0.19], [##ist, 0.14], [iron, 0.05], [sugar, 0.03], [slavery, 0.01], [union, 0.01], [negro, 0.01], [gold, 0.0], [tobacco, 0.0], [silk, 0.0], [brick, 0.0], [##ized, 0.0], [labor, 0.0], [coal, 0.0], [soil, 0.0], [day, 0.0], [plantation, 0.0], [factory, 0.0], [rice, 0.0]]   \n",
       "24101                                                                [[##er, 0.97], [slave, 0.0], [##man, 0.0], [man, 0.0], [employer, 0.0], [bond, 0.0], [##ger, 0.0], [master, 0.0], [force, 0.0], [necessity, 0.0], [beast, 0.0], [product, 0.0], [##ing, 0.0], [animal, 0.0], [er, 0.0], [power, 0.0], [horse, 0.0], [tor, 0.0], [producer, 0.0], [##ed, 0.0]]   \n",
       "24102                                                              [[##er, 0.96], [slave, 0.01], [##man, 0.0], [man, 0.0], [employer, 0.0], [bond, 0.0], [##ger, 0.0], [master, 0.0], [force, 0.0], [beast, 0.0], [necessity, 0.0], [product, 0.0], [##ing, 0.0], [animal, 0.0], [power, 0.0], [horse, 0.0], [er, 0.0], [tor, 0.0], [producer, 0.0], [agent, 0.0]]   \n",
       "29894                                       [[machine, 0.9500000000000001], [master, 0.01], [slave, 0.01], [man, 0.0], [machinery, 0.0], [machines, 0.0], [mechanic, 0.0], [child, 0.0], [wheel, 0.0], [maker, 0.0], [mill, 0.0], [woman, 0.0], [tool, 0.0], [needle, 0.0], [gun, 0.0], [forge, 0.0], [horse, 0.0], [locomotive, 0.0], [power, 0.0], [plant, 0.0]]   \n",
       "9932                 [[unit, 0.13], [subordinate, 0.07], [slave, 0.06], [soldier, 0.06], [cipher, 0.06], [machine, 0.05], [subject, 0.05], [servant, 0.04], [fraction, 0.04], [puppet, 0.02], [shadow, 0.02], [individual, 0.01], [brute, 0.01], [child, 0.01], [tool, 0.01], [nominal, 0.01], [peasant, 0.01], [vassal, 0.01], [prisoner, 0.01], [handful, 0.01]]   \n",
       "30134                 [[savage, 0.16], [brute, 0.15], [slave, 0.08], [philosopher, 0.05], [gentleman, 0.04], [man, 0.04], [peasant, 0.03], [beast, 0.02], [fool, 0.02], [lawyer, 0.01], [christian, 0.01], [citizen, 0.01], [priest, 0.01], [subject, 0.01], [legislator, 0.01], [politician, 0.01], [worm, 0.01], [criminal, 0.01], [farmer, 0.01], [herd, 0.01]]   \n",
       "3425                                       [[brute, 0.06], [chain, 0.05], [slave, 0.05], [machine, 0.04], [frame, 0.04], [power, 0.04], [state, 0.03], [mass, 0.02], [worm, 0.02], [condition, 0.02], [chains, 0.02], [body, 0.02], [animal, 0.01], [tyrant, 0.01], [system, 0.01], [man, 0.01], [monster, 0.01], [skeleton, 0.01], [heart, 0.01], [victim, 0.01]]   \n",
       "\n",
       "                                                                                                                                                                                                                                                                                                                                             pred_bert_contemporary  \\\n",
       "9817                              [[man, 0.11], [hero, 0.07], [victim, 0.06], [friend, 0.03], [coward, 0.03], [target, 0.03], [burden, 0.02], [character, 0.02], [threat, 0.02], [person, 0.02], [soldier, 0.02], [prisoner, 0.02], [fool, 0.02], [leader, 0.01], [host, 0.01], [martyr, 0.01], [nation, 0.01], [foe, 0.01], [servant, 0.01], [disadvantage, 0.01]]   \n",
       "1069                                                 [[thing, 0.29], [being, 0.2], [creature, 0.05], [machine, 0.02], [man, 0.02], [organism, 0.02], [god, 0.02], [animal, 0.01], [form, 0.01], [person, 0.01], [object, 0.01], [corpse, 0.01], [ape, 0.01], [stone, 0.01], [hell, 0.01], [matter, 0.01], [tree, 0.0], [statue, 0.0], [figure, 0.0], [spirit, 0.0]]   \n",
       "26405                             [[puppet, 0.11], [prisoner, 0.1], [burden, 0.08], [victim, 0.06], [slave, 0.06], [servant, 0.04], [stranger, 0.04], [threat, 0.02], [danger, 0.02], [fool, 0.02], [pawn, 0.02], [subject, 0.01], [hostage, 0.01], [power, 0.01], [captive, 0.01], [tyrant, 0.01], [part, 0.01], [man, 0.01], [liability, 0.01], [monopoly, 0.01]]   \n",
       "9791                                 [[servant, 0.07], [slave, 0.05], [victim, 0.04], [man, 0.03], [burden, 0.02], [result, 0.02], [labour, 0.02], [work, 0.02], [commodity, 0.02], [job, 0.02], [being, 0.01], [tool, 0.01], [subject, 0.01], [prisoner, 0.01], [worker, 0.01], [factor, 0.01], [freeman, 0.01], [problem, 0.01], [product, 0.01], [profit, 0.01]]   \n",
       "33738                        [[soldier, 0.72], [warrior, 0.06], [participant, 0.03], [fighter, 0.02], [citizen, 0.02], [spectator, 0.01], [observer, 0.01], [subject, 0.01], [hero, 0.0], [man, 0.0], [force, 0.0], [civilian, 0.0], [animal, 0.0], [individual, 0.0], [leader, 0.0], [passive, 0.0], [farmer, 0.0], [coward, 0.0], [person, 0.0], [opponent, 0.0]]   \n",
       "2267                                            [[man, 0.13], [people, 0.12], [state, 0.12], [world, 0.07], [nation, 0.05], [government, 0.04], [country, 0.04], [poor, 0.02], [lord, 0.01], [law, 0.01], [enemy, 0.01], [earth, 0.01], [devil, 0.01], [machine, 0.01], [negro, 0.01], [nations, 0.01], [woman, 0.01], [masses, 0.01], [land, 0.01], [other, 0.01]]   \n",
       "677                [[mere, 0.06], [political, 0.03], [social, 0.02], [labour, 0.02], [working, 0.02], [capitalist, 0.02], [criminal, 0.01], [poor, 0.01], [human, 0.01], [moral, 0.01], [free, 0.01], [revolutionary, 0.01], [benevolent, 0.01], [bad, 0.01], [useful, 0.01], [good, 0.01], [socialist, 0.01], [natural, 0.01], [liberal, 0.01], [bourgeois, 0.01]]   \n",
       "9886                         [[hero, 0.03], [servant, 0.03], [man, 0.02], [philosopher, 0.02], [authority, 0.02], [genius, 0.02], [being, 0.02], [##ist, 0.02], [god, 0.02], [agent, 0.01], [enemy, 0.01], [creature, 0.01], [conscience, 0.01], [judge, 0.01], [principle, 0.01], [idol, 0.01], [slave, 0.01], [obligation, 0.01], [animal, 0.01], [figure, 0.01]]   \n",
       "10855                      [[soldier, 0.4], [man, 0.07], [servant, 0.07], [christian, 0.02], [officer, 0.02], [priest, 0.02], [civilian, 0.02], [warrior, 0.01], [nobleman, 0.01], [gentleman, 0.01], [coward, 0.01], [citizen, 0.01], [chaplain, 0.01], [monk, 0.01], [slave, 0.01], [child, 0.01], [observer, 0.01], [human, 0.01], [jew, 0.01], [atheist, 0.01]]   \n",
       "13448                      [[woman, 0.13], [man, 0.07], [wife, 0.05], [one, 0.03], [husband, 0.03], [person, 0.02], [citizen, 0.02], [mistress, 0.01], [mother, 0.01], [spouse, 0.01], [employer, 0.01], [individual, 0.01], [slave, 0.01], [capitalist, 0.01], [worker, 0.01], [magistrate, 0.01], [female, 0.01], [prostitute, 0.01], [girl, 0.01], [lady, 0.01]]   \n",
       "6138                          [[soldier, 0.28], [servant, 0.09], [man, 0.06], [christian, 0.04], [officer, 0.04], [priest, 0.03], [civilian, 0.02], [gentleman, 0.01], [warrior, 0.01], [chaplain, 0.01], [monk, 0.01], [slave, 0.01], [nobleman, 0.01], [jew, 0.01], [muslim, 0.01], [atheist, 0.01], [knight, 0.0], [shepherd, 0.0], [cleric, 0.0], [child, 0.0]]   \n",
       "21581    [[worker, 0.17], [man, 0.11], [servant, 0.06], [professional, 0.05], [citizen, 0.05], [slave, 0.05], [job, 0.04], [master, 0.04], [commodity, 0.02], [teacher, 0.01], [freeman, 0.01], [capitalist, 0.01], [soldier, 0.01], [leader, 0.01], [profession, 0.01], [work, 0.01], [gentleman, 0.01], [millionaire, 0.01], [person, 0.01], [householder, 0.01]]   \n",
       "24856                         [[government, 0.25], [farm, 0.08], [prison, 0.06], [sugar, 0.04], [construction, 0.03], [slave, 0.03], [railroad, 0.03], [aid, 0.02], [dock, 0.02], [factory, 0.02], [civilian, 0.01], [office, 0.01], [munitions, 0.01], [contract, 0.01], [army, 0.01], [mill, 0.01], [mine, 0.01], [railway, 0.01], [service, 0.01], [wage, 0.01]]   \n",
       "33146                          [[government, 0.26], [farm, 0.09], [prison, 0.06], [sugar, 0.03], [construction, 0.03], [slave, 0.03], [railroad, 0.02], [aid, 0.02], [dock, 0.02], [civilian, 0.02], [factory, 0.02], [contract, 0.01], [munitions, 0.01], [army, 0.01], [office, 0.01], [mill, 0.01], [wage, 0.01], [postal, 0.01], [mine, 0.01], [service, 0.01]]   \n",
       "24101                                                                             [[##er, 0.98], [force, 0.0], [,, 0.0], [##e, 0.0], [##man, 0.0], [slave, 0.0], [##ed, 0.0], [##or, 0.0], [##ing, 0.0], [##r, 0.0], [man, 0.0], [master, 0.0], [##horse, 0.0], [##ee, 0.0], [##less, 0.0], [person, 0.0], [member, 0.0], [##able, 0.0], [class, 0.0], [lord, 0.0]]   \n",
       "24102                                                                           [[##er, 0.98], [force, 0.0], [,, 0.0], [##man, 0.0], [##e, 0.0], [slave, 0.0], [##or, 0.0], [##ed, 0.0], [##ing, 0.0], [##r, 0.0], [man, 0.0], [master, 0.0], [##less, 0.0], [##able, 0.0], [##ee, 0.0], [lord, 0.0], [person, 0.0], [##master, 0.0], [##ers, 0.0], [##horse, 0.0]]   \n",
       "29894                                     [[machine, 1.0], [machines, 0.0], [machinery, 0.0], [factory, 0.0], [computer, 0.0], [tool, 0.0], [robot, 0.0], [man, 0.0], [device, 0.0], [locomotive, 0.0], [system, 0.0], [master, 0.0], [mechanic, 0.0], [mechanical, 0.0], [mill, 0.0], [revolution, 0.0], [forge, 0.0], [woman, 0.0], [worker, 0.0], [manual, 0.0]]   \n",
       "9932   [[matter, 0.02], [citizen, 0.02], [rule, 0.02], [institution, 0.02], [person, 0.01], [observer, 0.01], [one, 0.01], [servant, 0.01], [being, 0.01], [division, 0.01], [disturbance, 0.01], [punishment, 0.01], [force, 0.01], [human, 0.01], [example, 0.01], [threat, 0.01], [necessity, 0.01], [administration, 0.01], [individual, 0.01], [subject, 0.0]]   \n",
       "30134                      [[genius, 0.07], [priest, 0.06], [man, 0.04], [king, 0.02], [scientist, 0.02], [general, 0.02], [monk, 0.02], [soldier, 0.02], [warrior, 0.01], [nobleman, 0.01], [doctor, 0.01], [philosopher, 0.01], [judge, 0.01], [scholar, 0.01], [citizen, 0.01], [god, 0.01], [professor, 0.01], [prince, 0.01], [nation, 0.01], [peasant, 0.01]]   \n",
       "3425                                                       [[body, 0.06], [state, 0.05], [end, 0.03], [death, 0.02], [one, 0.02], [beast, 0.02], [heart, 0.02], [mind, 0.01], [man, 0.01], [condition, 0.01], [limit, 0.01], [self, 0.01], [form, 0.01], [nature, 0.01], [power, 0.01], [world, 0.01], [level, 0.01], [position, 0.01], [god, 0.01], [earth, 0.01]]   \n",
       "\n",
       "       slave_rank_diff  \n",
       "9817          0.952381  \n",
       "1069          0.952381  \n",
       "26405         0.800000  \n",
       "9791          0.500000  \n",
       "33738         0.452381  \n",
       "2267          0.452381  \n",
       "677           0.452381  \n",
       "9886          0.441176  \n",
       "10855         0.433333  \n",
       "13448         0.423077  \n",
       "6138          0.416667  \n",
       "21581         0.333333  \n",
       "24856         0.333333  \n",
       "33146         0.333333  \n",
       "24101         0.333333  \n",
       "24102         0.333333  \n",
       "29894         0.285714  \n",
       "9932          0.285714  \n",
       "30134         0.285714  \n",
       "3425          0.285714  "
      ]
     },
     "execution_count": 60,
     "metadata": {},
     "output_type": "execute_result"
    }
   ],
   "source": [
    "df_1.sort_values(f'{target_word}_rank_diff',ascending=False)[['currentSentence','pred_bert_1760_1900','pred_bert_contemporary',f'{target_word}_rank_diff']][:20]"
   ]
  },
  {
   "cell_type": "code",
   "execution_count": 58,
   "metadata": {},
   "outputs": [
    {
     "data": {
      "text/plain": [
       "<matplotlib.axes._subplots.AxesSubplot at 0x1b79bbe50>"
      ]
     },
     "execution_count": 58,
     "metadata": {},
     "output_type": "execute_result"
    },
    {
     "data": {
      "image/png": "[encoded data removed]",
      "text/plain": [
       "<Figure size 432x288 with 1 Axes>"
      ]
     },
     "metadata": {
      "needs_background": "light"
     },
     "output_type": "display_data"
    }
   ],
   "source": [
    "df_1[df_1[f'{target_word}_rank_diff'] != 0][f'{target_word}_rank_diff'].plot(kind='density')"
   ]
  },
  {
   "cell_type": "code",
   "execution_count": 59,
   "metadata": {},
   "outputs": [
    {
     "data": {
      "text/plain": [
       "-0.0061278555284638315"
      ]
     },
     "execution_count": 59,
     "metadata": {},
     "output_type": "execute_result"
    }
   ],
   "source": [
    "df_1[df_1[f'{target_word}_rank_diff'] != 0][f'{target_word}_rank_diff'].mean()"
   ]
  },
  {
   "cell_type": "code",
   "execution_count": 63,
   "metadata": {},
   "outputs": [],
   "source": [
    "df_1[df_1[f'{target_word}_rank_diff'] > 0].to_excel('machine_target_slave_rankdiff.xlsx')"
   ]
  },
  {
   "cell_type": "code",
   "execution_count": null,
   "metadata": {},
   "outputs": [],
   "source": [
    "# discourse of slavery removed from machines"
   ]
  },
  {
   "cell_type": "code",
   "execution_count": 65,
   "metadata": {},
   "outputs": [
    {
     "data": {
      "text/html": [
       "<div>\n",
       "<style scoped>\n",
       "    .dataframe tbody tr th:only-of-type {\n",
       "        vertical-align: middle;\n",
       "    }\n",
       "\n",
       "    .dataframe tbody tr th {\n",
       "        vertical-align: top;\n",
       "    }\n",
       "\n",
       "    .dataframe thead th {\n",
       "        text-align: right;\n",
       "    }\n",
       "</style>\n",
       "<table border=\"1\" class=\"dataframe\">\n",
       "  <thead>\n",
       "    <tr style=\"text-align: right;\">\n",
       "      <th></th>\n",
       "      <th>currentSentence</th>\n",
       "      <th>pred_bert_1760_1900</th>\n",
       "      <th>pred_bert_contemporary</th>\n",
       "      <th>men_rank_diff</th>\n",
       "    </tr>\n",
       "  </thead>\n",
       "  <tbody>\n",
       "    <tr>\n",
       "      <th>8974</th>\n",
       "      <td>It contains twentythree machines, which performs sixteen distinet operations on the stock, and are similar in principle and construction to those in use in the two Government armoury establishments in the United States, at Springfield, Massachusetts, and Harper 's ferry, Virginia.</td>\n",
       "      <td>[[men, 0.07], [hands, 0.06], [apparatus, 0.04], [machines, 0.04], [works, 0.04], [workshops, 0.04], [engines, 0.04], [boilers, 0.04], [batteries, 0.04], [machinery, 0.03], [files, 0.03], [horses, 0.02], [plates, 0.02], [drills, 0.02], [departments, 0.02], [crane, 0.01], [guns, 0.01], [cannon, 0.01], [cranes, 0.01], [assistants, 0.01]]</td>\n",
       "      <td>[[##s, 0.09], [guns, 0.06], [machinery, 0.04], [stores, 0.03], [ammunition, 0.03], [rifles, 0.02], [presses, 0.02], [machines, 0.02], [arms, 0.02], [equipment, 0.02], [tanks, 0.02], [pipes, 0.02], [stock, 0.01], [engines, 0.01], [armour, 0.01], [brass, 0.01], [plates, 0.01], [tools, 0.01], [boilers, 0.01], [##ts, 0.01]]</td>\n",
       "      <td>0.952381</td>\n",
       "    </tr>\n",
       "    <tr>\n",
       "      <th>32130</th>\n",
       "      <td>He himself, et however, expected a vast saving to accrue from the employ - t moat of sewing machines in the manufacture of regimental g clothing, while the sewing itself would he of a superior at. character.</td>\n",
       "      <td>[[men, 0.21], [women, 0.14], [machines, 0.06], [hands, 0.03], [and, 0.03], [##men, 0.03], [people, 0.03], [employed, 0.02], [,, 0.02], [parties, 0.02], [classes, 0.02], [materials, 0.01], [machine, 0.01], [girls, 0.01], [persons, 0.01], [machinery, 0.01], [power, 0.01], [-, 0.01], [ladies, 0.01], [material, 0.01]]</td>\n",
       "      <td>[[,, 0.14], [machines, 0.13], [used, 0.06], [machinery, 0.06], [and, 0.04], [work, 0.03], [machine, 0.02], [done, 0.01], [employed, 0.01], [##s, 0.01], [skills, 0.01], [techniques, 0.01], [skill, 0.01], [equipment, 0.01], [tools, 0.01], [power, 0.01], [methods, 0.01], [products, 0.01], [wheels, 0.01], [made, 0.01]]</td>\n",
       "      <td>0.952381</td>\n",
       "    </tr>\n",
       "    <tr>\n",
       "      <th>26878</th>\n",
       "      <td>But the meaning of it was this : The late Duke of Cleveland was a Tory, and the present Duke of Cleveland was a Whig, and every man who supported Mr. Merritt for the last election would vote against him at the next, for the voting machines called free and independent voters must do what the Duke of Cleveland wished them to do.</td>\n",
       "      <td>[[men, 0.4], [-, 0.13], [people, 0.06], [voters, 0.06], [being, 0.04], [are, 0.03], [party, 0.03], [classes, 0.02], [class, 0.02], [parties, 0.01], [now, 0.01], [is, 0.01], [were, 0.01], [so, 0.01], [be, 0.01], [electors, 0.01], [persons, 0.01], [fellows, 0.01], [bodies, 0.0], [they, 0.0]]</td>\n",
       "      <td>[[-, 0.04], [is, 0.04], [now, 0.03], [,, 0.03], [are, 0.03], [rights, 0.02], [system, 0.02], [was, 0.02], [place, 0.02], [places, 0.02], [being, 0.02], [so, 0.02], [., 0.02], [and, 0.02], [party, 0.02], [body, 0.01], [:, 0.01], [parties, 0.01], [machines, 0.01], [were, 0.01]]</td>\n",
       "      <td>0.952381</td>\n",
       "    </tr>\n",
       "    <tr>\n",
       "      <th>30764</th>\n",
       "      <td>* Platte mid * of the machine at the ' - ot ee • gives, he dad mot * them lb * ckildmil.</td>\n",
       "      <td>[[men, 0.04], [man, 0.02], [team, 0.01], [horse, 0.01], [hendrix, 0.0], [punches, 0.0], [people, 0.0], [pair, 0.0], [program, 0.0], [teams, 0.0], [lot, 0.0], [trailer, 0.0], [workers, 0.0], [ring, 0.0], [same, 0.0], [clips, 0.0], [', 0.0], [material, 0.0], [barbie, 0.0], [group, 0.0]]</td>\n",
       "      <td>[[road, 0.03], [horse, 0.02], [river, 0.02], [line, 0.02], [field, 0.02], [saddle, 0.01], [house, 0.01], [land, 0.01], [hill, 0.01], [ground, 0.01], [head, 0.01], [earth, 0.01], [mare, 0.01], [water, 0.01], [gate, 0.01], [range, 0.01], [way, 0.01], [back, 0.01], [wind, 0.01], [day, 0.01]]</td>\n",
       "      <td>0.952381</td>\n",
       "    </tr>\n",
       "    <tr>\n",
       "      <th>27269</th>\n",
       "      <td>The operatives who make the joints in the wire, and those who spin the Manilla yarn, and those who attend to the machines that twist the yarns round ithe wires use separate premises, and are not admitted into the works in which the core is bound with hemp and wire and so completed.</td>\n",
       "      <td>[[men, 0.14], [hands, 0.12], [machinery, 0.12], [machines, 0.1], [women, 0.06], [tools, 0.02], [people, 0.02], [operatives, 0.01], [ropes, 0.01], [mills, 0.01], [workers, 0.01], [persons, 0.01], [boys, 0.01], [threads, 0.01], [engines, 0.01], [assistants, 0.01], [others, 0.01], [parties, 0.01], [wire, 0.01], [machine, 0.01]]</td>\n",
       "      <td>[[machines, 0.08], [mills, 0.05], [hands, 0.04], [processes, 0.03], [parts, 0.02], [joints, 0.02], [threads, 0.02], [methods, 0.02], [devices, 0.01], [machinery, 0.01], [knots, 0.01], [ropes, 0.01], [works, 0.01], [things, 0.01], [operations, 0.01], [tools, 0.01], [presses, 0.01], [ones, 0.01], [wheels, 0.01], [locks, 0.01]]</td>\n",
       "      <td>0.952381</td>\n",
       "    </tr>\n",
       "    <tr>\n",
       "      <th>31942</th>\n",
       "      <td>Now if, after all this outlay, such machines as SAMUELSON 'd digger are to be added, the farmer may well ask where the capital is to come from.</td>\n",
       "      <td>[[men, 0.31], [names, 0.21], [figures, 0.06], [labourers, 0.04], [others, 0.03], [machines, 0.03], [tools, 0.02], [numbers, 0.02], [persons, 0.02], [farmers, 0.01], [farms, 0.01], [people, 0.01], [works, 0.01], [hands, 0.01], [workers, 0.0], [details, 0.0], [industries, 0.0], [implements, 0.0], [substitutes, 0.0], [conditions, 0.0]]</td>\n",
       "      <td>[[machines, 0.03], [resources, 0.03], [sums, 0.03], [things, 0.03], [wages, 0.02], [labour, 0.02], [funds, 0.02], [expenses, 0.02], [numbers, 0.02], [duties, 0.02], [services, 0.02], [capital, 0.02], [parts, 0.01], [supplies, 0.01], [labourers, 0.01], [tools, 0.01], [costs, 0.01], [quantities, 0.01], [terms, 0.01], [taxes, 0.01]]</td>\n",
       "      <td>0.952381</td>\n",
       "    </tr>\n",
       "    <tr>\n",
       "      <th>26402</th>\n",
       "      <td>Little less than a year serves the purpose of one experiment, and then the lessons of an experiment are not mastered and improved easily, because it is natural for the London, Chatham, and Dover Railway Company to take the most favourable view of the performance of their costly purchases, and natural for the engineer and shipbuilder to affirm, and to support the affirmation by argument, that better machines never left a workshop, and that more symmetrical, better designed ships were never built.</td>\n",
       "      <td>[[men, 0.34], [ships, 0.16], [machines, 0.07], [machinery, 0.07], [hands, 0.06], [vessels, 0.04], [tools, 0.03], [artisans, 0.02], [engineers, 0.02], [engines, 0.01], [models, 0.01], [people, 0.01], [instruments, 0.01], [mechanics, 0.01], [work, 0.01], [builders, 0.01], [materials, 0.01], [works, 0.01], [buildings, 0.01], [material, 0.0]]</td>\n",
       "      <td>[[ships, 0.61], [designs, 0.23], [vessels, 0.03], [design, 0.02], [locomotives, 0.01], [engines, 0.01], [boats, 0.01], [buildings, 0.0], [lines, 0.0], [warships, 0.0], [machinery, 0.0], [ship, 0.0], [construction, 0.0], [models, 0.0], [builders, 0.0], [engineering, 0.0], [designers, 0.0], [machines, 0.0], [works, 0.0], [equipment, 0.0]]</td>\n",
       "      <td>0.952381</td>\n",
       "    </tr>\n",
       "    <tr>\n",
       "      <th>1095</th>\n",
       "      <td>It was allowed that the machine would have thrashed with ease 50 bushels more that day, only for the loss of time in loading and unloading—lbid.</td>\n",
       "      <td>[[men, 0.12], [horses, 0.04], [vessels, 0.03], [troops, 0.02], [crew, 0.02], [machine, 0.02], [animals, 0.02], [enemy, 0.01], [officers, 0.01], [people, 0.01], [farmers, 0.01], [engine, 0.01], [steamer, 0.01], [ships, 0.01], [cattle, 0.01], [vessel, 0.01], [horse, 0.01], [government, 0.01], [ship, 0.01], [contractor, 0.01]]</td>\n",
       "      <td>[[ship, 0.12], [boat, 0.06], [fish, 0.03], [vessel, 0.02], [boats, 0.02], [ships, 0.02], [crew, 0.02], [barge, 0.01], [train, 0.01], [animal, 0.01], [horses, 0.01], [horse, 0.01], [animals, 0.01], [cattle, 0.01], [cow, 0.01], [machine, 0.01], [cargo, 0.01], [locomotive, 0.01], [tractor, 0.01], [truck, 0.01]]</td>\n",
       "      <td>0.952381</td>\n",
       "    </tr>\n",
       "    <tr>\n",
       "      <th>33972</th>\n",
       "      <td>Their ewn men, supposed to have been bribed, let the water from the boiler, and the machines had nuts and screws put in them twelve or thirteen times, casing breakages and delays.</td>\n",
       "      <td>[[men, 0.38], [boilers, 0.14], [engines, 0.05], [vessels, 0.03], [ships, 0.03], [boiler, 0.02], [boats, 0.02], [boys, 0.02], [sailors, 0.01], [yard, 0.01], [pumps, 0.01], [horses, 0.01], [engine, 0.01], [guns, 0.01], [engineers, 0.01], [others, 0.0], [latter, 0.0], [##v, 0.0], [women, 0.0], [soldiers, 0.0]]</td>\n",
       "      <td>[[boilers, 0.31], [boiler, 0.16], [engines, 0.05], [locomotives, 0.03], [wheels, 0.02], [engine, 0.02], [locomotive, 0.01], [pumps, 0.01], [machines, 0.01], [windows, 0.01], [machinery, 0.01], [cars, 0.01], [pipes, 0.01], [furnace, 0.01], [machine, 0.01], [houses, 0.01], [mill, 0.01], [cylinders, 0.01], [wagons, 0.01], [locks, 0.0]]</td>\n",
       "      <td>0.952381</td>\n",
       "    </tr>\n",
       "    <tr>\n",
       "      <th>11886</th>\n",
       "      <td>His political creed, of which he sent the Citizen King a copy, was not approved of; we believe, because politi Cal machines are most useful when they profess no creed, and know no principle.</td>\n",
       "      <td>[[men, 0.48], [philosophers, 0.13], [##ists, 0.03], [persons, 0.03], [ministers, 0.02], [people, 0.02], [politicians, 0.02], [writers, 0.02], [gentlemen, 0.01], [characters, 0.01], [princes, 0.01], [teachers, 0.01], [##s, 0.01], [subjects, 0.01], [opinions, 0.01], [bodies, 0.01], [fools, 0.01], [principles, 0.0], [governments, 0.0], [rulers, 0.0]]</td>\n",
       "      <td>[[##i, 0.17], [##ci, 0.14], [##vi, 0.07], [##ii, 0.03], [##is, 0.03], [##cula, 0.03], [##ici, 0.02], [##oris, 0.02], [##di, 0.02], [##um, 0.01], [##isi, 0.01], [##cio, 0.01], [##io, 0.01], [##va, 0.01], [##ium, 0.01], [##dus, 0.01], [##itas, 0.01], [##via, 0.01], [##iti, 0.01], [##dini, 0.01]]</td>\n",
       "      <td>0.952381</td>\n",
       "    </tr>\n",
       "    <tr>\n",
       "      <th>24</th>\n",
       "      <td>The coiuitsg.tnill, which was erected in 17$8, and has since been greatly improved, is adapted Ito work eight machines, and each is capable of striking</td>\n",
       "      <td>[[men, 0.11], [persons, 0.11], [pieces, 0.08], [hours, 0.07], [parts, 0.06], [guns, 0.03], [tons, 0.02], [strokes, 0.02], [bells, 0.02], [plates, 0.02], [times, 0.02], [engines, 0.02], [stamps, 0.01], [columns, 0.01], [doors, 0.01], [##s, 0.01], [batteries, 0.01], [hands, 0.01], [sections, 0.01], [sets, 0.01]]</td>\n",
       "      <td>[[times, 0.67], [ways, 0.05], [parts, 0.01], [##s, 0.01], [hands, 0.0], [inches, 0.0], [pieces, 0.0], [time, 0.0], [units, 0.0], [days, 0.0], [degrees, 0.0], [feet, 0.0], [levels, 0.0], [dimensions, 0.0], [months, 0.0], [sections, 0.0], [years, 0.0], [hours, 0.0], [minutes, 0.0], [steps, 0.0]]</td>\n",
       "      <td>0.952381</td>\n",
       "    </tr>\n",
       "    <tr>\n",
       "      <th>29219</th>\n",
       "      <td>An office, therefore, having six of such machines in stock—and they take up little room—could run up two pages of late matter in an hour.</td>\n",
       "      <td>[[men, 0.16], [books, 0.08], [works, 0.05], [persons, 0.05], [instruments, 0.04], [things, 0.04], [materials, 0.04], [material, 0.02], [matter, 0.02], [matters, 0.02], [authors, 0.02], [writers, 0.02], [readers, 0.02], [names, 0.01], [publishers, 0.01], [papers, 0.01], [people, 0.01], [composers, 0.01], [art, 0.01], [are, 0.01]]</td>\n",
       "      <td>[[instruments, 0.06], [are, 0.06], [works, 0.06], [numbers, 0.05], [types, 0.04], [pages, 0.04], [pieces, 0.02], [kind, 0.02], [is, 0.01], [machines, 0.01], [composers, 0.01], [kinds, 0.01], [compositions, 0.01], [sorts, 0.01], [books, 0.01], [devices, 0.01], [sheets, 0.01], [work, 0.01], [tables, 0.01], [things, 0.01]]</td>\n",
       "      <td>0.952381</td>\n",
       "    </tr>\n",
       "    <tr>\n",
       "      <th>22593</th>\n",
       "      <td>1 presentation of boroughs an l counties we it by descent I and not by election—and while the t 1 cu re were not ridependent men, hut wire voting machines—so long ' might the people of Blighted expect that the legislation iemanating from so corrupt a source must be impure — that lcgislatiog arising from so confined a. source would be directed to anything but the interests if ' be electors.</td>\n",
       "      <td>[[men, 0.8300000000000001], [., 0.02], [##men, 0.02], [,, 0.02], [electors, 0.01], [;, 0.01], [were, 0.01], [members, 0.0], [gentlemen, 0.0], [-, 0.0], [:, 0.0], [was, 0.0], [officers, 0.0], [man, 0.0], [people, 0.0], [voters, 0.0], [holders, 0.0], [##s, 0.0], [machines, 0.0], [citizens, 0.0]]</td>\n",
       "      <td>[[for, 0.28], [', 0.16], [., 0.09], [,, 0.05], [was, 0.03], [not, 0.01], [:, 0.01], [and, 0.01], [after, 0.01], [only, 0.01], [by, 0.01], [on, 0.01], [continued, 0.01], [is, 0.01], [took, 0.01], [were, 0.01], [with, 0.01], [..., 0.01], [?, 0.01], [that, 0.01]]</td>\n",
       "      <td>0.952381</td>\n",
       "    </tr>\n",
       "    <tr>\n",
       "      <th>34479</th>\n",
       "      <td>Grover and Biker 's manufactory is in Boston, employs about 200 men, can turn out 100 machines per week, and has already manufactured over 8,000 machines.</td>\n",
       "      <td>[[men, 0.17], [hands, 0.14], [persons, 0.12], [machines, 0.12], [pairs, 0.06], [women, 0.03], [people, 0.03], [tons, 0.02], [children, 0.01], [operatives, 0.01], [workers, 0.01], [teams, 0.01], [more, 0.01], [pair, 0.01], [cases, 0.01], [boys, 0.01], [laborers, 0.0], [horses, 0.0], [##oms, 0.0], [##dles, 0.0]]</td>\n",
       "      <td>[[machines, 0.46], [items, 0.04], [rolls, 0.03], [pieces, 0.02], [parts, 0.01], [products, 0.01], [sheets, 0.01], [threads, 0.01], [stitches, 0.01], [goods, 0.01], [buttons, 0.01], [cases, 0.01], [articles, 0.01], [papers, 0.01], [yarn, 0.01], [sewing, 0.01], [tools, 0.01], [slaves, 0.01], [designs, 0.01], [objects, 0.0]]</td>\n",
       "      <td>0.952381</td>\n",
       "    </tr>\n",
       "    <tr>\n",
       "      <th>1308</th>\n",
       "      <td>I was in a machine in the water with two machines for the school.</td>\n",
       "      <td>[[men, 0.13], [boys, 0.12], [machines, 0.08], [engines, 0.06], [hands, 0.04], [people, 0.03], [children, 0.03], [wheels, 0.03], [persons, 0.02], [rods, 0.01], [pupils, 0.01], [horses, 0.01], [others, 0.01], [pumps, 0.01], [feet, 0.01], [assistants, 0.01], [towels, 0.01], [apparatus, 0.01], [lines, 0.01], [legs, 0.0]]</td>\n",
       "      <td>[[people, 0.04], [parts, 0.03], [things, 0.02], [others, 0.02], [lessons, 0.02], [teachers, 0.02], [instructions, 0.02], [students, 0.01], [more, 0.01], [machines, 0.01], [words, 0.01], [girls, 0.01], [books, 0.01], [items, 0.01], [boys, 0.01], [,, 0.01], [supplies, 0.01], [tools, 0.01], [children, 0.01], [kids, 0.01]]</td>\n",
       "      <td>0.952381</td>\n",
       "    </tr>\n",
       "    <tr>\n",
       "      <th>9475</th>\n",
       "      <td>The coining mill, which ' was. ereaed in 1788, and has sits ze been greatly ipproved, is adapted to work eight machines, and each is capable of - striking tri 'An 60 to 100 piecies 'a money per ' ntinete, the size of a guinea, which is equal to bet Ween 30,000 aid 413,000 per hour *, and at the sauce brow, which _ strikes tire ' facteand - the reverse, . the edge of the • piece ' is also struck, either plain or * Mean inscrip ' - tion.</td>\n",
       "      <td>[[men, 0.16], [persons, 0.14], [stamps, 0.12], [machines, 0.06], [mills, 0.03], [hands, 0.03], [pieces, 0.02], [individuals, 0.02], [turns, 0.01], [people, 0.01], [types, 0.01], [sets, 0.01], [cylinders, 0.01], [turbines, 0.01], [strokes, 0.01], [hours, 0.01], [heads, 0.01], [barrels, 0.01], [pens, 0.01], [faces, 0.01]]</td>\n",
       "      <td>[[mills, 0.06], [machines, 0.06], [hands, 0.05], [strikes, 0.04], [pieces, 0.04], [coins, 0.03], [gears, 0.03], [plates, 0.02], [stones, 0.02], [presses, 0.02], [times, 0.02], [wheels, 0.01], [rolls, 0.01], [parts, 0.01], [strikers, 0.01], [ways, 0.01], [mines, 0.01], [quarters, 0.01], [men, 0.01], [dies, 0.01]]</td>\n",
       "      <td>0.947368</td>\n",
       "    </tr>\n",
       "    <tr>\n",
       "      <th>15801</th>\n",
       "      <td>Because they ail emanate from the same source as your society, and our present meeting spring from, because they all form part of the great indignant protest of English nature—that English workmen are machines, and may be treated as such.</td>\n",
       "      <td>[[men, 0.27], [free, 0.13], [not, 0.09], [english, 0.07], [equal, 0.02], [creatures, 0.02], [such, 0.02], [beings, 0.01], [labourers, 0.01], [subjects, 0.01], [citizens, 0.01], [british, 0.01], [made, 0.01], [##men, 0.01], [christians, 0.01], [foreigners, 0.01], [women, 0.01], [workers, 0.01], [gods, 0.01], [gentlemen, 0.0]]</td>\n",
       "      <td>[[not, 0.33], [equal, 0.03], [called, 0.01], [entitled, 0.01], [everywhere, 0.01], [free, 0.01], [such, 0.01], [inferior, 0.01], [poor, 0.01], [here, 0.01], [primitive, 0.01], [equals, 0.01], [themselves, 0.01], [made, 0.01], [human, 0.01], [born, 0.0], [like, 0.0], [now, 0.0], [men, 0.0], [superior, 0.0]]</td>\n",
       "      <td>0.947368</td>\n",
       "    </tr>\n",
       "    <tr>\n",
       "      <th>26112</th>\n",
       "      <td>Men are not machines, and on occasions like the recent one an amount of license is permissible which, perhaps, at other times had best be withheld.</td>\n",
       "      <td>[[men, 0.16], [free, 0.09], [slaves, 0.03], [mad, 0.02], [judges, 0.02], [idle, 0.02], [strong, 0.02], [young, 0.02], [women, 0.01], [poets, 0.01], [critics, 0.01], [fools, 0.01], [violent, 0.01], [excited, 0.01], [popular, 0.01], [enthusiastic, 0.01], [temperate, 0.01], [allowed, 0.01], [licensed, 0.01], [license, 0.01]]</td>\n",
       "      <td>[[equal, 0.11], [gentlemen, 0.06], [free, 0.04], [corrupt, 0.02], [fair, 0.01], [allowed, 0.01], [educated, 0.01], [slaves, 0.01], [amateurs, 0.01], [women, 0.01], [vain, 0.01], [meek, 0.01], [vulgar, 0.01], [uncommon, 0.01], [alike, 0.01], [lawyers, 0.01], [entitled, 0.01], [men, 0.01], [fools, 0.01], [radicals, 0.01]]</td>\n",
       "      <td>0.944444</td>\n",
       "    </tr>\n",
       "    <tr>\n",
       "      <th>26111</th>\n",
       "      <td>Men are not machines, and on occasions like the recent ono an amount of license is permissible which, perhaps, at other times had best be withheld.</td>\n",
       "      <td>[[men, 0.18], [free, 0.08], [judges, 0.02], [slaves, 0.02], [idle, 0.02], [mad, 0.02], [strong, 0.01], [young, 0.01], [women, 0.01], [fools, 0.01], [poets, 0.01], [allowed, 0.01], [gentlemen, 0.01], [amateurs, 0.01], [critics, 0.01], [fighters, 0.01], [temperate, 0.01], [licensed, 0.01], [drunk, 0.01], [ambitious, 0.01]]</td>\n",
       "      <td>[[gentlemen, 0.05], [equal, 0.05], [free, 0.03], [allowed, 0.02], [corrupt, 0.02], [women, 0.01], [slaves, 0.01], [lawyers, 0.01], [amateurs, 0.01], [educated, 0.01], [fools, 0.01], [uncommon, 0.01], [permitted, 0.01], [vulgar, 0.01], [entitled, 0.01], [vain, 0.01], [married, 0.01], [men, 0.01], [fair, 0.01], [radicals, 0.01]]</td>\n",
       "      <td>0.944444</td>\n",
       "    </tr>\n",
       "    <tr>\n",
       "      <th>17442</th>\n",
       "      <td>Some of the machines were disabled, and, in consequence of a shameful fight, one of them—No.</td>\n",
       "      <td>[[men, 0.46], [engines, 0.1], [members, 0.07], [officers, 0.07], [companies, 0.03], [assistants, 0.02], [boys, 0.01], [prisoners, 0.01], [wards, 0.01], [soldiers, 0.01], [engineers, 0.01], [inmates, 0.01], [company, 0.0], [lamps, 0.0], [engine, 0.0], [hands, 0.0], [hose, 0.0], [citizens, 0.0], [latter, 0.0], [lanterns, 0.0]]</td>\n",
       "      <td>[[engines, 0.58], [horses, 0.04], [vehicles, 0.04], [locomotives, 0.03], [cars, 0.03], [boilers, 0.02], [carriages, 0.01], [apparatus, 0.01], [wagons, 0.01], [trams, 0.01], [machines, 0.01], [buildings, 0.01], [sirens, 0.01], [engine, 0.01], [boats, 0.01], [pumps, 0.01], [appliances, 0.0], [men, 0.0], [tents, 0.0], [firefighters, 0.0]]</td>\n",
       "      <td>0.944444</td>\n",
       "    </tr>\n",
       "  </tbody>\n",
       "</table>\n",
       "</div>"
      ],
      "text/plain": [
       "                                                                                                                                                                                                                                                                                                                                                                                                                                                                                                            currentSentence  \\\n",
       "8974                                                                                                                                                                                                                              It contains twentythree machines, which performs sixteen distinet operations on the stock, and are similar in principle and construction to those in use in the two Government armoury establishments in the United States, at Springfield, Massachusetts, and Harper 's ferry, Virginia.   \n",
       "32130                                                                                                                                                                                                                                                                                                       He himself, et however, expected a vast saving to accrue from the employ - t moat of sewing machines in the manufacture of regimental g clothing, while the sewing itself would he of a superior at. character.   \n",
       "26878                                                                                                                                                                              But the meaning of it was this : The late Duke of Cleveland was a Tory, and the present Duke of Cleveland was a Whig, and every man who supported Mr. Merritt for the last election would vote against him at the next, for the voting machines called free and independent voters must do what the Duke of Cleveland wished them to do.   \n",
       "30764                                                                                                                                                                                                                                                                                                                                                                                                                              * Platte mid * of the machine at the ' - ot ee • gives, he dad mot * them lb * ckildmil.   \n",
       "27269                                                                                                                                                                                                                            The operatives who make the joints in the wire, and those who spin the Manilla yarn, and those who attend to the machines that twist the yarns round ithe wires use separate premises, and are not admitted into the works in which the core is bound with hemp and wire and so completed.   \n",
       "31942                                                                                                                                                                                                                                                                                                                                                                       Now if, after all this outlay, such machines as SAMUELSON 'd digger are to be added, the farmer may well ask where the capital is to come from.   \n",
       "26402  Little less than a year serves the purpose of one experiment, and then the lessons of an experiment are not mastered and improved easily, because it is natural for the London, Chatham, and Dover Railway Company to take the most favourable view of the performance of their costly purchases, and natural for the engineer and shipbuilder to affirm, and to support the affirmation by argument, that better machines never left a workshop, and that more symmetrical, better designed ships were never built.   \n",
       "1095                                                                                                                                                                                                                                                                                                                                                                       It was allowed that the machine would have thrashed with ease 50 bushels more that day, only for the loss of time in loading and unloading—lbid.   \n",
       "33972                                                                                                                                                                                                                                                                                                                                   Their ewn men, supposed to have been bribed, let the water from the boiler, and the machines had nuts and screws put in them twelve or thirteen times, casing breakages and delays.   \n",
       "11886                                                                                                                                                                                                                                                                                                                        His political creed, of which he sent the Citizen King a copy, was not approved of; we believe, because politi Cal machines are most useful when they profess no creed, and know no principle.   \n",
       "24                                                                                                                                                                                                                                                                                                                                                                  The coiuitsg.tnill, which was erected in 17$8, and has since been greatly improved, is adapted Ito work eight machines, and each is capable of striking   \n",
       "29219                                                                                                                                                                                                                                                                                                                                                                             An office, therefore, having six of such machines in stock—and they take up little room—could run up two pages of late matter in an hour.   \n",
       "22593                                                                                                              1 presentation of boroughs an l counties we it by descent I and not by election—and while the t 1 cu re were not ridependent men, hut wire voting machines—so long ' might the people of Blighted expect that the legislation iemanating from so corrupt a source must be impure — that lcgislatiog arising from so confined a. source would be directed to anything but the interests if ' be electors.   \n",
       "34479                                                                                                                                                                                                                                                                                                                                                            Grover and Biker 's manufactory is in Boston, employs about 200 men, can turn out 100 machines per week, and has already manufactured over 8,000 machines.   \n",
       "1308                                                                                                                                                                                                                                                                                                                                                                                                                                                      I was in a machine in the water with two machines for the school.   \n",
       "9475                                                                The coining mill, which ' was. ereaed in 1788, and has sits ze been greatly ipproved, is adapted to work eight machines, and each is capable of - striking tri 'An 60 to 100 piecies 'a money per ' ntinete, the size of a guinea, which is equal to bet Ween 30,000 aid 413,000 per hour *, and at the sauce brow, which _ strikes tire ' facteand - the reverse, . the edge of the • piece ' is also struck, either plain or * Mean inscrip ' - tion.   \n",
       "15801                                                                                                                                                                                                                                                                        Because they ail emanate from the same source as your society, and our present meeting spring from, because they all form part of the great indignant protest of English nature—that English workmen are machines, and may be treated as such.   \n",
       "26112                                                                                                                                                                                                                                                                                                                                                                   Men are not machines, and on occasions like the recent one an amount of license is permissible which, perhaps, at other times had best be withheld.   \n",
       "26111                                                                                                                                                                                                                                                                                                                                                                   Men are not machines, and on occasions like the recent ono an amount of license is permissible which, perhaps, at other times had best be withheld.   \n",
       "17442                                                                                                                                                                                                                                                                                                                                                                                                                          Some of the machines were disabled, and, in consequence of a shameful fight, one of them—No.   \n",
       "\n",
       "                                                                                                                                                                                                                                                                                                                                                 pred_bert_1760_1900  \\\n",
       "8974                [[men, 0.07], [hands, 0.06], [apparatus, 0.04], [machines, 0.04], [works, 0.04], [workshops, 0.04], [engines, 0.04], [boilers, 0.04], [batteries, 0.04], [machinery, 0.03], [files, 0.03], [horses, 0.02], [plates, 0.02], [drills, 0.02], [departments, 0.02], [crane, 0.01], [guns, 0.01], [cannon, 0.01], [cranes, 0.01], [assistants, 0.01]]   \n",
       "32130                                    [[men, 0.21], [women, 0.14], [machines, 0.06], [hands, 0.03], [and, 0.03], [##men, 0.03], [people, 0.03], [employed, 0.02], [,, 0.02], [parties, 0.02], [classes, 0.02], [materials, 0.01], [machine, 0.01], [girls, 0.01], [persons, 0.01], [machinery, 0.01], [power, 0.01], [-, 0.01], [ladies, 0.01], [material, 0.01]]   \n",
       "26878                                                             [[men, 0.4], [-, 0.13], [people, 0.06], [voters, 0.06], [being, 0.04], [are, 0.03], [party, 0.03], [classes, 0.02], [class, 0.02], [parties, 0.01], [now, 0.01], [is, 0.01], [were, 0.01], [so, 0.01], [be, 0.01], [electors, 0.01], [persons, 0.01], [fellows, 0.01], [bodies, 0.0], [they, 0.0]]   \n",
       "30764                                                                  [[men, 0.04], [man, 0.02], [team, 0.01], [horse, 0.01], [hendrix, 0.0], [punches, 0.0], [people, 0.0], [pair, 0.0], [program, 0.0], [teams, 0.0], [lot, 0.0], [trailer, 0.0], [workers, 0.0], [ring, 0.0], [same, 0.0], [clips, 0.0], [', 0.0], [material, 0.0], [barbie, 0.0], [group, 0.0]]   \n",
       "27269                         [[men, 0.14], [hands, 0.12], [machinery, 0.12], [machines, 0.1], [women, 0.06], [tools, 0.02], [people, 0.02], [operatives, 0.01], [ropes, 0.01], [mills, 0.01], [workers, 0.01], [persons, 0.01], [boys, 0.01], [threads, 0.01], [engines, 0.01], [assistants, 0.01], [others, 0.01], [parties, 0.01], [wire, 0.01], [machine, 0.01]]   \n",
       "31942                 [[men, 0.31], [names, 0.21], [figures, 0.06], [labourers, 0.04], [others, 0.03], [machines, 0.03], [tools, 0.02], [numbers, 0.02], [persons, 0.02], [farmers, 0.01], [farms, 0.01], [people, 0.01], [works, 0.01], [hands, 0.01], [workers, 0.0], [details, 0.0], [industries, 0.0], [implements, 0.0], [substitutes, 0.0], [conditions, 0.0]]   \n",
       "26402           [[men, 0.34], [ships, 0.16], [machines, 0.07], [machinery, 0.07], [hands, 0.06], [vessels, 0.04], [tools, 0.03], [artisans, 0.02], [engineers, 0.02], [engines, 0.01], [models, 0.01], [people, 0.01], [instruments, 0.01], [mechanics, 0.01], [work, 0.01], [builders, 0.01], [materials, 0.01], [works, 0.01], [buildings, 0.01], [material, 0.0]]   \n",
       "1095                           [[men, 0.12], [horses, 0.04], [vessels, 0.03], [troops, 0.02], [crew, 0.02], [machine, 0.02], [animals, 0.02], [enemy, 0.01], [officers, 0.01], [people, 0.01], [farmers, 0.01], [engine, 0.01], [steamer, 0.01], [ships, 0.01], [cattle, 0.01], [vessel, 0.01], [horse, 0.01], [government, 0.01], [ship, 0.01], [contractor, 0.01]]   \n",
       "33972                                           [[men, 0.38], [boilers, 0.14], [engines, 0.05], [vessels, 0.03], [ships, 0.03], [boiler, 0.02], [boats, 0.02], [boys, 0.02], [sailors, 0.01], [yard, 0.01], [pumps, 0.01], [horses, 0.01], [engine, 0.01], [guns, 0.01], [engineers, 0.01], [others, 0.0], [latter, 0.0], [##v, 0.0], [women, 0.0], [soldiers, 0.0]]   \n",
       "11886  [[men, 0.48], [philosophers, 0.13], [##ists, 0.03], [persons, 0.03], [ministers, 0.02], [people, 0.02], [politicians, 0.02], [writers, 0.02], [gentlemen, 0.01], [characters, 0.01], [princes, 0.01], [teachers, 0.01], [##s, 0.01], [subjects, 0.01], [opinions, 0.01], [bodies, 0.01], [fools, 0.01], [principles, 0.0], [governments, 0.0], [rulers, 0.0]]   \n",
       "24                                           [[men, 0.11], [persons, 0.11], [pieces, 0.08], [hours, 0.07], [parts, 0.06], [guns, 0.03], [tons, 0.02], [strokes, 0.02], [bells, 0.02], [plates, 0.02], [times, 0.02], [engines, 0.02], [stamps, 0.01], [columns, 0.01], [doors, 0.01], [##s, 0.01], [batteries, 0.01], [hands, 0.01], [sections, 0.01], [sets, 0.01]]   \n",
       "29219                     [[men, 0.16], [books, 0.08], [works, 0.05], [persons, 0.05], [instruments, 0.04], [things, 0.04], [materials, 0.04], [material, 0.02], [matter, 0.02], [matters, 0.02], [authors, 0.02], [writers, 0.02], [readers, 0.02], [names, 0.01], [publishers, 0.01], [papers, 0.01], [people, 0.01], [composers, 0.01], [art, 0.01], [are, 0.01]]   \n",
       "22593                                                         [[men, 0.8300000000000001], [., 0.02], [##men, 0.02], [,, 0.02], [electors, 0.01], [;, 0.01], [were, 0.01], [members, 0.0], [gentlemen, 0.0], [-, 0.0], [:, 0.0], [was, 0.0], [officers, 0.0], [man, 0.0], [people, 0.0], [voters, 0.0], [holders, 0.0], [##s, 0.0], [machines, 0.0], [citizens, 0.0]]   \n",
       "34479                                        [[men, 0.17], [hands, 0.14], [persons, 0.12], [machines, 0.12], [pairs, 0.06], [women, 0.03], [people, 0.03], [tons, 0.02], [children, 0.01], [operatives, 0.01], [workers, 0.01], [teams, 0.01], [more, 0.01], [pair, 0.01], [cases, 0.01], [boys, 0.01], [laborers, 0.0], [horses, 0.0], [##oms, 0.0], [##dles, 0.0]]   \n",
       "1308                                  [[men, 0.13], [boys, 0.12], [machines, 0.08], [engines, 0.06], [hands, 0.04], [people, 0.03], [children, 0.03], [wheels, 0.03], [persons, 0.02], [rods, 0.01], [pupils, 0.01], [horses, 0.01], [others, 0.01], [pumps, 0.01], [feet, 0.01], [assistants, 0.01], [towels, 0.01], [apparatus, 0.01], [lines, 0.01], [legs, 0.0]]   \n",
       "9475                               [[men, 0.16], [persons, 0.14], [stamps, 0.12], [machines, 0.06], [mills, 0.03], [hands, 0.03], [pieces, 0.02], [individuals, 0.02], [turns, 0.01], [people, 0.01], [types, 0.01], [sets, 0.01], [cylinders, 0.01], [turbines, 0.01], [strokes, 0.01], [hours, 0.01], [heads, 0.01], [barrels, 0.01], [pens, 0.01], [faces, 0.01]]   \n",
       "15801                         [[men, 0.27], [free, 0.13], [not, 0.09], [english, 0.07], [equal, 0.02], [creatures, 0.02], [such, 0.02], [beings, 0.01], [labourers, 0.01], [subjects, 0.01], [citizens, 0.01], [british, 0.01], [made, 0.01], [##men, 0.01], [christians, 0.01], [foreigners, 0.01], [women, 0.01], [workers, 0.01], [gods, 0.01], [gentlemen, 0.0]]   \n",
       "26112                            [[men, 0.16], [free, 0.09], [slaves, 0.03], [mad, 0.02], [judges, 0.02], [idle, 0.02], [strong, 0.02], [young, 0.02], [women, 0.01], [poets, 0.01], [critics, 0.01], [fools, 0.01], [violent, 0.01], [excited, 0.01], [popular, 0.01], [enthusiastic, 0.01], [temperate, 0.01], [allowed, 0.01], [licensed, 0.01], [license, 0.01]]   \n",
       "26111                             [[men, 0.18], [free, 0.08], [judges, 0.02], [slaves, 0.02], [idle, 0.02], [mad, 0.02], [strong, 0.01], [young, 0.01], [women, 0.01], [fools, 0.01], [poets, 0.01], [allowed, 0.01], [gentlemen, 0.01], [amateurs, 0.01], [critics, 0.01], [fighters, 0.01], [temperate, 0.01], [licensed, 0.01], [drunk, 0.01], [ambitious, 0.01]]   \n",
       "17442                         [[men, 0.46], [engines, 0.1], [members, 0.07], [officers, 0.07], [companies, 0.03], [assistants, 0.02], [boys, 0.01], [prisoners, 0.01], [wards, 0.01], [soldiers, 0.01], [engineers, 0.01], [inmates, 0.01], [company, 0.0], [lamps, 0.0], [engine, 0.0], [hands, 0.0], [hose, 0.0], [citizens, 0.0], [latter, 0.0], [lanterns, 0.0]]   \n",
       "\n",
       "                                                                                                                                                                                                                                                                                                                                   pred_bert_contemporary  \\\n",
       "8974                    [[##s, 0.09], [guns, 0.06], [machinery, 0.04], [stores, 0.03], [ammunition, 0.03], [rifles, 0.02], [presses, 0.02], [machines, 0.02], [arms, 0.02], [equipment, 0.02], [tanks, 0.02], [pipes, 0.02], [stock, 0.01], [engines, 0.01], [armour, 0.01], [brass, 0.01], [plates, 0.01], [tools, 0.01], [boilers, 0.01], [##ts, 0.01]]   \n",
       "32130                        [[,, 0.14], [machines, 0.13], [used, 0.06], [machinery, 0.06], [and, 0.04], [work, 0.03], [machine, 0.02], [done, 0.01], [employed, 0.01], [##s, 0.01], [skills, 0.01], [techniques, 0.01], [skill, 0.01], [equipment, 0.01], [tools, 0.01], [power, 0.01], [methods, 0.01], [products, 0.01], [wheels, 0.01], [made, 0.01]]   \n",
       "26878                                                                [[-, 0.04], [is, 0.04], [now, 0.03], [,, 0.03], [are, 0.03], [rights, 0.02], [system, 0.02], [was, 0.02], [place, 0.02], [places, 0.02], [being, 0.02], [so, 0.02], [., 0.02], [and, 0.02], [party, 0.02], [body, 0.01], [:, 0.01], [parties, 0.01], [machines, 0.01], [were, 0.01]]   \n",
       "30764                                                   [[road, 0.03], [horse, 0.02], [river, 0.02], [line, 0.02], [field, 0.02], [saddle, 0.01], [house, 0.01], [land, 0.01], [hill, 0.01], [ground, 0.01], [head, 0.01], [earth, 0.01], [mare, 0.01], [water, 0.01], [gate, 0.01], [range, 0.01], [way, 0.01], [back, 0.01], [wind, 0.01], [day, 0.01]]   \n",
       "27269              [[machines, 0.08], [mills, 0.05], [hands, 0.04], [processes, 0.03], [parts, 0.02], [joints, 0.02], [threads, 0.02], [methods, 0.02], [devices, 0.01], [machinery, 0.01], [knots, 0.01], [ropes, 0.01], [works, 0.01], [things, 0.01], [operations, 0.01], [tools, 0.01], [presses, 0.01], [ones, 0.01], [wheels, 0.01], [locks, 0.01]]   \n",
       "31942         [[machines, 0.03], [resources, 0.03], [sums, 0.03], [things, 0.03], [wages, 0.02], [labour, 0.02], [funds, 0.02], [expenses, 0.02], [numbers, 0.02], [duties, 0.02], [services, 0.02], [capital, 0.02], [parts, 0.01], [supplies, 0.01], [labourers, 0.01], [tools, 0.01], [costs, 0.01], [quantities, 0.01], [terms, 0.01], [taxes, 0.01]]   \n",
       "26402  [[ships, 0.61], [designs, 0.23], [vessels, 0.03], [design, 0.02], [locomotives, 0.01], [engines, 0.01], [boats, 0.01], [buildings, 0.0], [lines, 0.0], [warships, 0.0], [machinery, 0.0], [ship, 0.0], [construction, 0.0], [models, 0.0], [builders, 0.0], [engineering, 0.0], [designers, 0.0], [machines, 0.0], [works, 0.0], [equipment, 0.0]]   \n",
       "1095                                [[ship, 0.12], [boat, 0.06], [fish, 0.03], [vessel, 0.02], [boats, 0.02], [ships, 0.02], [crew, 0.02], [barge, 0.01], [train, 0.01], [animal, 0.01], [horses, 0.01], [horse, 0.01], [animals, 0.01], [cattle, 0.01], [cow, 0.01], [machine, 0.01], [cargo, 0.01], [locomotive, 0.01], [tractor, 0.01], [truck, 0.01]]   \n",
       "33972      [[boilers, 0.31], [boiler, 0.16], [engines, 0.05], [locomotives, 0.03], [wheels, 0.02], [engine, 0.02], [locomotive, 0.01], [pumps, 0.01], [machines, 0.01], [windows, 0.01], [machinery, 0.01], [cars, 0.01], [pipes, 0.01], [furnace, 0.01], [machine, 0.01], [houses, 0.01], [mill, 0.01], [cylinders, 0.01], [wagons, 0.01], [locks, 0.0]]   \n",
       "11886                                              [[##i, 0.17], [##ci, 0.14], [##vi, 0.07], [##ii, 0.03], [##is, 0.03], [##cula, 0.03], [##ici, 0.02], [##oris, 0.02], [##di, 0.02], [##um, 0.01], [##isi, 0.01], [##cio, 0.01], [##io, 0.01], [##va, 0.01], [##ium, 0.01], [##dus, 0.01], [##itas, 0.01], [##via, 0.01], [##iti, 0.01], [##dini, 0.01]]   \n",
       "24                                                 [[times, 0.67], [ways, 0.05], [parts, 0.01], [##s, 0.01], [hands, 0.0], [inches, 0.0], [pieces, 0.0], [time, 0.0], [units, 0.0], [days, 0.0], [degrees, 0.0], [feet, 0.0], [levels, 0.0], [dimensions, 0.0], [months, 0.0], [sections, 0.0], [years, 0.0], [hours, 0.0], [minutes, 0.0], [steps, 0.0]]   \n",
       "29219                   [[instruments, 0.06], [are, 0.06], [works, 0.06], [numbers, 0.05], [types, 0.04], [pages, 0.04], [pieces, 0.02], [kind, 0.02], [is, 0.01], [machines, 0.01], [composers, 0.01], [kinds, 0.01], [compositions, 0.01], [sorts, 0.01], [books, 0.01], [devices, 0.01], [sheets, 0.01], [work, 0.01], [tables, 0.01], [things, 0.01]]   \n",
       "22593                                                                                [[for, 0.28], [', 0.16], [., 0.09], [,, 0.05], [was, 0.03], [not, 0.01], [:, 0.01], [and, 0.01], [after, 0.01], [only, 0.01], [by, 0.01], [on, 0.01], [continued, 0.01], [is, 0.01], [took, 0.01], [were, 0.01], [with, 0.01], [..., 0.01], [?, 0.01], [that, 0.01]]   \n",
       "34479                 [[machines, 0.46], [items, 0.04], [rolls, 0.03], [pieces, 0.02], [parts, 0.01], [products, 0.01], [sheets, 0.01], [threads, 0.01], [stitches, 0.01], [goods, 0.01], [buttons, 0.01], [cases, 0.01], [articles, 0.01], [papers, 0.01], [yarn, 0.01], [sewing, 0.01], [tools, 0.01], [slaves, 0.01], [designs, 0.01], [objects, 0.0]]   \n",
       "1308                     [[people, 0.04], [parts, 0.03], [things, 0.02], [others, 0.02], [lessons, 0.02], [teachers, 0.02], [instructions, 0.02], [students, 0.01], [more, 0.01], [machines, 0.01], [words, 0.01], [girls, 0.01], [books, 0.01], [items, 0.01], [boys, 0.01], [,, 0.01], [supplies, 0.01], [tools, 0.01], [children, 0.01], [kids, 0.01]]   \n",
       "9475                            [[mills, 0.06], [machines, 0.06], [hands, 0.05], [strikes, 0.04], [pieces, 0.04], [coins, 0.03], [gears, 0.03], [plates, 0.02], [stones, 0.02], [presses, 0.02], [times, 0.02], [wheels, 0.01], [rolls, 0.01], [parts, 0.01], [strikers, 0.01], [ways, 0.01], [mines, 0.01], [quarters, 0.01], [men, 0.01], [dies, 0.01]]   \n",
       "15801                                 [[not, 0.33], [equal, 0.03], [called, 0.01], [entitled, 0.01], [everywhere, 0.01], [free, 0.01], [such, 0.01], [inferior, 0.01], [poor, 0.01], [here, 0.01], [primitive, 0.01], [equals, 0.01], [themselves, 0.01], [made, 0.01], [human, 0.01], [born, 0.0], [like, 0.0], [now, 0.0], [men, 0.0], [superior, 0.0]]   \n",
       "26112                   [[equal, 0.11], [gentlemen, 0.06], [free, 0.04], [corrupt, 0.02], [fair, 0.01], [allowed, 0.01], [educated, 0.01], [slaves, 0.01], [amateurs, 0.01], [women, 0.01], [vain, 0.01], [meek, 0.01], [vulgar, 0.01], [uncommon, 0.01], [alike, 0.01], [lawyers, 0.01], [entitled, 0.01], [men, 0.01], [fools, 0.01], [radicals, 0.01]]   \n",
       "26111            [[gentlemen, 0.05], [equal, 0.05], [free, 0.03], [allowed, 0.02], [corrupt, 0.02], [women, 0.01], [slaves, 0.01], [lawyers, 0.01], [amateurs, 0.01], [educated, 0.01], [fools, 0.01], [uncommon, 0.01], [permitted, 0.01], [vulgar, 0.01], [entitled, 0.01], [vain, 0.01], [married, 0.01], [men, 0.01], [fair, 0.01], [radicals, 0.01]]   \n",
       "17442   [[engines, 0.58], [horses, 0.04], [vehicles, 0.04], [locomotives, 0.03], [cars, 0.03], [boilers, 0.02], [carriages, 0.01], [apparatus, 0.01], [wagons, 0.01], [trams, 0.01], [machines, 0.01], [buildings, 0.01], [sirens, 0.01], [engine, 0.01], [boats, 0.01], [pumps, 0.01], [appliances, 0.0], [men, 0.0], [tents, 0.0], [firefighters, 0.0]]   \n",
       "\n",
       "       men_rank_diff  \n",
       "8974        0.952381  \n",
       "32130       0.952381  \n",
       "26878       0.952381  \n",
       "30764       0.952381  \n",
       "27269       0.952381  \n",
       "31942       0.952381  \n",
       "26402       0.952381  \n",
       "1095        0.952381  \n",
       "33972       0.952381  \n",
       "11886       0.952381  \n",
       "24          0.952381  \n",
       "29219       0.952381  \n",
       "22593       0.952381  \n",
       "34479       0.952381  \n",
       "1308        0.952381  \n",
       "9475        0.947368  \n",
       "15801       0.947368  \n",
       "26112       0.944444  \n",
       "26111       0.944444  \n",
       "17442       0.944444  "
      ]
     },
     "execution_count": 65,
     "metadata": {},
     "output_type": "execute_result"
    }
   ],
   "source": [
    "target_word = 'men'\n",
    "df_1[f'{target_word}_old'] = df_1.pred_bert_1760_1900.apply(get_position, target_word=target_word)\n",
    "df_1[f'{target_word}_new'] = df_1.pred_bert_contemporary.apply(get_position, target_word=target_word)\n",
    "df_1[f'{target_word}_rank_diff'] = df_1[f'{target_word}_old'] - df_1[f'{target_word}_new']\n",
    "df_1.sort_values(f'{target_word}_rank_diff',ascending=False)[['currentSentence','pred_bert_1760_1900','pred_bert_contemporary',f'{target_word}_rank_diff']][:20]"
   ]
  },
  {
   "cell_type": "code",
   "execution_count": 102,
   "metadata": {},
   "outputs": [],
   "source": [
    "compute_probability = lambda x, target_words: sum([v for i,(w,v) in enumerate(x) if w in target_words])\n",
    "compute_rankprob = lambda x, target_words: sum([v/(i+1) for i,(w,v) in enumerate(x) if w in target_words])\n",
    "#target_words,cat = ['slave','slavery'],'slave'\n",
    "target_words,cat = ['machine','machines'],'machine'\n",
    "#target_words,cat = ['women','woman'],'woman'\n",
    "\n",
    "df_1[f'{cat}_rankprob_old'] = df_1.pred_bert_1760_1900.apply(compute_rankprob, target_words=target_words)\n",
    "df_1[f'{cat}_rankprob_new'] = df_1.pred_bert_contemporary.apply(compute_rankprob, target_words=target_words)\n",
    "df_1[f'{cat}_rankprob_diff'] = df_1[f'{cat}_rankprob_old'] - df_1[f'{cat}_rankprob_new']"
   ]
  },
  {
   "cell_type": "code",
   "execution_count": 103,
   "metadata": {},
   "outputs": [
    {
     "data": {
      "text/html": [
       "<div>\n",
       "<style scoped>\n",
       "    .dataframe tbody tr th:only-of-type {\n",
       "        vertical-align: middle;\n",
       "    }\n",
       "\n",
       "    .dataframe tbody tr th {\n",
       "        vertical-align: top;\n",
       "    }\n",
       "\n",
       "    .dataframe thead th {\n",
       "        text-align: right;\n",
       "    }\n",
       "</style>\n",
       "<table border=\"1\" class=\"dataframe\">\n",
       "  <thead>\n",
       "    <tr style=\"text-align: right;\">\n",
       "      <th></th>\n",
       "      <th>maskedSentence</th>\n",
       "      <th>pred_bert_1760_1900</th>\n",
       "      <th>pred_bert_contemporary</th>\n",
       "      <th>machine_rankprob_diff</th>\n",
       "    </tr>\n",
       "  </thead>\n",
       "  <tbody>\n",
       "    <tr>\n",
       "      <th>9282</th>\n",
       "      <td>The : July , after a trial which cominued , more than five hours , found a verdia for , the Plaintiff , with 451 . damages , the Plaintiff returning the [MASK] .</td>\n",
       "      <td>[[460, 0.18], [450, 0.11], [451, 0.1], [45, 0.09], [same, 0.03], [480, 0.01], [machine, 0.01], [420, 0.01], [470, 0.01], [500, 0.01], [360, 0.01], [400, 0.01], [10, 0.01], [1, 0.01], [150, 0.01], [300, 0.01], [2, 0.01], [latter, 0.01], [3d, 0.01], [46, 0.01]]</td>\n",
       "      <td>[[machine, 0.98], [machines, 0.01], [machinery, 0.0], [device, 0.0], [computer, 0.0], [patent, 0.0], [money, 0.0], [damages, 0.0], [contract, 0.0], [defendant, 0.0], [copy, 0.0], [case, 0.0], [same, 0.0], [robot, 0.0], [paper, 0.0], [counter, 0.0], [plaintiff, 0.0], [instrument, 0.0], [clock, 0.0], [invention, 0.0]]</td>\n",
       "      <td>-0.983571</td>\n",
       "    </tr>\n",
       "    <tr>\n",
       "      <th>26266</th>\n",
       "      <td>The [MASK] proprietor replied \" By no means , \" and he cautioned him above all things not to venture too far out , as there was a strong off set .</td>\n",
       "      <td>[[new, 0.16], [young, 0.11], [then, 0.06], [boat, 0.04], [present, 0.04], [former, 0.04], [landed, 0.04], [old, 0.02], [ship, 0.02], [little, 0.02], [other, 0.02], [mill, 0.02], [great, 0.01], [worthy, 0.01], [land, 0.01], [real, 0.01], [sole, 0.01], [late, 0.01], [large, 0.01], [tea, 0.01]]</td>\n",
       "      <td>[[machine, 0.96], [machines, 0.02], [shop, 0.01], [factory, 0.0], [hotel, 0.0], [mill, 0.0], [boat, 0.0], [engine, 0.0], [steamer, 0.0], [machinery, 0.0], [local, 0.0], [store, 0.0], [pump, 0.0], [old, 0.0], [new, 0.0], [master, 0.0], [ship, 0.0], [original, 0.0], [main, 0.0], [cafe, 0.0]]</td>\n",
       "      <td>-0.970000</td>\n",
       "    </tr>\n",
       "    <tr>\n",
       "      <th>23566</th>\n",
       "      <td>The general [MASK] tool trade is in a very brisk state , especially in the completion of Government orders .</td>\n",
       "      <td>[[and, 0.12], [:, 0.11], [machine, 0.07], [iron, 0.04], [steam, 0.04], [j, 0.03], [., 0.02], [-, 0.02], [edge, 0.02], [i, 0.02], [), 0.01], [working, 0.01], [steel, 0.01], [agricultural, 0.01], [railway, 0.01], [government, 0.01], [building, 0.01], [mechanical, 0.01], [mechanics, 0.01], [;, 0.01]]</td>\n",
       "      <td>[[machine, 0.97], [metal, 0.0], [-, 0.0], [hand, 0.0], [building, 0.0], [iron, 0.0], [manufacturing, 0.0], [industrial, 0.0], [mechanical, 0.0], [power, 0.0], [construction, 0.0], [machines, 0.0], [steel, 0.0], [leather, 0.0], [tool, 0.0], [agricultural, 0.0], [war, 0.0], [stone, 0.0], [wood, 0.0], [farm, 0.0]]</td>\n",
       "      <td>-0.946667</td>\n",
       "    </tr>\n",
       "    <tr>\n",
       "      <th>33535</th>\n",
       "      <td>Al to you , Derail , your conduct is worse , as you ware in work , and you did this because you did not like your master using a thrath Sig [MASK] .</td>\n",
       "      <td>[[##d, 0.11], [gin, 0.03], [##wa, 0.03], [##di, 0.02], [##dar, 0.02], [##dr, 0.02], [##van, 0.02], [##dt, 0.01], [##da, 0.01], [##dh, 0.01], [##dian, 0.01], [##vin, 0.01], [ling, 0.01], [##dd, 0.01], [##win, 0.01], [##dl, 0.01], [##dra, 0.01], [##dis, 0.01], [##dle, 0.01], [##wan, 0.01]]</td>\n",
       "      <td>[[machine, 0.92], [machines, 0.01], [tool, 0.01], [device, 0.0], [wheel, 0.0], [engine, 0.0], [hammer, 0.0], [machinery, 0.0], [system, 0.0], [blade, 0.0], [knife, 0.0], [robot, 0.0], [mechanism, 0.0], [mill, 0.0], [apparatus, 0.0], [weapon, 0.0], [factory, 0.0], [generator, 0.0], [bomb, 0.0], [crane, 0.0]]</td>\n",
       "      <td>-0.925000</td>\n",
       "    </tr>\n",
       "    <tr>\n",
       "      <th>24947</th>\n",
       "      <td>The Signor arrived a few days ago ; he saw the [MASK] in operation ; and considered the results something wonderful .</td>\n",
       "      <td>[[tunnel, 0.73], [machine, 0.06], [mine, 0.04], [engine, 0.03], [work, 0.02], [machinery, 0.02], [works, 0.01], [railway, 0.01], [shaft, 0.0], [tunnels, 0.0], [engines, 0.0], [scheme, 0.0], [viaduct, 0.0], [mines, 0.0], [mechanism, 0.0], [undertaking, 0.0], [colliery, 0.0], [plan, 0.0], [apparatus, 0.0], [system, 0.0]]</td>\n",
       "      <td>[[machine, 0.9500000000000001], [machines, 0.01], [mechanism, 0.01], [machinery, 0.0], [engine, 0.0], [device, 0.0], [apparatus, 0.0], [system, 0.0], [invention, 0.0], [process, 0.0], [equipment, 0.0], [prototype, 0.0], [wheel, 0.0], [method, 0.0], [design, 0.0], [clock, 0.0], [locomotive, 0.0], [tunnel, 0.0], [work, 0.0], [railway, 0.0]]</td>\n",
       "      <td>-0.925000</td>\n",
       "    </tr>\n",
       "    <tr>\n",
       "      <th>...</th>\n",
       "      <td>...</td>\n",
       "      <td>...</td>\n",
       "      <td>...</td>\n",
       "      <td>...</td>\n",
       "    </tr>\n",
       "    <tr>\n",
       "      <th>20067</th>\n",
       "      <td>We were also informed that the [MASK] ' will produce as much work as 20 hands and with greater uniformity and strength .</td>\n",
       "      <td>[[same, 0.09], [steam, 0.04], [two, 0.03], [machine, 0.03], [paddle, 0.02], [whole, 0.02], [iron, 0.02], [water, 0.02], [i, 0.01], [new, 0.01], [hydraulic, 0.01], [other, 0.01], [power, 0.01], [first, 0.01], [ordinary, 0.01], [hand, 0.01], [patent, 0.01], [revolving, 0.01], [horse, 0.01], [large, 0.01]]</td>\n",
       "      <td>[[machines, 0.56], [machine, 0.31], [wheels, 0.01], [engines, 0.01], [machinery, 0.01], [engine, 0.01], [boats, 0.0], [device, 0.0], [guns, 0.0], [apparatus, 0.0], [mills, 0.0], [locomotives, 0.0], [invention, 0.0], [iron, 0.0], [pumps, 0.0], [horses, 0.0], [models, 0.0], [mill, 0.0], [arms, 0.0], [designs, 0.0]]</td>\n",
       "      <td>-0.707500</td>\n",
       "    </tr>\n",
       "    <tr>\n",
       "      <th>33411</th>\n",
       "      <td>The [MASK] constructed are reported to work satisfactorily , and the principle to be equally applicable to Math . , and locomotive engines .</td>\n",
       "      <td>[[engines, 0.77], [machines, 0.06], [pumps, 0.02], [works, 0.01], [locomotives, 0.01], [cylinders, 0.01], [boilers, 0.01], [batteries, 0.01], [pipes, 0.0], [engine, 0.0], [appliances, 0.0], [instruments, 0.0], [machinery, 0.0], [apparatus, 0.0], [wheels, 0.0], [vessels, 0.0], [patents, 0.0], [shafts, 0.0], [carriages, 0.0], [mines, 0.0]]</td>\n",
       "      <td>[[machines, 0.73], [engines, 0.11], [machine, 0.02], [cylinders, 0.02], [apparatus, 0.01], [devices, 0.01], [locomotives, 0.01], [units, 0.01], [mechanisms, 0.01], [machinery, 0.0], [processes, 0.0], [systems, 0.0], [wheels, 0.0], [engine, 0.0], [boilers, 0.0], [models, 0.0], [turbines, 0.0], [motors, 0.0], [methods, 0.0], [pumps, 0.0]]</td>\n",
       "      <td>-0.706667</td>\n",
       "    </tr>\n",
       "    <tr>\n",
       "      <th>33568</th>\n",
       "      <td>Bailey Cart Wiltshire , woollen manufacturers , so far as regards J . Evans and B . J . P . Webb , Wolverhampton , agrkialtural implament manufacturess N . Stirlen and J . Pasith , Keighley , Torksidnk washing [MASK] makers J . Stead and J . C.ckto Viiresk.als . ale inseelutats K P . Plenty and W . Pain .</td>\n",
       "      <td>[[-, 0.48], [machine, 0.15], [##s, 0.06], [tub, 0.03], [house, 0.02], [soap, 0.01], [iron, 0.01], [cloth, 0.01], [##stand, 0.01], [,, 0.01], [tackle, 0.01], [., 0.01], [towel, 0.01], [pot, 0.0], [apparatus, 0.0], [brush, 0.0], [water, 0.0], [shirt, 0.0], [and, 0.0], [machines, 0.0]]</td>\n",
       "      <td>[[machine, 0.75], [machines, 0.06], [equipment, 0.02], [rod, 0.01], [powder, 0.01], [apparatus, 0.01], [-, 0.01], [machinery, 0.01], [iron, 0.01], [cream, 0.01], [paper, 0.0], [products, 0.0], [device, 0.0], [wheel, 0.0], [tackle, 0.0], [product, 0.0], [bowl, 0.0], [process, 0.0], [tool, 0.0], [glass, 0.0]]</td>\n",
       "      <td>-0.705000</td>\n",
       "    </tr>\n",
       "    <tr>\n",
       "      <th>7054</th>\n",
       "      <td>• . -. -' :-'''', [MASK] to Clean Seven Knives - To supp V Shrlikeepers with Teit and and Quality of are oestanly floe:Mg al , e n f _ ~ „ c ELLEWELL 'S .</td>\n",
       "      <td>[[machine, 0.26], [-, 0.05], [machines, 0.03], [., 0.03], [,, 0.03], [instrument, 0.01], [', 0.01], [apparatus, 0.01], [:, 0.01], [how, 0.01], [product, 0.01], [motor, 0.01], [1, 0.0], [method, 0.0], [man, 0.0], [agent, 0.0], [ltd, 0.0], [m, 0.0], [unit, 0.0], [mach, 0.0]]</td>\n",
       "      <td>[[machine, 0.97], [machines, 0.01], [\", 0.0], [), 0.0], [machinery, 0.0], [-, 0.0], [used, 0.0], [', 0.0], [how, 0.0], [and, 0.0], [ready, 0.0], [equipment, 0.0], [procedure, 0.0], [device, 0.0], [., 0.0], [man, 0.0], [process, 0.0], [:, 0.0], [one, 0.0], [method, 0.0]]</td>\n",
       "      <td>-0.705000</td>\n",
       "    </tr>\n",
       "    <tr>\n",
       "      <th>33333</th>\n",
       "      <td>Mr . Richard Brickwood Coltman , manufacturer of sewing [MASK] . recently carrying on business at 34a , Brewerstreet , Golden square , surreudered on bail before Alderman Abbas , to answer the charges of basing unlawfully , and within 60 day ' prior to his bankruptcy , disposed of goods otherwise than in the ordinary coons of trade , and with unlawfully pawning goods after his bankruptcy , such goods being the property of his assignees .</td>\n",
       "      <td>[[materials, 0.25], [machines, 0.22], [silk, 0.07], [goods, 0.05], [fabrics, 0.05], [machine, 0.04], [cloth, 0.04], [cotton, 0.03], [needles, 0.02], [thread, 0.02], [yarn, 0.02], [stockings, 0.01], [material, 0.01], [garments, 0.01], [apparel, 0.01], [leather, 0.01], [machinery, 0.01], [stuff, 0.01], [wool, 0.01], [carpets, 0.01]]</td>\n",
       "      <td>[[machines, 0.79], [machine, 0.06], [machinery, 0.03], [needles, 0.01], [knives, 0.01], [thread, 0.01], [devices, 0.01], [equipment, 0.0], [buttons, 0.0], [tools, 0.0], [gear, 0.0], [apparatus, 0.0], [shoes, 0.0], [products, 0.0], [implements, 0.0], [wheels, 0.0], [stitches, 0.0], [fabric, 0.0], [fabrics, 0.0], [lace, 0.0]]</td>\n",
       "      <td>-0.703333</td>\n",
       "    </tr>\n",
       "  </tbody>\n",
       "</table>\n",
       "<p>100 rows × 4 columns</p>\n",
       "</div>"
      ],
      "text/plain": [
       "                                                                                                                                                                                                                                                                                                                                                                                                                                                  maskedSentence  \\\n",
       "9282                                                                                                                                                                                                                                                                                           The : July , after a trial which cominued , more than five hours , found a verdia for , the Plaintiff , with 451 . damages , the Plaintiff returning the [MASK] .   \n",
       "26266                                                                                                                                                                                                                                                                                                         The [MASK] proprietor replied \" By no means , \" and he cautioned him above all things not to venture too far out , as there was a strong off set .   \n",
       "23566                                                                                                                                                                                                                                                                                                                                               The general [MASK] tool trade is in a very brisk state , especially in the completion of Government orders .   \n",
       "33535                                                                                                                                                                                                                                                                                                       Al to you , Derail , your conduct is worse , as you ware in work , and you did this because you did not like your master using a thrath Sig [MASK] .   \n",
       "24947                                                                                                                                                                                                                                                                                                                                      The Signor arrived a few days ago ; he saw the [MASK] in operation ; and considered the results something wonderful .   \n",
       "...                                                                                                                                                                                                                                                                                                                                                                                                                                                          ...   \n",
       "20067                                                                                                                                                                                                                                                                                                                                   We were also informed that the [MASK] ' will produce as much work as 20 hands and with greater uniformity and strength .   \n",
       "33411                                                                                                                                                                                                                                                                                                               The [MASK] constructed are reported to work satisfactorily , and the principle to be equally applicable to Math . , and locomotive engines .   \n",
       "33568                                                                                                                                         Bailey Cart Wiltshire , woollen manufacturers , so far as regards J . Evans and B . J . P . Webb , Wolverhampton , agrkialtural implament manufacturess N . Stirlen and J . Pasith , Keighley , Torksidnk washing [MASK] makers J . Stead and J . C.ckto Viiresk.als . ale inseelutats K P . Plenty and W . Pain .   \n",
       "7054                                                                                                                                                                                                                                                                                                  • . -. -' :-'''', [MASK] to Clean Seven Knives - To supp V Shrlikeepers with Teit and and Quality of are oestanly floe:Mg al , e n f _ ~ „ c ELLEWELL 'S .   \n",
       "33333  Mr . Richard Brickwood Coltman , manufacturer of sewing [MASK] . recently carrying on business at 34a , Brewerstreet , Golden square , surreudered on bail before Alderman Abbas , to answer the charges of basing unlawfully , and within 60 day ' prior to his bankruptcy , disposed of goods otherwise than in the ordinary coons of trade , and with unlawfully pawning goods after his bankruptcy , such goods being the property of his assignees .   \n",
       "\n",
       "                                                                                                                                                                                                                                                                                                                                       pred_bert_1760_1900  \\\n",
       "9282                                                                                   [[460, 0.18], [450, 0.11], [451, 0.1], [45, 0.09], [same, 0.03], [480, 0.01], [machine, 0.01], [420, 0.01], [470, 0.01], [500, 0.01], [360, 0.01], [400, 0.01], [10, 0.01], [1, 0.01], [150, 0.01], [300, 0.01], [2, 0.01], [latter, 0.01], [3d, 0.01], [46, 0.01]]   \n",
       "26266                                                 [[new, 0.16], [young, 0.11], [then, 0.06], [boat, 0.04], [present, 0.04], [former, 0.04], [landed, 0.04], [old, 0.02], [ship, 0.02], [little, 0.02], [other, 0.02], [mill, 0.02], [great, 0.01], [worthy, 0.01], [land, 0.01], [real, 0.01], [sole, 0.01], [late, 0.01], [large, 0.01], [tea, 0.01]]   \n",
       "23566                                           [[and, 0.12], [:, 0.11], [machine, 0.07], [iron, 0.04], [steam, 0.04], [j, 0.03], [., 0.02], [-, 0.02], [edge, 0.02], [i, 0.02], [), 0.01], [working, 0.01], [steel, 0.01], [agricultural, 0.01], [railway, 0.01], [government, 0.01], [building, 0.01], [mechanical, 0.01], [mechanics, 0.01], [;, 0.01]]   \n",
       "33535                                                     [[##d, 0.11], [gin, 0.03], [##wa, 0.03], [##di, 0.02], [##dar, 0.02], [##dr, 0.02], [##van, 0.02], [##dt, 0.01], [##da, 0.01], [##dh, 0.01], [##dian, 0.01], [##vin, 0.01], [ling, 0.01], [##dd, 0.01], [##win, 0.01], [##dl, 0.01], [##dra, 0.01], [##dis, 0.01], [##dle, 0.01], [##wan, 0.01]]   \n",
       "24947                     [[tunnel, 0.73], [machine, 0.06], [mine, 0.04], [engine, 0.03], [work, 0.02], [machinery, 0.02], [works, 0.01], [railway, 0.01], [shaft, 0.0], [tunnels, 0.0], [engines, 0.0], [scheme, 0.0], [viaduct, 0.0], [mines, 0.0], [mechanism, 0.0], [undertaking, 0.0], [colliery, 0.0], [plan, 0.0], [apparatus, 0.0], [system, 0.0]]   \n",
       "...                                                                                                                                                                                                                                                                                                                                                    ...   \n",
       "20067                                     [[same, 0.09], [steam, 0.04], [two, 0.03], [machine, 0.03], [paddle, 0.02], [whole, 0.02], [iron, 0.02], [water, 0.02], [i, 0.01], [new, 0.01], [hydraulic, 0.01], [other, 0.01], [power, 0.01], [first, 0.01], [ordinary, 0.01], [hand, 0.01], [patent, 0.01], [revolving, 0.01], [horse, 0.01], [large, 0.01]]   \n",
       "33411  [[engines, 0.77], [machines, 0.06], [pumps, 0.02], [works, 0.01], [locomotives, 0.01], [cylinders, 0.01], [boilers, 0.01], [batteries, 0.01], [pipes, 0.0], [engine, 0.0], [appliances, 0.0], [instruments, 0.0], [machinery, 0.0], [apparatus, 0.0], [wheels, 0.0], [vessels, 0.0], [patents, 0.0], [shafts, 0.0], [carriages, 0.0], [mines, 0.0]]   \n",
       "33568                                                          [[-, 0.48], [machine, 0.15], [##s, 0.06], [tub, 0.03], [house, 0.02], [soap, 0.01], [iron, 0.01], [cloth, 0.01], [##stand, 0.01], [,, 0.01], [tackle, 0.01], [., 0.01], [towel, 0.01], [pot, 0.0], [apparatus, 0.0], [brush, 0.0], [water, 0.0], [shirt, 0.0], [and, 0.0], [machines, 0.0]]   \n",
       "7054                                                                     [[machine, 0.26], [-, 0.05], [machines, 0.03], [., 0.03], [,, 0.03], [instrument, 0.01], [', 0.01], [apparatus, 0.01], [:, 0.01], [how, 0.01], [product, 0.01], [motor, 0.01], [1, 0.0], [method, 0.0], [man, 0.0], [agent, 0.0], [ltd, 0.0], [m, 0.0], [unit, 0.0], [mach, 0.0]]   \n",
       "33333         [[materials, 0.25], [machines, 0.22], [silk, 0.07], [goods, 0.05], [fabrics, 0.05], [machine, 0.04], [cloth, 0.04], [cotton, 0.03], [needles, 0.02], [thread, 0.02], [yarn, 0.02], [stockings, 0.01], [material, 0.01], [garments, 0.01], [apparel, 0.01], [leather, 0.01], [machinery, 0.01], [stuff, 0.01], [wool, 0.01], [carpets, 0.01]]   \n",
       "\n",
       "                                                                                                                                                                                                                                                                                                                                     pred_bert_contemporary  \\\n",
       "9282                          [[machine, 0.98], [machines, 0.01], [machinery, 0.0], [device, 0.0], [computer, 0.0], [patent, 0.0], [money, 0.0], [damages, 0.0], [contract, 0.0], [defendant, 0.0], [copy, 0.0], [case, 0.0], [same, 0.0], [robot, 0.0], [paper, 0.0], [counter, 0.0], [plaintiff, 0.0], [instrument, 0.0], [clock, 0.0], [invention, 0.0]]   \n",
       "26266                                                    [[machine, 0.96], [machines, 0.02], [shop, 0.01], [factory, 0.0], [hotel, 0.0], [mill, 0.0], [boat, 0.0], [engine, 0.0], [steamer, 0.0], [machinery, 0.0], [local, 0.0], [store, 0.0], [pump, 0.0], [old, 0.0], [new, 0.0], [master, 0.0], [ship, 0.0], [original, 0.0], [main, 0.0], [cafe, 0.0]]   \n",
       "23566                              [[machine, 0.97], [metal, 0.0], [-, 0.0], [hand, 0.0], [building, 0.0], [iron, 0.0], [manufacturing, 0.0], [industrial, 0.0], [mechanical, 0.0], [power, 0.0], [construction, 0.0], [machines, 0.0], [steel, 0.0], [leather, 0.0], [tool, 0.0], [agricultural, 0.0], [war, 0.0], [stone, 0.0], [wood, 0.0], [farm, 0.0]]   \n",
       "33535                                  [[machine, 0.92], [machines, 0.01], [tool, 0.01], [device, 0.0], [wheel, 0.0], [engine, 0.0], [hammer, 0.0], [machinery, 0.0], [system, 0.0], [blade, 0.0], [knife, 0.0], [robot, 0.0], [mechanism, 0.0], [mill, 0.0], [apparatus, 0.0], [weapon, 0.0], [factory, 0.0], [generator, 0.0], [bomb, 0.0], [crane, 0.0]]   \n",
       "24947  [[machine, 0.9500000000000001], [machines, 0.01], [mechanism, 0.01], [machinery, 0.0], [engine, 0.0], [device, 0.0], [apparatus, 0.0], [system, 0.0], [invention, 0.0], [process, 0.0], [equipment, 0.0], [prototype, 0.0], [wheel, 0.0], [method, 0.0], [design, 0.0], [clock, 0.0], [locomotive, 0.0], [tunnel, 0.0], [work, 0.0], [railway, 0.0]]   \n",
       "...                                                                                                                                                                                                                                                                                                                                                     ...   \n",
       "20067                            [[machines, 0.56], [machine, 0.31], [wheels, 0.01], [engines, 0.01], [machinery, 0.01], [engine, 0.01], [boats, 0.0], [device, 0.0], [guns, 0.0], [apparatus, 0.0], [mills, 0.0], [locomotives, 0.0], [invention, 0.0], [iron, 0.0], [pumps, 0.0], [horses, 0.0], [models, 0.0], [mill, 0.0], [arms, 0.0], [designs, 0.0]]   \n",
       "33411    [[machines, 0.73], [engines, 0.11], [machine, 0.02], [cylinders, 0.02], [apparatus, 0.01], [devices, 0.01], [locomotives, 0.01], [units, 0.01], [mechanisms, 0.01], [machinery, 0.0], [processes, 0.0], [systems, 0.0], [wheels, 0.0], [engine, 0.0], [boilers, 0.0], [models, 0.0], [turbines, 0.0], [motors, 0.0], [methods, 0.0], [pumps, 0.0]]   \n",
       "33568                                  [[machine, 0.75], [machines, 0.06], [equipment, 0.02], [rod, 0.01], [powder, 0.01], [apparatus, 0.01], [-, 0.01], [machinery, 0.01], [iron, 0.01], [cream, 0.01], [paper, 0.0], [products, 0.0], [device, 0.0], [wheel, 0.0], [tackle, 0.0], [product, 0.0], [bowl, 0.0], [process, 0.0], [tool, 0.0], [glass, 0.0]]   \n",
       "7054                                                                         [[machine, 0.97], [machines, 0.01], [\", 0.0], [), 0.0], [machinery, 0.0], [-, 0.0], [used, 0.0], [', 0.0], [how, 0.0], [and, 0.0], [ready, 0.0], [equipment, 0.0], [procedure, 0.0], [device, 0.0], [., 0.0], [man, 0.0], [process, 0.0], [:, 0.0], [one, 0.0], [method, 0.0]]   \n",
       "33333                 [[machines, 0.79], [machine, 0.06], [machinery, 0.03], [needles, 0.01], [knives, 0.01], [thread, 0.01], [devices, 0.01], [equipment, 0.0], [buttons, 0.0], [tools, 0.0], [gear, 0.0], [apparatus, 0.0], [shoes, 0.0], [products, 0.0], [implements, 0.0], [wheels, 0.0], [stitches, 0.0], [fabric, 0.0], [fabrics, 0.0], [lace, 0.0]]   \n",
       "\n",
       "       machine_rankprob_diff  \n",
       "9282               -0.983571  \n",
       "26266              -0.970000  \n",
       "23566              -0.946667  \n",
       "33535              -0.925000  \n",
       "24947              -0.925000  \n",
       "...                      ...  \n",
       "20067              -0.707500  \n",
       "33411              -0.706667  \n",
       "33568              -0.705000  \n",
       "7054               -0.705000  \n",
       "33333              -0.703333  \n",
       "\n",
       "[100 rows x 4 columns]"
      ]
     },
     "execution_count": 103,
     "metadata": {},
     "output_type": "execute_result"
    }
   ],
   "source": [
    "df_1.sort_values(f'{cat}_rankprob_diff',ascending=True)[['maskedSentence','pred_bert_1760_1900','pred_bert_contemporary',f'{cat}_rankprob_diff']][:100]\n"
   ]
  },
  {
   "cell_type": "code",
   "execution_count": 84,
   "metadata": {},
   "outputs": [
    {
     "data": {
      "text/html": [
       "<div>\n",
       "<style scoped>\n",
       "    .dataframe tbody tr th:only-of-type {\n",
       "        vertical-align: middle;\n",
       "    }\n",
       "\n",
       "    .dataframe tbody tr th {\n",
       "        vertical-align: top;\n",
       "    }\n",
       "\n",
       "    .dataframe thead th {\n",
       "        text-align: right;\n",
       "    }\n",
       "</style>\n",
       "<table border=\"1\" class=\"dataframe\">\n",
       "  <thead>\n",
       "    <tr style=\"text-align: right;\">\n",
       "      <th></th>\n",
       "      <th>maskedSentence</th>\n",
       "      <th>pred_bert_1760_1900</th>\n",
       "      <th>pred_bert_contemporary</th>\n",
       "      <th>man_prob_diff</th>\n",
       "    </tr>\n",
       "  </thead>\n",
       "  <tbody>\n",
       "    <tr>\n",
       "      <th>22593</th>\n",
       "      <td>1 presentation of boroughs an l counties we it by descent I and not by election—and while the t 1 cu re were not ridependent men , hut wire voting [MASK] —so long ' might the people of Blighted expect that the legislation iemanating from so corrupt a source must be impure — that lcgislatiog arising from so confined a . source would be directed to anything but the interests if ' be electors .</td>\n",
       "      <td>[[men, 0.8300000000000001], [., 0.02], [##men, 0.02], [,, 0.02], [electors, 0.01], [;, 0.01], [were, 0.01], [members, 0.0], [gentlemen, 0.0], [-, 0.0], [:, 0.0], [was, 0.0], [officers, 0.0], [man, 0.0], [people, 0.0], [voters, 0.0], [holders, 0.0], [##s, 0.0], [machines, 0.0], [citizens, 0.0]]</td>\n",
       "      <td>[[for, 0.28], [', 0.16], [., 0.09], [,, 0.05], [was, 0.03], [not, 0.01], [:, 0.01], [and, 0.01], [after, 0.01], [only, 0.01], [by, 0.01], [on, 0.01], [continued, 0.01], [is, 0.01], [took, 0.01], [were, 0.01], [with, 0.01], [..., 0.01], [?, 0.01], [that, 0.01]]</td>\n",
       "      <td>0.83</td>\n",
       "    </tr>\n",
       "    <tr>\n",
       "      <th>1456</th>\n",
       "      <td>Should these find ample encouragement from the public , additional [MASK] and horses might be employed , so that they might start every half hour .</td>\n",
       "      <td>[[men, 0.73], [carriages, 0.04], [vehicles, 0.03], [man, 0.02], [drivers, 0.02], [passengers, 0.01], [hands, 0.01], [servants, 0.01], [carriage, 0.01], [attendants, 0.01], [persons, 0.01], [omnibus, 0.01], [dogs, 0.01], [carts, 0.01], [coach, 0.0], [driver, 0.0], [foot, 0.0], [vehicle, 0.0], [coaches, 0.0], [animals, 0.0]]</td>\n",
       "      <td>[[carriages, 0.26], [drivers, 0.18], [coaches, 0.14], [carriage, 0.04], [staff, 0.04], [wagons, 0.03], [passengers, 0.02], [horses, 0.02], [men, 0.02], [carts, 0.02], [vehicles, 0.02], [cars, 0.01], [trains, 0.01], [boats, 0.01], [equipment, 0.01], [coach, 0.01], [wagon, 0.01], [labour, 0.0], [dogs, 0.0], [workers, 0.0]]</td>\n",
       "      <td>0.73</td>\n",
       "    </tr>\n",
       "    <tr>\n",
       "      <th>10101</th>\n",
       "      <td>At length , the word was given to the men who were holding the car , to \" let go ; \" which they did ; but the quantity , of ballast was so great that the [MASK] did not ascend , but drew the car along just above the surface of the ground .</td>\n",
       "      <td>[[men, 0.63], [man, 0.1], [car, 0.03], [ballast, 0.02], [boat, 0.01], [vessel, 0.01], [people, 0.01], [driver, 0.01], [cart, 0.01], [horses, 0.01], [engine, 0.01], [horse, 0.01], [ship, 0.01], [water, 0.0], [crew, 0.0], [wheels, 0.0], [sailors, 0.0], [vessels, 0.0], [camel, 0.0], [ropes, 0.0]]</td>\n",
       "      <td>[[car, 0.12], [wheels, 0.11], [driver, 0.06], [train, 0.04], [road, 0.03], [water, 0.03], [men, 0.02], [weight, 0.02], [vehicle, 0.02], [carriage, 0.02], [cars, 0.02], [horse, 0.02], [horses, 0.01], [wheel, 0.01], [man, 0.01], [current, 0.01], [ground, 0.01], [track, 0.01], [wind, 0.01], [engine, 0.01]]</td>\n",
       "      <td>0.70</td>\n",
       "    </tr>\n",
       "    <tr>\n",
       "      <th>19860</th>\n",
       "      <td>The merit of the launch was in its true simplicity , that simplicity the result of scientific calculation , brought to bear by the zealous co operation of the officers and artisans of her Majesty 's dockyard , and when all felt that an important duty was entrusted to their keeping they acted as one [MASK] .</td>\n",
       "      <td>[[man, 0.67], [together, 0.03], [whole, 0.02], [body, 0.02], [accord, 0.02], [throughout, 0.02], [unit, 0.01], [individual, 0.01], [people, 0.01], [person, 0.01], [men, 0.01], [each, 0.01], [committee, 0.01], [collectively, 0.01], [heart, 0.01], [community, 0.01], [brotherhood, 0.01], [party, 0.01], [mind, 0.0], [soul, 0.0]]</td>\n",
       "      <td>[[unit, 0.14], [person, 0.06], [entity, 0.05], [each, 0.05], [party, 0.04], [persons, 0.04], [force, 0.03], [again, 0.03], [together, 0.02], [team, 0.02], [body, 0.02], [group, 0.02], [instrument, 0.02], [whole, 0.01], [company, 0.01], [committee, 0.01], [man, 0.01], [another, 0.01], [being, 0.01], [such, 0.01]]</td>\n",
       "      <td>0.67</td>\n",
       "    </tr>\n",
       "    <tr>\n",
       "      <th>20008</th>\n",
       "      <td>If a man was too large , then a boy must be sent up—not to sweep the chimney , but to extricate the [MASK] .</td>\n",
       "      <td>[[man, 0.8200000000000001], [chimney, 0.03], [person, 0.02], [woman, 0.01], [fire, 0.01], [body, 0.01], [house, 0.01], [smoke, 0.0], [men, 0.0], [people, 0.0], [creature, 0.0], [door, 0.0], [boy, 0.0], [gentleman, 0.0], [matter, 0.0], [master, 0.0], [offender, 0.0], [thief, 0.0], [head, 0.0], [whole, 0.0]]</td>\n",
       "      <td>[[man, 0.15], [boy, 0.08], [fire, 0.05], [smoke, 0.04], [chimney, 0.04], [dust, 0.02], [child, 0.02], [woman, 0.02], [wind, 0.01], [men, 0.01], [flames, 0.01], [body, 0.01], [girl, 0.01], [house, 0.01], [wood, 0.01], [cat, 0.01], [children, 0.01], [burden, 0.01], [flame, 0.01], [load, 0.01]]</td>\n",
       "      <td>0.66</td>\n",
       "    </tr>\n",
       "    <tr>\n",
       "      <th>11592</th>\n",
       "      <td>The reduction of the profits has sharpened the wits of the manufacturers , and men . women , and children , as well as [MASK] , throw off an increasing quantity of work .</td>\n",
       "      <td>[[men, 0.9500000000000001], [adults, 0.01], [women, 0.0], [children, 0.0], [males, 0.0], [girls, 0.0], [infants, 0.0], [man, 0.0], [labourers, 0.0], [individuals, 0.0], [masters, 0.0], [persons, 0.0], [clerks, 0.0], [servants, 0.0], [boys, 0.0], [artisans, 0.0], [people, 0.0], [operatives, 0.0], [slaves, 0.0], [others, 0.0]]</td>\n",
       "      <td>[[men, 0.31], [women, 0.09], [children, 0.09], [infants, 0.05], [adults, 0.04], [servants, 0.04], [workers, 0.03], [widows, 0.02], [slaves, 0.01], [farmers, 0.01], [animals, 0.01], [boys, 0.01], [husbands, 0.01], [girls, 0.01], [labourers, 0.01], [wives, 0.01], [elderly, 0.01], [laborers, 0.01], [babies, 0.01], [horses, 0.01]]</td>\n",
       "      <td>0.64</td>\n",
       "    </tr>\n",
       "    <tr>\n",
       "      <th>9458</th>\n",
       "      <td>Seven [MASK] are employed drive in the piles , but the Danube beingin matty places 24 and 26 feet in depth , much time is spent in order to fix•the an = chars , when the machines are displaced : However , our works are advancing , and will be finished in a short time .</td>\n",
       "      <td>[[men, 0.68], [engineers, 0.08], [persons, 0.08], [hands, 0.02], [machines, 0.02], [##men, 0.01], [engines, 0.01], [horses, 0.01], [labourers, 0.01], [mechanics, 0.01], [who, 0.0], [people, 0.0], [boys, 0.0], [gentlemen, 0.0], [women, 0.0], [miners, 0.0], [sailors, 0.0], [companies, 0.0], [assistants, 0.0], [individuals, 0.0]]</td>\n",
       "      <td>[[machines, 0.65], [engines, 0.07], [men, 0.06], [boats, 0.01], [engineers, 0.01], [barges, 0.01], [machinery, 0.01], [machine, 0.01], [locomotives, 0.01], [cranes, 0.01], [teams, 0.01], [wheels, 0.01], [workers, 0.01], [companies, 0.0], [trucks, 0.0], [mechanics, 0.0], [tractors, 0.0], [horses, 0.0], [mills, 0.0], [pumps, 0.0]]</td>\n",
       "      <td>0.62</td>\n",
       "    </tr>\n",
       "    <tr>\n",
       "      <th>13681</th>\n",
       "      <td>[MASK] are now made to make machines , and perform work which may be called perfect .</td>\n",
       "      <td>[[men, 0.77], [they, 0.08], [machines, 0.06], [people, 0.02], [railroads, 0.01], [women, 0.01], [hands, 0.01], [we, 0.01], [all, 0.0], [animals, 0.0], [persons, 0.0], [girls, 0.0], [these, 0.0], [children, 0.0], [man, 0.0], [mechanics, 0.0], [those, 0.0], [locomotives, 0.0], [laborers, 0.0], [engines, 0.0]]</td>\n",
       "      <td>[[they, 0.26], [slaves, 0.16], [men, 0.15], [people, 0.09], [machines, 0.05], [workers, 0.04], [we, 0.03], [women, 0.02], [robots, 0.01], [tools, 0.01], [humans, 0.01], [factories, 0.01], [children, 0.01], [those, 0.01], [railroads, 0.0], [craftsmen, 0.0], [laborers, 0.0], [hands, 0.0], [efforts, 0.0], [these, 0.0]]</td>\n",
       "      <td>0.62</td>\n",
       "    </tr>\n",
       "    <tr>\n",
       "      <th>13680</th>\n",
       "      <td>[MASK] are now made to make machines , and perform work which may be called perfect .</td>\n",
       "      <td>[[men, 0.77], [they, 0.08], [machines, 0.06], [people, 0.02], [railroads, 0.01], [women, 0.01], [hands, 0.01], [we, 0.01], [all, 0.0], [animals, 0.0], [persons, 0.0], [girls, 0.0], [these, 0.0], [children, 0.0], [man, 0.0], [mechanics, 0.0], [those, 0.0], [locomotives, 0.0], [laborers, 0.0], [engines, 0.0]]</td>\n",
       "      <td>[[they, 0.26], [slaves, 0.16], [men, 0.15], [people, 0.09], [machines, 0.05], [workers, 0.04], [we, 0.03], [women, 0.02], [robots, 0.01], [tools, 0.01], [humans, 0.01], [factories, 0.01], [children, 0.01], [those, 0.01], [railroads, 0.0], [craftsmen, 0.0], [laborers, 0.0], [hands, 0.0], [efforts, 0.0], [these, 0.0]]</td>\n",
       "      <td>0.62</td>\n",
       "    </tr>\n",
       "    <tr>\n",
       "      <th>20012</th>\n",
       "      <td>If a man was too large , then a boy must be sent up—not to sweep the chimney , but , to extricate the [MASK] .</td>\n",
       "      <td>[[man, 0.75], [chimney, 0.06], [person, 0.02], [woman, 0.01], [fire, 0.01], [house, 0.01], [body, 0.01], [smoke, 0.01], [boy, 0.0], [men, 0.0], [door, 0.0], [people, 0.0], [creature, 0.0], [master, 0.0], [gentleman, 0.0], [family, 0.0], [child, 0.0], [fellow, 0.0], [head, 0.0], [matter, 0.0]]</td>\n",
       "      <td>[[man, 0.14], [fire, 0.08], [smoke, 0.07], [boy, 0.06], [chimney, 0.05], [dust, 0.02], [wind, 0.02], [flames, 0.02], [woman, 0.01], [child, 0.01], [men, 0.01], [body, 0.01], [flame, 0.01], [house, 0.01], [heat, 0.01], [girl, 0.01], [cat, 0.01], [wood, 0.01], [beast, 0.01], [light, 0.01]]</td>\n",
       "      <td>0.60</td>\n",
       "    </tr>\n",
       "    <tr>\n",
       "      <th>24067</th>\n",
       "      <td>The [MASK] employed 'cuts simultaneously from 20 to 30 holes in a space of 4 square metres — that is one in which it would not be easy to employ three or four men .</td>\n",
       "      <td>[[men, 0.44], [man, 0.19], [person, 0.08], [persons, 0.02], [hands, 0.02], [tools, 0.02], [hand, 0.02], [method, 0.01], [number, 0.01], [machine, 0.01], [carpenter, 0.01], [one, 0.01], [labour, 0.01], [engineer, 0.0], [time, 0.0], [means, 0.0], [labourers, 0.0], [work, 0.0], [material, 0.0], [engineers, 0.0]]</td>\n",
       "      <td>[[design, 0.05], [plan, 0.05], [company, 0.03], [engineers, 0.03], [men, 0.03], [scheme, 0.03], [system, 0.03], [army, 0.02], [french, 0.02], [romans, 0.02], [method, 0.02], [team, 0.02], [technique, 0.02], [british, 0.01], [designers, 0.01], [germans, 0.01], [project, 0.01], [machine, 0.01], [firm, 0.01], [latter, 0.01]]</td>\n",
       "      <td>0.60</td>\n",
       "    </tr>\n",
       "    <tr>\n",
       "      <th>5731</th>\n",
       "      <td>What , then , is this [MASK] ?</td>\n",
       "      <td>[[man, 0.65], [thing, 0.04], [creature, 0.03], [fact, 0.03], [animal, 0.02], [force, 0.02], [monster, 0.01], [power, 0.01], [truth, 0.01], [matter, 0.01], [system, 0.01], [language, 0.01], [creation, 0.01], [person, 0.0], [machine, 0.0], [woman, 0.0], [idea, 0.0], [engine, 0.0], [brute, 0.0], [beast, 0.0]]</td>\n",
       "      <td>[[thing, 0.14], [man, 0.05], [for, 0.02], [machine, 0.02], [word, 0.02], [place, 0.02], [term, 0.02], [phrase, 0.02], [saying, 0.02], [meaning, 0.02], [mean, 0.02], [idea, 0.01], [power, 0.01], [letter, 0.01], [matter, 0.01], [invention, 0.01], [creature, 0.01], [name, 0.01], [device, 0.01], [animal, 0.01]]</td>\n",
       "      <td>0.60</td>\n",
       "    </tr>\n",
       "    <tr>\n",
       "      <th>9796</th>\n",
       "      <td>These facts fully proved the safety , and he might even say , the additional safety of employing [MASK] instead of boys .</td>\n",
       "      <td>[[men, 0.72], [seamen, 0.02], [boats, 0.02], [sailors, 0.02], [thousands, 0.01], [hundreds, 0.01], [persons, 0.01], [vessels, 0.01], [people, 0.01], [girls, 0.01], [women, 0.01], [hands, 0.01], [geese, 0.0], [millions, 0.0], [fishermen, 0.0], [whites, 0.0], [soldiers, 0.0], [numbers, 0.0], [agents, 0.0], [crews, 0.0]]</td>\n",
       "      <td>[[women, 0.34], [girls, 0.30000000000000004], [boys, 0.16], [men, 0.14], [children, 0.01], [ladies, 0.01], [adults, 0.0], [officers, 0.0], [females, 0.0], [servants, 0.0], [teachers, 0.0], [them, 0.0], [daughters, 0.0], [people, 0.0], [nurses, 0.0], [youth, 0.0], [maids, 0.0], [infants, 0.0], [lads, 0.0], [fathers, 0.0]]</td>\n",
       "      <td>0.58</td>\n",
       "    </tr>\n",
       "    <tr>\n",
       "      <th>20704</th>\n",
       "      <td>In answer to the jury as to why he did not detach the parachute when so close to the ground , and so have given the deceased a chance of escaping , he said that he did not know but what tho [MASK] had by that time got away , but even had it been so , ho thought that the grapnel , which was trailing along , would either have picked it up or the man .</td>\n",
       "      <td>[[man, 0.55], [body, 0.1], [parachute, 0.04], [deceased, 0.04], [person, 0.01], [rope, 0.01], [gentleman, 0.01], [men, 0.01], [balloon, 0.01], [bird, 0.01], [corpse, 0.01], [latter, 0.01], [##u, 0.0], [victim, 0.0], [he, 0.0], [boat, 0.0], [one, 0.0], [animal, 0.0], [it, 0.0], [prisoner, 0.0]]</td>\n",
       "      <td>[[he, 0.44], [##s, 0.06], [', 0.04], [##n, 0.03], [##e, 0.03], [##t, 0.02], [##h, 0.02], [it, 0.02], [##th, 0.01], [##se, 0.01], [##te, 0.01], [##ne, 0.01], [i, 0.01], [##o, 0.01], [##y, 0.01], [man, 0.0], [##nd, 0.0], [##no, 0.0], [##ll, 0.0], [##de, 0.0]]</td>\n",
       "      <td>0.56</td>\n",
       "    </tr>\n",
       "    <tr>\n",
       "      <th>7750</th>\n",
       "      <td>The ship of war which was on the stocks there , and nearly ready h.r launching , they threw down and tore to pieces , Ey the aid of [MASK] and horses .</td>\n",
       "      <td>[[men, 0.74], [dogs, 0.04], [ropes, 0.03], [man, 0.02], [arms, 0.01], [carriages, 0.01], [women, 0.01], [cattle, 0.01], [carts, 0.01], [soldiers, 0.01], [boats, 0.01], [powder, 0.0], [sailors, 0.0], [cannon, 0.0], [wood, 0.0], [artillery, 0.0], [slaves, 0.0], [hands, 0.0], [guns, 0.0], [seamen, 0.0]]</td>\n",
       "      <td>[[men, 0.2], [arms, 0.08], [guns, 0.04], [horses, 0.04], [cattle, 0.03], [troops, 0.03], [soldiers, 0.02], [women, 0.02], [food, 0.02], [carriages, 0.02], [dogs, 0.01], [artillery, 0.01], [provisions, 0.01], [carts, 0.01], [infantry, 0.01], [money, 0.01], [water, 0.01], [slaves, 0.01], [weapons, 0.01], [man, 0.01]]</td>\n",
       "      <td>0.55</td>\n",
       "    </tr>\n",
       "    <tr>\n",
       "      <th>8761</th>\n",
       "      <td>One [MASK] cuts chrism ; another scours kuives and forks ; another blacks boots ; another roeks the cradle ; and seven or eight take in washing and ironing .</td>\n",
       "      <td>[[man, 0.66], [one, 0.04], [boy, 0.03], [hand, 0.02], [person, 0.02], [then, 0.01], [woman, 0.01], [now, 0.01], [gentleman, 0.01], [also, 0.0], [blacksmith, 0.0], [cutter, 0.0], [file, 0.0], [party, 0.0], [manufacturer, 0.0], [half, 0.0], [again, 0.0], [third, 0.0], [apprentice, 0.0], [still, 0.0]]</td>\n",
       "      <td>[[hand, 0.30000000000000004], [man, 0.12], [boy, 0.05], [even, 0.04], [also, 0.04], [one, 0.03], [woman, 0.01], [then, 0.01], [sometimes, 0.01], [now, 0.01], [often, 0.01], [half, 0.01], [person, 0.01], [day, 0.01], [first, 0.01], [master, 0.0], [again, 0.0], [girl, 0.0], [carefully, 0.0], [maid, 0.0]]</td>\n",
       "      <td>0.54</td>\n",
       "    </tr>\n",
       "    <tr>\n",
       "      <th>26445</th>\n",
       "      <td>Men are not [MASK] , neither are they children whom we can hope to train to unreasoning obedience ; and if the acts of the masters are founded in justice and reason , • ard only dictated by the exigencies of trade , it is not increased intelligence that will make them dispute them .</td>\n",
       "      <td>[[men, 0.55], [slaves, 0.07], [masters, 0.05], [fools, 0.05], [children, 0.03], [teachers, 0.03], [parents, 0.02], [women, 0.02], [ignorant, 0.01], [scholars, 0.01], [intelligent, 0.01], [taught, 0.01], [servants, 0.01], [wise, 0.0], [schools, 0.0], [instructed, 0.0], [boys, 0.0], [idiots, 0.0], [rulers, 0.0], [philosophers, 0.0]]</td>\n",
       "      <td>[[teachers, 0.11], [slaves, 0.07], [children, 0.07], [masters, 0.04], [men, 0.02], [adults, 0.02], [educated, 0.02], [learned, 0.02], [fools, 0.02], [free, 0.01], [equal, 0.01], [educators, 0.01], [animals, 0.01], [ignorant, 0.01], [intelligent, 0.01], [taught, 0.01], [boys, 0.01], [wise, 0.01], [women, 0.01], [servants, 0.01]]</td>\n",
       "      <td>0.53</td>\n",
       "    </tr>\n",
       "    <tr>\n",
       "      <th>10262</th>\n",
       "      <td>They had also attempted to regulate the number of the [MASK] employed by any master , if not to put a stem to the employment of machinery altogether .</td>\n",
       "      <td>[[men, 0.54], [hands, 0.09], [boys, 0.04], [tools, 0.04], [persons, 0.03], [labourers, 0.03], [slaves, 0.02], [servants, 0.02], [mechanics, 0.01], [machines, 0.01], [masters, 0.01], [assistants, 0.01], [apprentice, 0.01], [children, 0.01], [artisans, 0.01], [horses, 0.01], [lads, 0.01], [people, 0.0], [number, 0.0], [operatives, 0.0]]</td>\n",
       "      <td>[[workers, 0.1], [labourers, 0.1], [slaves, 0.07], [servants, 0.05], [machines, 0.05], [men, 0.04], [craftsmen, 0.04], [apprentice, 0.03], [machinery, 0.03], [horses, 0.02], [laborers, 0.02], [mechanics, 0.02], [assistants, 0.02], [trades, 0.02], [masters, 0.02], [mills, 0.01], [artisans, 0.01], [employees, 0.01], [hands, 0.01], [tools, 0.01]]</td>\n",
       "      <td>0.50</td>\n",
       "    </tr>\n",
       "    <tr>\n",
       "      <th>19360</th>\n",
       "      <td>In the present masters , who wished to treat4ll ou the side of the [MASK] , to deprive them of the men like so many moot , as well es of all that indall means of self improvewhich were every man 's biethrefendence and self control hoped that both society and ght-- ( Hear , hear . ) I.le afford no opportunity to the mastersciety men would in the meshes of the law , Ra of involving them verdict of public opinion would biatt 'd no doubt that the in favour of the men .</td>\n",
       "      <td>[[men, 0.52], [masters, 0.07], [people, 0.05], [law, 0.04], [women, 0.03], [master, 0.02], [man, 0.02], [laws, 0.01], [society, 0.01], [state, 0.01], [public, 0.0], [class, 0.0], [government, 0.0], [work, 0.0], [other, 0.0], [latter, 0.0], [slaves, 0.0], [poor, 0.0], [nation, 0.0], [others, 0.0]]</td>\n",
       "      <td>[[law, 0.24], [people, 0.06], [poor, 0.03], [men, 0.03], [man, 0.02], [state, 0.01], [women, 0.01], [race, 0.01], [masters, 0.01], [government, 0.01], [public, 0.01], [english, 0.01], [lord, 0.01], [nation, 0.01], [sea, 0.01], [laws, 0.01], [country, 0.01], [king, 0.01], [others, 0.01], [house, 0.01]]</td>\n",
       "      <td>0.49</td>\n",
       "    </tr>\n",
       "    <tr>\n",
       "      <th>11886</th>\n",
       "      <td>His political creed , of which he sent the Citizen King a copy , was not approved of ; we believe , because politi Cal [MASK] are most useful when they profess no creed , and know no principle .</td>\n",
       "      <td>[[men, 0.48], [philosophers, 0.13], [##ists, 0.03], [persons, 0.03], [ministers, 0.02], [people, 0.02], [politicians, 0.02], [writers, 0.02], [gentlemen, 0.01], [characters, 0.01], [princes, 0.01], [teachers, 0.01], [##s, 0.01], [subjects, 0.01], [opinions, 0.01], [bodies, 0.01], [fools, 0.01], [principles, 0.0], [governments, 0.0], [rulers, 0.0]]</td>\n",
       "      <td>[[##i, 0.17], [##ci, 0.14], [##vi, 0.07], [##ii, 0.03], [##is, 0.03], [##cula, 0.03], [##ici, 0.02], [##oris, 0.02], [##di, 0.02], [##um, 0.01], [##isi, 0.01], [##cio, 0.01], [##io, 0.01], [##va, 0.01], [##ium, 0.01], [##dus, 0.01], [##itas, 0.01], [##via, 0.01], [##iti, 0.01], [##dini, 0.01]]</td>\n",
       "      <td>0.48</td>\n",
       "    </tr>\n",
       "  </tbody>\n",
       "</table>\n",
       "</div>"
      ],
      "text/plain": [
       "                                                                                                                                                                                                                                                                                                                                                                                                                                                                              maskedSentence  \\\n",
       "22593                                                                             1 presentation of boroughs an l counties we it by descent I and not by election—and while the t 1 cu re were not ridependent men , hut wire voting [MASK] —so long ' might the people of Blighted expect that the legislation iemanating from so corrupt a source must be impure — that lcgislatiog arising from so confined a . source would be directed to anything but the interests if ' be electors .   \n",
       "1456                                                                                                                                                                                                                                                                                                                                     Should these find ample encouragement from the public , additional [MASK] and horses might be employed , so that they might start every half hour .   \n",
       "10101                                                                                                                                                                                                                                        At length , the word was given to the men who were holding the car , to \" let go ; \" which they did ; but the quantity , of ballast was so great that the [MASK] did not ascend , but drew the car along just above the surface of the ground .   \n",
       "19860                                                                                                                                                                   The merit of the launch was in its true simplicity , that simplicity the result of scientific calculation , brought to bear by the zealous co operation of the officers and artisans of her Majesty 's dockyard , and when all felt that an important duty was entrusted to their keeping they acted as one [MASK] .   \n",
       "20008                                                                                                                                                                                                                                                                                                                                                                           If a man was too large , then a boy must be sent up—not to sweep the chimney , but to extricate the [MASK] .   \n",
       "11592                                                                                                                                                                                                                                                                                                             The reduction of the profits has sharpened the wits of the manufacturers , and men . women , and children , as well as [MASK] , throw off an increasing quantity of work .   \n",
       "9458                                                                                                                                                                                                           Seven [MASK] are employed drive in the piles , but the Danube beingin matty places 24 and 26 feet in depth , much time is spent in order to fix•the an = chars , when the machines are displaced : However , our works are advancing , and will be finished in a short time .   \n",
       "13681                                                                                                                                                                                                                                                                                                                                                                                                  [MASK] are now made to make machines , and perform work which may be called perfect .   \n",
       "13680                                                                                                                                                                                                                                                                                                                                                                                                  [MASK] are now made to make machines , and perform work which may be called perfect .   \n",
       "20012                                                                                                                                                                                                                                                                                                                                                                         If a man was too large , then a boy must be sent up—not to sweep the chimney , but , to extricate the [MASK] .   \n",
       "24067                                                                                                                                                                                                                                                                                                                   The [MASK] employed 'cuts simultaneously from 20 to 30 holes in a space of 4 square metres — that is one in which it would not be easy to employ three or four men .   \n",
       "5731                                                                                                                                                                                                                                                                                                                                                                                                                                                          What , then , is this [MASK] ?   \n",
       "9796                                                                                                                                                                                                                                                                                                                                                               These facts fully proved the safety , and he might even say , the additional safety of employing [MASK] instead of boys .   \n",
       "20704                                                                                                                        In answer to the jury as to why he did not detach the parachute when so close to the ground , and so have given the deceased a chance of escaping , he said that he did not know but what tho [MASK] had by that time got away , but even had it been so , ho thought that the grapnel , which was trailing along , would either have picked it up or the man .   \n",
       "7750                                                                                                                                                                                                                                                                                                                                 The ship of war which was on the stocks there , and nearly ready h.r launching , they threw down and tore to pieces , Ey the aid of [MASK] and horses .   \n",
       "8761                                                                                                                                                                                                                                                                                                                           One [MASK] cuts chrism ; another scours kuives and forks ; another blacks boots ; another roeks the cradle ; and seven or eight take in washing and ironing .   \n",
       "26445                                                                                                                                                                                            Men are not [MASK] , neither are they children whom we can hope to train to unreasoning obedience ; and if the acts of the masters are founded in justice and reason , • ard only dictated by the exigencies of trade , it is not increased intelligence that will make them dispute them .   \n",
       "10262                                                                                                                                                                                                                                                                                                                                 They had also attempted to regulate the number of the [MASK] employed by any master , if not to put a stem to the employment of machinery altogether .   \n",
       "19360  In the present masters , who wished to treat4ll ou the side of the [MASK] , to deprive them of the men like so many moot , as well es of all that indall means of self improvewhich were every man 's biethrefendence and self control hoped that both society and ght-- ( Hear , hear . ) I.le afford no opportunity to the mastersciety men would in the meshes of the law , Ra of involving them verdict of public opinion would biatt 'd no doubt that the in favour of the men .   \n",
       "11886                                                                                                                                                                                                                                                                                     His political creed , of which he sent the Citizen King a copy , was not approved of ; we believe , because politi Cal [MASK] are most useful when they profess no creed , and know no principle .   \n",
       "\n",
       "                                                                                                                                                                                                                                                                                                                                                 pred_bert_1760_1900  \\\n",
       "22593                                                         [[men, 0.8300000000000001], [., 0.02], [##men, 0.02], [,, 0.02], [electors, 0.01], [;, 0.01], [were, 0.01], [members, 0.0], [gentlemen, 0.0], [-, 0.0], [:, 0.0], [was, 0.0], [officers, 0.0], [man, 0.0], [people, 0.0], [voters, 0.0], [holders, 0.0], [##s, 0.0], [machines, 0.0], [citizens, 0.0]]   \n",
       "1456                            [[men, 0.73], [carriages, 0.04], [vehicles, 0.03], [man, 0.02], [drivers, 0.02], [passengers, 0.01], [hands, 0.01], [servants, 0.01], [carriage, 0.01], [attendants, 0.01], [persons, 0.01], [omnibus, 0.01], [dogs, 0.01], [carts, 0.01], [coach, 0.0], [driver, 0.0], [foot, 0.0], [vehicle, 0.0], [coaches, 0.0], [animals, 0.0]]   \n",
       "10101                                                         [[men, 0.63], [man, 0.1], [car, 0.03], [ballast, 0.02], [boat, 0.01], [vessel, 0.01], [people, 0.01], [driver, 0.01], [cart, 0.01], [horses, 0.01], [engine, 0.01], [horse, 0.01], [ship, 0.01], [water, 0.0], [crew, 0.0], [wheels, 0.0], [sailors, 0.0], [vessels, 0.0], [camel, 0.0], [ropes, 0.0]]   \n",
       "19860                         [[man, 0.67], [together, 0.03], [whole, 0.02], [body, 0.02], [accord, 0.02], [throughout, 0.02], [unit, 0.01], [individual, 0.01], [people, 0.01], [person, 0.01], [men, 0.01], [each, 0.01], [committee, 0.01], [collectively, 0.01], [heart, 0.01], [community, 0.01], [brotherhood, 0.01], [party, 0.01], [mind, 0.0], [soul, 0.0]]   \n",
       "20008                                            [[man, 0.8200000000000001], [chimney, 0.03], [person, 0.02], [woman, 0.01], [fire, 0.01], [body, 0.01], [house, 0.01], [smoke, 0.0], [men, 0.0], [people, 0.0], [creature, 0.0], [door, 0.0], [boy, 0.0], [gentleman, 0.0], [matter, 0.0], [master, 0.0], [offender, 0.0], [thief, 0.0], [head, 0.0], [whole, 0.0]]   \n",
       "11592                         [[men, 0.9500000000000001], [adults, 0.01], [women, 0.0], [children, 0.0], [males, 0.0], [girls, 0.0], [infants, 0.0], [man, 0.0], [labourers, 0.0], [individuals, 0.0], [masters, 0.0], [persons, 0.0], [clerks, 0.0], [servants, 0.0], [boys, 0.0], [artisans, 0.0], [people, 0.0], [operatives, 0.0], [slaves, 0.0], [others, 0.0]]   \n",
       "9458                        [[men, 0.68], [engineers, 0.08], [persons, 0.08], [hands, 0.02], [machines, 0.02], [##men, 0.01], [engines, 0.01], [horses, 0.01], [labourers, 0.01], [mechanics, 0.01], [who, 0.0], [people, 0.0], [boys, 0.0], [gentlemen, 0.0], [women, 0.0], [miners, 0.0], [sailors, 0.0], [companies, 0.0], [assistants, 0.0], [individuals, 0.0]]   \n",
       "13681                                           [[men, 0.77], [they, 0.08], [machines, 0.06], [people, 0.02], [railroads, 0.01], [women, 0.01], [hands, 0.01], [we, 0.01], [all, 0.0], [animals, 0.0], [persons, 0.0], [girls, 0.0], [these, 0.0], [children, 0.0], [man, 0.0], [mechanics, 0.0], [those, 0.0], [locomotives, 0.0], [laborers, 0.0], [engines, 0.0]]   \n",
       "13680                                           [[men, 0.77], [they, 0.08], [machines, 0.06], [people, 0.02], [railroads, 0.01], [women, 0.01], [hands, 0.01], [we, 0.01], [all, 0.0], [animals, 0.0], [persons, 0.0], [girls, 0.0], [these, 0.0], [children, 0.0], [man, 0.0], [mechanics, 0.0], [those, 0.0], [locomotives, 0.0], [laborers, 0.0], [engines, 0.0]]   \n",
       "20012                                                          [[man, 0.75], [chimney, 0.06], [person, 0.02], [woman, 0.01], [fire, 0.01], [house, 0.01], [body, 0.01], [smoke, 0.01], [boy, 0.0], [men, 0.0], [door, 0.0], [people, 0.0], [creature, 0.0], [master, 0.0], [gentleman, 0.0], [family, 0.0], [child, 0.0], [fellow, 0.0], [head, 0.0], [matter, 0.0]]   \n",
       "24067                                         [[men, 0.44], [man, 0.19], [person, 0.08], [persons, 0.02], [hands, 0.02], [tools, 0.02], [hand, 0.02], [method, 0.01], [number, 0.01], [machine, 0.01], [carpenter, 0.01], [one, 0.01], [labour, 0.01], [engineer, 0.0], [time, 0.0], [means, 0.0], [labourers, 0.0], [work, 0.0], [material, 0.0], [engineers, 0.0]]   \n",
       "5731                                             [[man, 0.65], [thing, 0.04], [creature, 0.03], [fact, 0.03], [animal, 0.02], [force, 0.02], [monster, 0.01], [power, 0.01], [truth, 0.01], [matter, 0.01], [system, 0.01], [language, 0.01], [creation, 0.01], [person, 0.0], [machine, 0.0], [woman, 0.0], [idea, 0.0], [engine, 0.0], [brute, 0.0], [beast, 0.0]]   \n",
       "9796                                 [[men, 0.72], [seamen, 0.02], [boats, 0.02], [sailors, 0.02], [thousands, 0.01], [hundreds, 0.01], [persons, 0.01], [vessels, 0.01], [people, 0.01], [girls, 0.01], [women, 0.01], [hands, 0.01], [geese, 0.0], [millions, 0.0], [fishermen, 0.0], [whites, 0.0], [soldiers, 0.0], [numbers, 0.0], [agents, 0.0], [crews, 0.0]]   \n",
       "20704                                                         [[man, 0.55], [body, 0.1], [parachute, 0.04], [deceased, 0.04], [person, 0.01], [rope, 0.01], [gentleman, 0.01], [men, 0.01], [balloon, 0.01], [bird, 0.01], [corpse, 0.01], [latter, 0.01], [##u, 0.0], [victim, 0.0], [he, 0.0], [boat, 0.0], [one, 0.0], [animal, 0.0], [it, 0.0], [prisoner, 0.0]]   \n",
       "7750                                                   [[men, 0.74], [dogs, 0.04], [ropes, 0.03], [man, 0.02], [arms, 0.01], [carriages, 0.01], [women, 0.01], [cattle, 0.01], [carts, 0.01], [soldiers, 0.01], [boats, 0.01], [powder, 0.0], [sailors, 0.0], [cannon, 0.0], [wood, 0.0], [artillery, 0.0], [slaves, 0.0], [hands, 0.0], [guns, 0.0], [seamen, 0.0]]   \n",
       "8761                                                     [[man, 0.66], [one, 0.04], [boy, 0.03], [hand, 0.02], [person, 0.02], [then, 0.01], [woman, 0.01], [now, 0.01], [gentleman, 0.01], [also, 0.0], [blacksmith, 0.0], [cutter, 0.0], [file, 0.0], [party, 0.0], [manufacturer, 0.0], [half, 0.0], [again, 0.0], [third, 0.0], [apprentice, 0.0], [still, 0.0]]   \n",
       "26445                   [[men, 0.55], [slaves, 0.07], [masters, 0.05], [fools, 0.05], [children, 0.03], [teachers, 0.03], [parents, 0.02], [women, 0.02], [ignorant, 0.01], [scholars, 0.01], [intelligent, 0.01], [taught, 0.01], [servants, 0.01], [wise, 0.0], [schools, 0.0], [instructed, 0.0], [boys, 0.0], [idiots, 0.0], [rulers, 0.0], [philosophers, 0.0]]   \n",
       "10262               [[men, 0.54], [hands, 0.09], [boys, 0.04], [tools, 0.04], [persons, 0.03], [labourers, 0.03], [slaves, 0.02], [servants, 0.02], [mechanics, 0.01], [machines, 0.01], [masters, 0.01], [assistants, 0.01], [apprentice, 0.01], [children, 0.01], [artisans, 0.01], [horses, 0.01], [lads, 0.01], [people, 0.0], [number, 0.0], [operatives, 0.0]]   \n",
       "19360                                                      [[men, 0.52], [masters, 0.07], [people, 0.05], [law, 0.04], [women, 0.03], [master, 0.02], [man, 0.02], [laws, 0.01], [society, 0.01], [state, 0.01], [public, 0.0], [class, 0.0], [government, 0.0], [work, 0.0], [other, 0.0], [latter, 0.0], [slaves, 0.0], [poor, 0.0], [nation, 0.0], [others, 0.0]]   \n",
       "11886  [[men, 0.48], [philosophers, 0.13], [##ists, 0.03], [persons, 0.03], [ministers, 0.02], [people, 0.02], [politicians, 0.02], [writers, 0.02], [gentlemen, 0.01], [characters, 0.01], [princes, 0.01], [teachers, 0.01], [##s, 0.01], [subjects, 0.01], [opinions, 0.01], [bodies, 0.01], [fools, 0.01], [principles, 0.0], [governments, 0.0], [rulers, 0.0]]   \n",
       "\n",
       "                                                                                                                                                                                                                                                                                                                                          pred_bert_contemporary  \\\n",
       "22593                                                                                       [[for, 0.28], [', 0.16], [., 0.09], [,, 0.05], [was, 0.03], [not, 0.01], [:, 0.01], [and, 0.01], [after, 0.01], [only, 0.01], [by, 0.01], [on, 0.01], [continued, 0.01], [is, 0.01], [took, 0.01], [were, 0.01], [with, 0.01], [..., 0.01], [?, 0.01], [that, 0.01]]   \n",
       "1456                          [[carriages, 0.26], [drivers, 0.18], [coaches, 0.14], [carriage, 0.04], [staff, 0.04], [wagons, 0.03], [passengers, 0.02], [horses, 0.02], [men, 0.02], [carts, 0.02], [vehicles, 0.02], [cars, 0.01], [trains, 0.01], [boats, 0.01], [equipment, 0.01], [coach, 0.01], [wagon, 0.01], [labour, 0.0], [dogs, 0.0], [workers, 0.0]]   \n",
       "10101                                           [[car, 0.12], [wheels, 0.11], [driver, 0.06], [train, 0.04], [road, 0.03], [water, 0.03], [men, 0.02], [weight, 0.02], [vehicle, 0.02], [carriage, 0.02], [cars, 0.02], [horse, 0.02], [horses, 0.01], [wheel, 0.01], [man, 0.01], [current, 0.01], [ground, 0.01], [track, 0.01], [wind, 0.01], [engine, 0.01]]   \n",
       "19860                                  [[unit, 0.14], [person, 0.06], [entity, 0.05], [each, 0.05], [party, 0.04], [persons, 0.04], [force, 0.03], [again, 0.03], [together, 0.02], [team, 0.02], [body, 0.02], [group, 0.02], [instrument, 0.02], [whole, 0.01], [company, 0.01], [committee, 0.01], [man, 0.01], [another, 0.01], [being, 0.01], [such, 0.01]]   \n",
       "20008                                                       [[man, 0.15], [boy, 0.08], [fire, 0.05], [smoke, 0.04], [chimney, 0.04], [dust, 0.02], [child, 0.02], [woman, 0.02], [wind, 0.01], [men, 0.01], [flames, 0.01], [body, 0.01], [girl, 0.01], [house, 0.01], [wood, 0.01], [cat, 0.01], [children, 0.01], [burden, 0.01], [flame, 0.01], [load, 0.01]]   \n",
       "11592                   [[men, 0.31], [women, 0.09], [children, 0.09], [infants, 0.05], [adults, 0.04], [servants, 0.04], [workers, 0.03], [widows, 0.02], [slaves, 0.01], [farmers, 0.01], [animals, 0.01], [boys, 0.01], [husbands, 0.01], [girls, 0.01], [labourers, 0.01], [wives, 0.01], [elderly, 0.01], [laborers, 0.01], [babies, 0.01], [horses, 0.01]]   \n",
       "9458                  [[machines, 0.65], [engines, 0.07], [men, 0.06], [boats, 0.01], [engineers, 0.01], [barges, 0.01], [machinery, 0.01], [machine, 0.01], [locomotives, 0.01], [cranes, 0.01], [teams, 0.01], [wheels, 0.01], [workers, 0.01], [companies, 0.0], [trucks, 0.0], [mechanics, 0.0], [tractors, 0.0], [horses, 0.0], [mills, 0.0], [pumps, 0.0]]   \n",
       "13681                              [[they, 0.26], [slaves, 0.16], [men, 0.15], [people, 0.09], [machines, 0.05], [workers, 0.04], [we, 0.03], [women, 0.02], [robots, 0.01], [tools, 0.01], [humans, 0.01], [factories, 0.01], [children, 0.01], [those, 0.01], [railroads, 0.0], [craftsmen, 0.0], [laborers, 0.0], [hands, 0.0], [efforts, 0.0], [these, 0.0]]   \n",
       "13680                              [[they, 0.26], [slaves, 0.16], [men, 0.15], [people, 0.09], [machines, 0.05], [workers, 0.04], [we, 0.03], [women, 0.02], [robots, 0.01], [tools, 0.01], [humans, 0.01], [factories, 0.01], [children, 0.01], [those, 0.01], [railroads, 0.0], [craftsmen, 0.0], [laborers, 0.0], [hands, 0.0], [efforts, 0.0], [these, 0.0]]   \n",
       "20012                                                           [[man, 0.14], [fire, 0.08], [smoke, 0.07], [boy, 0.06], [chimney, 0.05], [dust, 0.02], [wind, 0.02], [flames, 0.02], [woman, 0.01], [child, 0.01], [men, 0.01], [body, 0.01], [flame, 0.01], [house, 0.01], [heat, 0.01], [girl, 0.01], [cat, 0.01], [wood, 0.01], [beast, 0.01], [light, 0.01]]   \n",
       "24067                        [[design, 0.05], [plan, 0.05], [company, 0.03], [engineers, 0.03], [men, 0.03], [scheme, 0.03], [system, 0.03], [army, 0.02], [french, 0.02], [romans, 0.02], [method, 0.02], [team, 0.02], [technique, 0.02], [british, 0.01], [designers, 0.01], [germans, 0.01], [project, 0.01], [machine, 0.01], [firm, 0.01], [latter, 0.01]]   \n",
       "5731                                        [[thing, 0.14], [man, 0.05], [for, 0.02], [machine, 0.02], [word, 0.02], [place, 0.02], [term, 0.02], [phrase, 0.02], [saying, 0.02], [meaning, 0.02], [mean, 0.02], [idea, 0.01], [power, 0.01], [letter, 0.01], [matter, 0.01], [invention, 0.01], [creature, 0.01], [name, 0.01], [device, 0.01], [animal, 0.01]]   \n",
       "9796                          [[women, 0.34], [girls, 0.30000000000000004], [boys, 0.16], [men, 0.14], [children, 0.01], [ladies, 0.01], [adults, 0.0], [officers, 0.0], [females, 0.0], [servants, 0.0], [teachers, 0.0], [them, 0.0], [daughters, 0.0], [people, 0.0], [nurses, 0.0], [youth, 0.0], [maids, 0.0], [infants, 0.0], [lads, 0.0], [fathers, 0.0]]   \n",
       "20704                                                                                          [[he, 0.44], [##s, 0.06], [', 0.04], [##n, 0.03], [##e, 0.03], [##t, 0.02], [##h, 0.02], [it, 0.02], [##th, 0.01], [##se, 0.01], [##te, 0.01], [##ne, 0.01], [i, 0.01], [##o, 0.01], [##y, 0.01], [man, 0.0], [##nd, 0.0], [##no, 0.0], [##ll, 0.0], [##de, 0.0]]   \n",
       "7750                                [[men, 0.2], [arms, 0.08], [guns, 0.04], [horses, 0.04], [cattle, 0.03], [troops, 0.03], [soldiers, 0.02], [women, 0.02], [food, 0.02], [carriages, 0.02], [dogs, 0.01], [artillery, 0.01], [provisions, 0.01], [carts, 0.01], [infantry, 0.01], [money, 0.01], [water, 0.01], [slaves, 0.01], [weapons, 0.01], [man, 0.01]]   \n",
       "8761                                             [[hand, 0.30000000000000004], [man, 0.12], [boy, 0.05], [even, 0.04], [also, 0.04], [one, 0.03], [woman, 0.01], [then, 0.01], [sometimes, 0.01], [now, 0.01], [often, 0.01], [half, 0.01], [person, 0.01], [day, 0.01], [first, 0.01], [master, 0.0], [again, 0.0], [girl, 0.0], [carefully, 0.0], [maid, 0.0]]   \n",
       "26445                  [[teachers, 0.11], [slaves, 0.07], [children, 0.07], [masters, 0.04], [men, 0.02], [adults, 0.02], [educated, 0.02], [learned, 0.02], [fools, 0.02], [free, 0.01], [equal, 0.01], [educators, 0.01], [animals, 0.01], [ignorant, 0.01], [intelligent, 0.01], [taught, 0.01], [boys, 0.01], [wise, 0.01], [women, 0.01], [servants, 0.01]]   \n",
       "10262  [[workers, 0.1], [labourers, 0.1], [slaves, 0.07], [servants, 0.05], [machines, 0.05], [men, 0.04], [craftsmen, 0.04], [apprentice, 0.03], [machinery, 0.03], [horses, 0.02], [laborers, 0.02], [mechanics, 0.02], [assistants, 0.02], [trades, 0.02], [masters, 0.02], [mills, 0.01], [artisans, 0.01], [employees, 0.01], [hands, 0.01], [tools, 0.01]]   \n",
       "19360                                             [[law, 0.24], [people, 0.06], [poor, 0.03], [men, 0.03], [man, 0.02], [state, 0.01], [women, 0.01], [race, 0.01], [masters, 0.01], [government, 0.01], [public, 0.01], [english, 0.01], [lord, 0.01], [nation, 0.01], [sea, 0.01], [laws, 0.01], [country, 0.01], [king, 0.01], [others, 0.01], [house, 0.01]]   \n",
       "11886                                                     [[##i, 0.17], [##ci, 0.14], [##vi, 0.07], [##ii, 0.03], [##is, 0.03], [##cula, 0.03], [##ici, 0.02], [##oris, 0.02], [##di, 0.02], [##um, 0.01], [##isi, 0.01], [##cio, 0.01], [##io, 0.01], [##va, 0.01], [##ium, 0.01], [##dus, 0.01], [##itas, 0.01], [##via, 0.01], [##iti, 0.01], [##dini, 0.01]]   \n",
       "\n",
       "       man_prob_diff  \n",
       "22593           0.83  \n",
       "1456            0.73  \n",
       "10101           0.70  \n",
       "19860           0.67  \n",
       "20008           0.66  \n",
       "11592           0.64  \n",
       "9458            0.62  \n",
       "13681           0.62  \n",
       "13680           0.62  \n",
       "20012           0.60  \n",
       "24067           0.60  \n",
       "5731            0.60  \n",
       "9796            0.58  \n",
       "20704           0.56  \n",
       "7750            0.55  \n",
       "8761            0.54  \n",
       "26445           0.53  \n",
       "10262           0.50  \n",
       "19360           0.49  \n",
       "11886           0.48  "
      ]
     },
     "execution_count": 84,
     "metadata": {},
     "output_type": "execute_result"
    }
   ],
   "source": [
    "df_1[f'{cat}_prob_old'] = df_1.pred_bert_1760_1900.apply(compute_probability, target_words=target_words)\n",
    "df_1[f'{cat}_prob_new'] = df_1.pred_bert_contemporary.apply(compute_probability, target_words=target_words)\n",
    "df_1[f'{cat}_prob_diff'] = df_1[f'{cat}_prob_old'] - df_1[f'{cat}_prob_new']\n",
    "df_1.sort_values(f'{cat}_prob_diff',ascending=False)[['maskedSentence','pred_bert_1760_1900','pred_bert_contemporary',f'{cat}_prob_diff']][:20]\n"
   ]
  },
  {
   "cell_type": "code",
   "execution_count": null,
   "metadata": {},
   "outputs": [],
   "source": []
  }
 ],
 "metadata": {
  "kernelspec": {
   "display_name": "Python 3",
   "language": "python",
   "name": "python3"
  },
  "language_info": {
   "codemirror_mode": {
    "name": "ipython",
    "version": 3
   },
   "file_extension": ".py",
   "mimetype": "text/x-python",
   "name": "python",
   "nbconvert_exporter": "python",
   "pygments_lexer": "ipython3",
   "version": "3.7.4"
  }
 },
 "nbformat": 4,
 "nbformat_minor": 2
}
