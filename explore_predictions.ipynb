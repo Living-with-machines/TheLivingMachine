{
 "cells": [
  {
   "cell_type": "code",
   "execution_count": null,
   "id": "7363e994",
   "metadata": {},
   "outputs": [],
   "source": [
    "import pandas as pd\n",
    "import spacy\n",
    "import numpy as np\n",
    "from gensim.models import Word2Vec\n",
    "from scipy.spatial.distance import cosine\n",
    "import string\n",
    "from nltk.corpus import stopwords\n",
    "import operator"
   ]
  },
  {
   "cell_type": "code",
   "execution_count": null,
   "id": "27c2d204",
   "metadata": {},
   "outputs": [],
   "source": [
    "from utils import explore_preds"
   ]
  },
  {
   "cell_type": "code",
   "execution_count": null,
   "id": "385226e6",
   "metadata": {},
   "outputs": [],
   "source": [
    "query = \"slave\""
   ]
  },
  {
   "cell_type": "code",
   "execution_count": null,
   "id": "8eb0e53b",
   "metadata": {},
   "outputs": [],
   "source": [
    "cosine_similarity = lambda x, target : 1 - cosine(x,target)\n",
    "\n",
    "# Read a word2vec model\n",
    "w2v_model = Word2Vec.load(\"../../workspace/models/word2vec/w2v_1760_1900/w2v_words.model\")"
   ]
  },
  {
   "cell_type": "code",
   "execution_count": null,
   "id": "a2e2550c",
   "metadata": {},
   "outputs": [],
   "source": [
    "dWordClusters = dict()\n",
    "dWordClusters[\"machine\"] = [\"machine\", \"machines\", \"engine\", \"engines\"]\n",
    "dWordClusters[\"boy\"] = [\"boy\", \"boys\", \"lad\", \"lads\"]\n",
    "dWordClusters[\"girl\"] = [\"girl\", \"girls\"]\n",
    "dWordClusters[\"slave\"] = [\"slave\", \"slaves\", \"slavery\"]\n",
    "dWordClusters[\"artisan\"] = [\"artisan\", \"artisans\"]\n",
    "dWordClusters[\"woman\"] = [\"woman\", \"women\"]"
   ]
  },
  {
   "cell_type": "code",
   "execution_count": null,
   "id": "ad672ee3",
   "metadata": {},
   "outputs": [],
   "source": [
    "dAvgVectors = dict()\n",
    "for c in dWordClusters:\n",
    "    dAvgVectors[c] = explore_preds.w2v_avg_embedding(dWordClusters[c], w2v_model)"
   ]
  },
  {
   "cell_type": "code",
   "execution_count": null,
   "id": "75a525cc",
   "metadata": {},
   "outputs": [],
   "source": [
    "for corpus in [\"JSA\", \"RSC\", \"HMD\", \"BLB\"]:\n",
    "    epochs = [\"1760_1900\", \"contemporary\"]\n",
    "\n",
    "    df = pd.read_pickle(\"predictions/\" + corpus + \"_\" + query + \"_synparsed_pred_bert.pkl\")\n",
    "    dWordEmb = dict() # Dictionary where we keep embedding-cluster similarities, so we don't need to not find it every time\n",
    "\n",
    "    for epoch in epochs:\n",
    "\n",
    "        print(corpus, epoch)\n",
    "\n",
    "        sim_df = pd.DataFrame(columns=[\"df_id\"] + [x + \"_\" + epoch for x in list(dAvgVectors.keys())])\n",
    "        rows_list = []\n",
    "\n",
    "        for i, row in df.iterrows():\n",
    "            preds_test = row[\"pred_bert_\" + epoch]\n",
    "            dClScores = dict()\n",
    "            for cl in dAvgVectors:\n",
    "                aggr_values = []\n",
    "                for pred in preds_test:\n",
    "                    if \"#\" in pred[0] and cl == \"punctuation\": # If it is a BERT subword, consider it as punctuation:\n",
    "                        aggr_values.append(pred[1] + 0.0001)\n",
    "                    elif pred[0] in dWordClusters[cl]:\n",
    "                        aggr_values.append(pred[1] + 0.0001) # To smooth rounded zero values\n",
    "                    elif dWordEmb.get(pred[0], {}).get(cl):\n",
    "                        aggr_values.append(dWordEmb[pred[0]][cl] * (pred[1] + 0.0001))\n",
    "                    else:\n",
    "                        try:\n",
    "                            tmp_emb = w2v_model.wv.get_vector(pred[0])\n",
    "                            clusterSim = cosine_similarity(tmp_emb, dAvgVectors[cl])\n",
    "                            aggr_values.append(clusterSim * (pred[1] + 0.0001))\n",
    "                            if pred[0] in dWordEmb:\n",
    "                                dWordEmb[pred[0]][cl] = clusterSim\n",
    "                            else:\n",
    "                                dWordEmb[pred[0]] = {cl:clusterSim}\n",
    "                        except KeyError:\n",
    "                            pass\n",
    "\n",
    "                dClScores[cl + \"_\" + epoch] = round(sum(aggr_values), 3)\n",
    "            dClScores[\"df_id\"] = i\n",
    "            rows_list.append(dClScores)\n",
    "\n",
    "        sim_df = pd.DataFrame(rows_list)\n",
    "\n",
    "        df = df.merge(sim_df, left_index=True, right_on=\"df_id\")\n",
    "\n",
    "        df = df.drop(columns=[\"df_id\"])\n",
    "        if \"Unnamed: 0\" in df.columns:\n",
    "            df = df.drop(columns=[\"Unnamed: 0\"])\n",
    "\n",
    "    df.to_csv(\"experiments/tsv_format/\" + corpus.lower() + \"_\" + query + \"_clusters.tsv\", sep=\"\\t\")\n",
    "    df.to_json(\"experiments/json_format/\" + corpus.lower() + \"_\" + query + \"_clusters.json\")\n",
    "    print()"
   ]
  },
  {
   "cell_type": "code",
   "execution_count": null,
   "id": "d8c5070e",
   "metadata": {},
   "outputs": [],
   "source": []
  }
 ],
 "metadata": {
  "kernelspec": {
   "display_name": "Python (py38_histLM)",
   "language": "python",
   "name": "py38_histlm"
  },
  "language_info": {
   "codemirror_mode": {
    "name": "ipython",
    "version": 3
   },
   "file_extension": ".py",
   "mimetype": "text/x-python",
   "name": "python",
   "nbconvert_exporter": "python",
   "pygments_lexer": "ipython3",
   "version": "3.8.10"
  }
 },
 "nbformat": 4,
 "nbformat_minor": 5
}
