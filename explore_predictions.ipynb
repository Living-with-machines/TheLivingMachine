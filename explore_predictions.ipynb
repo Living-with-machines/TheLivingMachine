{
 "cells": [
  {
   "cell_type": "markdown",
   "id": "4a17648c",
   "metadata": {},
   "source": [
    "Notes:\n",
    "- [ ] Which predictions change the most from one language to another.\n",
    "- [ ] Predictions closest to certain axes (slave, master, soldier, child, etc).\n",
    "- [ ] Can syntax find sentences like: he is like a machine? nonmachine2machine\n",
    "- [ ] Differences in distributions between the different queries (e.g. machine vs engine): syn labels, metaphoricity, etc.\n",
    "- [ ] Clusters: slave, female, child"
   ]
  },
  {
   "cell_type": "code",
   "execution_count": null,
   "id": "7363e994",
   "metadata": {},
   "outputs": [],
   "source": [
    "import pandas as pd\n",
    "import spacy\n",
    "import numpy as np\n",
    "from gensim.models import Word2Vec\n",
    "from scipy.spatial.distance import cosine\n",
    "import string\n",
    "from nltk.corpus import stopwords\n",
    "import operator"
   ]
  },
  {
   "cell_type": "code",
   "execution_count": null,
   "id": "27c2d204",
   "metadata": {},
   "outputs": [],
   "source": [
    "from utils import explore_preds"
   ]
  },
  {
   "cell_type": "code",
   "execution_count": null,
   "id": "8eb0e53b",
   "metadata": {},
   "outputs": [],
   "source": [
    "cosine_similarity = lambda x, target : 1 - cosine(x,target)\n",
    "\n",
    "# Read a word2vec model\n",
    "w2v_model = Word2Vec.load(\"./models/word2vec/w2v_1760_1850/w2v_words.model\")"
   ]
  },
  {
   "cell_type": "code",
   "execution_count": null,
   "id": "a2e2550c",
   "metadata": {},
   "outputs": [],
   "source": [
    "dWordClusters = dict()\n",
    "\n",
    "dWordClusters[\"stopwords\"] = stopwords.words('english')\n",
    "dWordClusters[\"punctuation\"] = [x for x in string.punctuation]\n",
    "dWordClusters[\"machines\"] = [\"instrument\", \"apparatus\", \"machine\", \"engine\",\n",
    "                             \"engines\", \"instruments\", \"tube\", \"cylinder\",\n",
    "                             \"machinery\", \"machines\", \"turbine\", \"turbines\",\n",
    "                             \"boiler\", \"boilers\", \"dynamo\", \"dynamos\", \"motor\",\n",
    "                             \"motors\", \"apparatuses\", \"accumulator\", \"accumulators\",\n",
    "                             \"compressor\", \"compressors\", \"piston\", \"valve\", \"pump\",\n",
    "                             \"pistons\", \"valves\", \"pumps\"]\n",
    "dWordClusters[\"transport\"] = [\"car\", \"cars\", \"cart\", \"carts\", \"boat\",\n",
    "                              \"boats\", \"ship\", \"ships\", \"carriage\", \"carriages\", \"train\", \n",
    "                              \"trains\", \"wagon\", \"wagons\", \"omnibus\", \"omnibuses\", \"ambulance\",\n",
    "                              \"ambulances\", \"steamer\", \"steamers\", \"locomotive\", \"locomotives\",\n",
    "                              \"vehicle\", \"vehicles\"]\n",
    "dWordClusters[\"workforce\"] = [\"worker\", \"workers\", \"manufacturer\", \"manufacturers\",\n",
    "                              \"slave\", \"slaves\", \"servant\", \"servants\", \"labourer\", \n",
    "                              \"labourers\", \"workman\", \"workmen\", \"workwoman\", \"workwomen\",\n",
    "                              \"employee\", \"employees\", \"craftsman\", \"craftsmen\", \"craftswoman\",\n",
    "                              \"craftswomen\", \"tradesman\", \"tradesmen\", \"tradeswoman\",\n",
    "                              \"tradeswomen\", \"shopkeeker\", \"shopkeekers\", \"merchant\", \n",
    "                              \"merchants\", \"dealer\", \"dealers\", \"trader\", \"traders\",\n",
    "                              \"tradesperson\", \"tradespersons\", \"artisan\", \"technician\",\n",
    "                              \"artisans\", \"technicians\", \"maker\", \"makers\", \"driver\",\n",
    "                              \"drivers\", \"child\", \"boy\", \"girl\", \"children\", \"boys\",\n",
    "                              \"girls\", \"lad\", \"man\", \"men\", \"woman\", \"women\",\n",
    "                              \"experts\", \"person\", \"persons\", \"people\"]\n",
    "dWordClusters[\"energy\"] = [\"energy\", \"power\", \"force\", \"motion\", \"electricity\", \"spark\",\n",
    "                           \"light\", \"flame\", \"powers\", \"heat\", \"gas\"]\n",
    "dWordClusters[\"upperclass\"] = [\"gentleman\", \"gentlemen\", \"king\", \"kings\",\n",
    "                               \"prince\", \"princes\", \"lady\", \"ladies\",\n",
    "                               \"princess\", \"princesses\", \"queen\", \"queens\"]\n",
    "dWordClusters[\"child\"] = [\"child\", \"boy\", \"girl\", \"children\", \"youth\", \"boys\",\n",
    "                          \"girls\", \"lad\", \"infant\", \"baby\"]\n",
    "dWordClusters[\"workanimal\"] = [\"animal\", \"animals\", \"dog\", \"dogs\", \"ass\", \"asses\",\n",
    "                               \"mule\", \"mules\", \"donkey\", \"donkeys\", \"beast\", \"beasts\",\n",
    "                               \"cow\", \"cows\", \"ox\", \"oxen\", \"pony\", \"ponies\", \"creature\",\n",
    "                               \"creatures\", \"bird\", \"birds\", \"cat\", \"cats\", \"horse\",\n",
    "                               \"horses\"]\n",
    "dWordClusters[\"spiritual\"] = [\"soul\", \"souls\", \"spirit\", \"spirits\", \"life\", \"lives\",\n",
    "                              \"idea\", \"ideas\", \"art\", \"arts\", \"god\", \"gods\", \"thought\",\n",
    "                              \"thoughts\", \"mind\", \"minds\", \"heart\", \"hearts\", \"angel\",\n",
    "                              \"angels\", \"demon\", \"demons\", \"virtue\", \"virtues\",\n",
    "                              \"brain\", \"brains\", \"instinct\", \"instincts\"]\n",
    "dWordClusters[\"body\"] = [\"body\", \"bodies\", \"organism\", \"tissue\", \"skeleton\",\n",
    "                         \"structure\", \"frame\", \"skeletons\", \"organisms\"]\n",
    "dWordClusters[\"nature\"] = [\"air\", \"water\", \"flame\", \"earth\", \"sun\", \"planet\",\n",
    "                           \"planets\", \"world\", \"wind\", \"storm\", \"weather\"]"
   ]
  },
  {
   "cell_type": "code",
   "execution_count": null,
   "id": "ad672ee3",
   "metadata": {},
   "outputs": [],
   "source": [
    "dAvgVectors = dict()\n",
    "for c in dWordClusters:\n",
    "    dAvgVectors[c] = explore_preds.w2v_avg_embedding(dWordClusters[c], w2v_model)"
   ]
  },
  {
   "cell_type": "code",
   "execution_count": null,
   "id": "75a525cc",
   "metadata": {},
   "outputs": [],
   "source": [
    "hmd_df = pd.read_pickle(\"data/hmd_processed/HMD_machine_synparsed_1760_1850_pred_bert.pkl\")"
   ]
  },
  {
   "cell_type": "code",
   "execution_count": null,
   "id": "57211e91",
   "metadata": {},
   "outputs": [],
   "source": [
    "hmd_df.head()"
   ]
  },
  {
   "cell_type": "code",
   "execution_count": null,
   "id": "f0eee1ec",
   "metadata": {
    "scrolled": true
   },
   "outputs": [],
   "source": [
    "sim_df = pd.DataFrame(columns=[\"df_id\"] + list(dAvgVectors.keys()))\n",
    "rows_list = []\n",
    "\n",
    "for i, row in hmd_df.iterrows():\n",
    "    preds_test = row.pred_bert_1760_1850\n",
    "    dClScores = dict()\n",
    "    for cl in dAvgVectors:\n",
    "        aggr_values = []\n",
    "        for pred in preds_test:\n",
    "            if pred[0] in dWordClusters[cl]:\n",
    "                aggr_values.append(pred[1])\n",
    "            elif \"#\" in pred[0] and cl == \"punctuation\": # If it is a BERT subword, consider it as punctuation:\n",
    "                aggr_values.append(pred[1])\n",
    "            else:\n",
    "                try:\n",
    "                    tmp_emb = w2v_model.wv.get_vector(pred[0])\n",
    "                    aggr_values.append(cosine_similarity(tmp_emb, dAvgVectors[cl]) * pred[1])\n",
    "                except KeyError:\n",
    "                    pass\n",
    "\n",
    "        dClScores[cl] = round(sum(aggr_values), 3)\n",
    "    dClScores[\"df_id\"] = i\n",
    "    rows_list.append(dClScores)\n",
    "\n",
    "sim_df = pd.DataFrame(rows_list)"
   ]
  },
  {
   "cell_type": "code",
   "execution_count": null,
   "id": "d78f4839",
   "metadata": {},
   "outputs": [],
   "source": [
    "hmd_df.merge(sim_df, left_index=True, right_on=\"df_id\").to_csv(\"hmd_clusters.tsv\", sep=\"\\t\")"
   ]
  },
  {
   "cell_type": "code",
   "execution_count": null,
   "id": "d8c5070e",
   "metadata": {},
   "outputs": [],
   "source": []
  }
 ],
 "metadata": {
  "kernelspec": {
   "display_name": "Python (py38_histLM)",
   "language": "python",
   "name": "py38_histlm"
  },
  "language_info": {
   "codemirror_mode": {
    "name": "ipython",
    "version": 3
   },
   "file_extension": ".py",
   "mimetype": "text/x-python",
   "name": "python",
   "nbconvert_exporter": "python",
   "pygments_lexer": "ipython3",
   "version": "3.8.10"
  }
 },
 "nbformat": 4,
 "nbformat_minor": 5
}
