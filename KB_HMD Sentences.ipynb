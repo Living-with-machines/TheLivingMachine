{
 "cells": [
  {
   "cell_type": "code",
   "execution_count": 1,
   "metadata": {},
   "outputs": [],
   "source": [
    "#!pip3 install syntok\n",
    "#!pip3 install tqdm\n",
    "#!pip3 install pandas\n",
    "#!pip3 install ipywidgets"
   ]
  },
  {
   "cell_type": "code",
   "execution_count": 2,
   "metadata": {},
   "outputs": [],
   "source": [
    "from pathlib import Path\n",
    "from tqdm.notebook import tqdm\n",
    "import pandas as pd\n",
    "from zipfile import ZipFile\n",
    "import syntok.segmenter as segmenter\n",
    "import re"
   ]
  },
  {
   "cell_type": "code",
   "execution_count": 3,
   "metadata": {},
   "outputs": [],
   "source": [
    "path = Path('../../Lab1/data/hmd/plaintext')\n",
    "#path_metadata = Path('../../../../LivingwithMachines/Lab1/data/hmd/metadata')\n",
    "# git \n",
    "save_to = Path('hmd_data_extension_words')\n",
    "save_to.mkdir(exist_ok=True)"
   ]
  },
  {
   "cell_type": "code",
   "execution_count": 9,
   "metadata": {},
   "outputs": [],
   "source": [
    "#pattern = re.compile(r'(?:\\bmachine[s]{,1}\\b|\\bengine[s]{,1}\\b)',re.I)\n",
    "#pattern.findall('machine Machines Mdachine dmachines')\n",
    "#pattern = re.compile(r'(?:\\bwom[ea]n\\b|\\bboy[s]{,1}\\b|\\bart[ie][zs]an\\b|\\bslave[s]{,1}\\b)')\n",
    "#pattern = re.compile(r'(?:\\bgirl[s]{,1}\\b|\\bart[ie][zs]an[s]{,1}\\b)')\n",
    "pattern = re.compile(r'(?:\\baccident[s]{,1}\\b)',re.I)"
   ]
  },
  {
   "cell_type": "code",
   "execution_count": 10,
   "metadata": {},
   "outputs": [
    {
     "data": {
      "text/plain": [
       "['accident', 'accidents', 'Accident']"
      ]
     },
     "execution_count": 10,
     "metadata": {},
     "output_type": "execute_result"
    }
   ],
   "source": [
    "pattern.findall('accident accidents cbaccident Accident')"
   ]
  },
  {
   "cell_type": "code",
   "execution_count": 11,
   "metadata": {},
   "outputs": [
    {
     "data": {
      "text/plain": [
       "14"
      ]
     },
     "execution_count": 11,
     "metadata": {},
     "output_type": "execute_result"
    }
   ],
   "source": [
    "zip_files = list(path.glob('*.zip'))\n",
    "len(zip_files)"
   ]
  },
  {
   "cell_type": "code",
   "execution_count": 12,
   "metadata": {},
   "outputs": [],
   "source": [
    "def harvest_sentences(text,path, regex_pattern):\n",
    "    if regex_pattern.findall(text):\n",
    "        sentences = [' '.join([t.value for t in s]) \n",
    "                            for p in segmenter.process(text) for s in p\n",
    "                                ]\n",
    "        sentences = [\"<START>\"] + sentences + [\"<END>\"]\n",
    "        \n",
    "        target_sents = [(path,\n",
    "                        sentences[i-1],\n",
    "                        sentences[i],\n",
    "                        sentences[i+1],\n",
    "                        '<SEP>'.join(\n",
    "                                set(regex_pattern.findall(s)))\n",
    "                                     )\n",
    "                                    for i,s in enumerate(sentences) \n",
    "                                             if regex_pattern.findall(s)\n",
    "                                ]\n",
    "        return target_sents\n",
    "    return None"
   ]
  },
  {
   "cell_type": "code",
   "execution_count": 13,
   "metadata": {},
   "outputs": [
    {
     "data": {
      "application/vnd.jupyter.widget-view+json": {
       "model_id": "29b141ece84d41aea1de7edaec566dfa",
       "version_major": 2,
       "version_minor": 0
      },
      "text/plain": [
       "  0%|          | 0/246152 [00:00<?, ?it/s]"
      ]
     },
     "metadata": {},
     "output_type": "display_data"
    },
    {
     "data": {
      "application/vnd.jupyter.widget-view+json": {
       "model_id": "ee4dfb270b5f48cf8a3e58a5a92c7dfe",
       "version_major": 2,
       "version_minor": 0
      },
      "text/plain": [
       "  0%|          | 0/1025 [00:00<?, ?it/s]"
      ]
     },
     "metadata": {},
     "output_type": "display_data"
    },
    {
     "data": {
      "application/vnd.jupyter.widget-view+json": {
       "model_id": "390bde7c5ad2451cb7eb3c50b48859ed",
       "version_major": 2,
       "version_minor": 0
      },
      "text/plain": [
       "  0%|          | 0/25434 [00:00<?, ?it/s]"
      ]
     },
     "metadata": {},
     "output_type": "display_data"
    },
    {
     "data": {
      "application/vnd.jupyter.widget-view+json": {
       "model_id": "79a9269fb36d4f7aaa8a0a16a576f140",
       "version_major": 2,
       "version_minor": 0
      },
      "text/plain": [
       "  0%|          | 0/30532 [00:00<?, ?it/s]"
      ]
     },
     "metadata": {},
     "output_type": "display_data"
    },
    {
     "data": {
      "application/vnd.jupyter.widget-view+json": {
       "model_id": "921b5ce109554fe79e23db743817e2ff",
       "version_major": 2,
       "version_minor": 0
      },
      "text/plain": [
       "  0%|          | 0/203386 [00:00<?, ?it/s]"
      ]
     },
     "metadata": {},
     "output_type": "display_data"
    },
    {
     "data": {
      "application/vnd.jupyter.widget-view+json": {
       "model_id": "05457f83aaa642b9aaa44771a3dc0ef3",
       "version_major": 2,
       "version_minor": 0
      },
      "text/plain": [
       "  0%|          | 0/368107 [00:00<?, ?it/s]"
      ]
     },
     "metadata": {},
     "output_type": "display_data"
    },
    {
     "data": {
      "application/vnd.jupyter.widget-view+json": {
       "model_id": "b73fdc50cddb40fcad2dcabca6fdc207",
       "version_major": 2,
       "version_minor": 0
      },
      "text/plain": [
       "  0%|          | 0/9997 [00:00<?, ?it/s]"
      ]
     },
     "metadata": {},
     "output_type": "display_data"
    },
    {
     "data": {
      "application/vnd.jupyter.widget-view+json": {
       "model_id": "4f7a36c6c1a9459e8e4c0233514f5de4",
       "version_major": 2,
       "version_minor": 0
      },
      "text/plain": [
       "  0%|          | 0/114487 [00:00<?, ?it/s]"
      ]
     },
     "metadata": {},
     "output_type": "display_data"
    },
    {
     "data": {
      "application/vnd.jupyter.widget-view+json": {
       "model_id": "71a386442a134d61b8e423095a0a9a9d",
       "version_major": 2,
       "version_minor": 0
      },
      "text/plain": [
       "  0%|          | 0/53042 [00:00<?, ?it/s]"
      ]
     },
     "metadata": {},
     "output_type": "display_data"
    },
    {
     "data": {
      "application/vnd.jupyter.widget-view+json": {
       "model_id": "367f6fda114d4058a63fecaeb41f3c9e",
       "version_major": 2,
       "version_minor": 0
      },
      "text/plain": [
       "  0%|          | 0/77439 [00:00<?, ?it/s]"
      ]
     },
     "metadata": {},
     "output_type": "display_data"
    },
    {
     "data": {
      "application/vnd.jupyter.widget-view+json": {
       "model_id": "d312321ac1f64e72b4813f51b6e1168d",
       "version_major": 2,
       "version_minor": 0
      },
      "text/plain": [
       "  0%|          | 0/96414 [00:00<?, ?it/s]"
      ]
     },
     "metadata": {},
     "output_type": "display_data"
    },
    {
     "data": {
      "application/vnd.jupyter.widget-view+json": {
       "model_id": "f7c2caeab11f42cd97411454178b8800",
       "version_major": 2,
       "version_minor": 0
      },
      "text/plain": [
       "  0%|          | 0/38578 [00:00<?, ?it/s]"
      ]
     },
     "metadata": {},
     "output_type": "display_data"
    },
    {
     "data": {
      "application/vnd.jupyter.widget-view+json": {
       "model_id": "3c8758b528c049ee8741c3d32c34d402",
       "version_major": 2,
       "version_minor": 0
      },
      "text/plain": [
       "  0%|          | 0/1625117 [00:00<?, ?it/s]"
      ]
     },
     "metadata": {},
     "output_type": "display_data"
    },
    {
     "data": {
      "application/vnd.jupyter.widget-view+json": {
       "model_id": "5acfbaaf59fa4e558b7ccbcab4b53684",
       "version_major": 2,
       "version_minor": 0
      },
      "text/plain": [
       "  0%|          | 0/11844 [00:00<?, ?it/s]"
      ]
     },
     "metadata": {},
     "output_type": "display_data"
    },
    {
     "name": "stdout",
     "output_type": "stream",
     "text": [
      "182757\n"
     ]
    }
   ],
   "source": [
    "count = 0\n",
    "\n",
    "for zf in zip_files:\n",
    "    with ZipFile(zf, 'r') as hmd_zip:\n",
    "        articles = hmd_zip.namelist()\n",
    "        rows = []\n",
    "        for art in tqdm(articles):\n",
    "            if not art.endswith('.txt'): continue\n",
    "            text = hmd_zip.read(art).decode(\"utf-8\") \n",
    "            target_sentences = harvest_sentences(text,art,regex_pattern=pattern)\n",
    "            if target_sentences:\n",
    "                rows.extend(target_sentences)\n",
    "                count+=len(target_sentences)\n",
    "                \n",
    "        df = pd.DataFrame(rows,columns=['article_path','previous_sentence','target_sentence','next_sentence','hits'])\n",
    "        df.to_csv(save_to / (zf.stem + '.csv'))\n",
    "                    \n",
    "print(count)"
   ]
  },
  {
   "cell_type": "code",
   "execution_count": null,
   "metadata": {},
   "outputs": [],
   "source": [
    "!open {save_to}"
   ]
  }
 ],
 "metadata": {
  "kernelspec": {
   "display_name": "Python 3 (ipykernel)",
   "language": "python",
   "name": "python3"
  },
  "language_info": {
   "codemirror_mode": {
    "name": "ipython",
    "version": 3
   },
   "file_extension": ".py",
   "mimetype": "text/x-python",
   "name": "python",
   "nbconvert_exporter": "python",
   "pygments_lexer": "ipython3",
   "version": "3.9.7"
  }
 },
 "nbformat": 4,
 "nbformat_minor": 2
}
