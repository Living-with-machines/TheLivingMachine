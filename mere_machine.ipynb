{
 "cells": [
  {
   "cell_type": "code",
   "execution_count": null,
   "id": "c9563290",
   "metadata": {},
   "outputs": [],
   "source": [
    "import pandas as pd\n",
    "import sklearn\n",
    "from sklearn.feature_extraction.text import TfidfVectorizer\n",
    "from nltk.corpus import stopwords\n",
    "\n",
    "import warnings\n",
    "from pandas.core.common import SettingWithCopyWarning\n",
    "warnings.simplefilter(action=\"ignore\", category=SettingWithCopyWarning)"
   ]
  },
  {
   "cell_type": "code",
   "execution_count": null,
   "id": "833e5fd9",
   "metadata": {},
   "outputs": [],
   "source": [
    "def find_mere_sents(synt, targetExp):\n",
    "    for parsed_token in synt:\n",
    "        # If \"mere\" is complementing the target expression:\n",
    "        if parsed_token[0].lower() == \"mere\" and parsed_token[3].lower() == targetExp.lower():\n",
    "            return True\n",
    "    return False"
   ]
  },
  {
   "cell_type": "code",
   "execution_count": null,
   "id": "ca35809b",
   "metadata": {},
   "outputs": [],
   "source": [
    "def find_relv_tokens(synt, tfidf):\n",
    "    tokens = [t[0] for t in synt if not t[0] in stopwords.words('english') and t[1] in [\"ADJ\", \"ADV\", \"NOUN\", \"PROPN\", \"VERB\"]]\n",
    "    return tfidf[tfidf.index.isin(tokens)].nlargest(5,'TF-IDF').index.values.tolist()"
   ]
  },
  {
   "cell_type": "code",
   "execution_count": null,
   "id": "1793b753",
   "metadata": {},
   "outputs": [],
   "source": [
    "for corpus in [\"JSA\", \"RSC\", \"HMD\", \"BLB\"]:\n",
    "    df = pd.read_pickle(\"experiments/\" + corpus.lower() + \"_clusters.pkl\")\n",
    "    df[\"fullctxt\"] = df[\"prevSentence\"] + \" \" + df[\"currentSentence\"] + \" \" + df[\"nextSentence\"]\n",
    "\n",
    "    tfIdfVectorizer=TfidfVectorizer(use_idf=True)\n",
    "    tfIdf = tfIdfVectorizer.fit_transform(df[\"currentSentence\"].values.astype('U'))\n",
    "    tfidf_df = pd.DataFrame(tfIdf[0].T.todense(), index=tfIdfVectorizer.get_feature_names(), columns=[\"TF-IDF\"])\n",
    "    tfidf_df = tfidf_df.sort_values('TF-IDF', ascending=False)\n",
    "\n",
    "    df[\"mere_sent\"] = df.apply(lambda x: find_mere_sents(x.synt, x.targetExpression), axis=1)\n",
    "    meredf = df[df[\"mere_sent\"] == True]\n",
    "    meredf[\"tfidf_top_tokens\"] = meredf.apply(lambda x: find_relv_tokens(x.synt, tfidf_df), axis=1)\n",
    "\n",
    "    df.to_csv(\"experiments/\" + corpus.lower() + \"_withmere.tsv\", sep=\"\\t\")\n",
    "    df.to_json(\"experiments/\" + corpus.lower() + \"_withmere.json\")\n",
    "    df.to_pickle(\"experiments/\" + corpus.lower() + \"_withmere.pkl\")\n",
    "\n",
    "    meredf.to_csv(\"experiments/\" + corpus.lower() + \"_onlymere.tsv\", sep=\"\\t\")\n",
    "    meredf.to_json(\"experiments/\" + corpus.lower() + \"_onlymere.json\")\n",
    "    meredf.to_pickle(\"experiments/\" + corpus.lower() + \"_onlymere.pkl\")"
   ]
  },
  {
   "cell_type": "code",
   "execution_count": null,
   "id": "42cb2aab",
   "metadata": {},
   "outputs": [],
   "source": [
    "print(\"Number of mere machines divided by all machines:\")\n",
    "for corpus in [\"JSA\", \"RSC\", \"HMD\", \"BLB\"]:\n",
    "    df = pd.read_pickle(\"experiments/\" + corpus.lower() + \"_withmere.pkl\")\n",
    "    print(\"*\", corpus + \":\\t\", round(df[df[\"mere_sent\"] == True].shape[0]/df.shape[0],6))"
   ]
  },
  {
   "cell_type": "code",
   "execution_count": null,
   "id": "4d19e496",
   "metadata": {},
   "outputs": [],
   "source": []
  }
 ],
 "metadata": {
  "kernelspec": {
   "display_name": "Python (py38_histLM)",
   "language": "python",
   "name": "py38_histlm"
  },
  "language_info": {
   "codemirror_mode": {
    "name": "ipython",
    "version": 3
   },
   "file_extension": ".py",
   "mimetype": "text/x-python",
   "name": "python",
   "nbconvert_exporter": "python",
   "pygments_lexer": "ipython3",
   "version": "3.8.10"
  }
 },
 "nbformat": 4,
 "nbformat_minor": 5
}
